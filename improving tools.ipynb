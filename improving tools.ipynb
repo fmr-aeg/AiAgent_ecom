{
 "cells": [
  {
   "cell_type": "code",
   "execution_count": 1,
   "id": "e52ae9cc-6154-4c19-bc2d-ab1c30e8155a",
   "metadata": {},
   "outputs": [],
   "source": [
    "import os\n",
    "from transformers import AutoTokenizer, AutoModelForCausalLM, pipeline, BitsAndBytesConfig\n",
    "from smolagents import CodeAgent,DuckDuckGoSearchTool, HfApiModel,load_tool, tool, TransformersModel, Model, FinalAnswerTool, LiteLLMModel, UserInputTool\n",
    "from custom_model import CustomTransformersModel\n",
    "from typing import Optional\n",
    "import torch\n",
    "import yaml\n",
    "import requests\n",
    "from json import loads, dumps"
   ]
  },
  {
   "cell_type": "code",
   "execution_count": 2,
   "id": "bd469c4e-7f65-4f3f-9704-bc1c38847f10",
   "metadata": {},
   "outputs": [],
   "source": [
    "from utils_tools import (get_price_from_product_url, search_on_amazon,\n",
    "                         ParserProductDescriptionWithGuideTool, GetProductDescriptionTool,\n",
    "                         CompareProductTool, FilterProduct, FinalAnswerTool)"
   ]
  },
  {
   "cell_type": "code",
   "execution_count": 3,
   "id": "d9ada711-c0dd-4034-8e1d-6beb9905d51e",
   "metadata": {},
   "outputs": [],
   "source": [
    "from litellm import completion"
   ]
  },
  {
   "cell_type": "code",
   "execution_count": 4,
   "id": "267d7a99-0b9c-49ed-8a13-dac549cc5521",
   "metadata": {},
   "outputs": [],
   "source": [
    "with open('secrets.yaml') as f:\n",
    "    SECRETS = yaml.safe_load(f)\n",
    "os.environ[\"HF_TOKEN\"] = SECRETS['hf_token']\n",
    "os.environ[\"GEMINI_API_KEY\"] = SECRETS['gemini_token']"
   ]
  },
  {
   "cell_type": "code",
   "execution_count": 5,
   "id": "f3535c8e-bcad-4d5b-821f-810eb89b975e",
   "metadata": {},
   "outputs": [],
   "source": [
    "model = LiteLLMModel(model_id='gemini/gemini-2.0-flash')"
   ]
  },
  {
   "cell_type": "code",
   "execution_count": 6,
   "id": "03778cb6-69ca-41e9-adb1-3de507f52769",
   "metadata": {},
   "outputs": [],
   "source": [
    "final_answer = FinalAnswerTool()"
   ]
  },
  {
   "cell_type": "code",
   "execution_count": 6,
   "id": "dad1064c-9b17-4457-b90a-79e79c376473",
   "metadata": {},
   "outputs": [],
   "source": [
    "compare_products = CompareProductTool(model)"
   ]
  },
  {
   "cell_type": "code",
   "execution_count": 20,
   "id": "212a37c7-5bf4-44c9-8fe6-125085a27ccb",
   "metadata": {},
   "outputs": [
    {
     "name": "stdout",
     "output_type": "stream",
     "text": [
      "[{'product_name': 'RCA TV 32 Pouces (80 cm) sans Bord LED HD Téléviseurs avec Triple Tuner (DVB-T/T2-C-S/S2), HDMI, CI+, Lecteur Multimédia USB, Mode Hôtel, Dolby Audio (NRB32HQ1, 2024)', 'image_url': 'https://m.media-amazon.com/images/I/71RY2UdWBWL._AC_UL320_.jpg', 'product_link': 'https://www.amazon.fr/RCA-T%C3%A9l%C3%A9viseurs-Lecteur-Multim%C3%A9dia-NRB32HQ1/dp/B0D31PQ1SH/ref=sr_1_6?dib=eyJ2IjoiMSJ9.QEUyDt9Z8vIYCGRwKsSgwkn4cvCBfn931_DqH29zif2VxWwo7tfgMS7IwZ7A2ur-OLS1eqh7MMvNADPGgyZ_uBsi73hZQKfonhNSQVs6qu2jAki0ceLboxT3DCzA0rhEUAPfjrVT78lhwRcSQoYC41Jis_NFkYiwi6nhYQ9sK6eAaw1CsQL2dhMRSTnt8JUzyQ6he4dOaO2kwBajO1SB2rieseSJYhb3WGDTT_bD0UBcP1R7nN3_dX0dS82Kt5-F-8i9cQK0ZixaipSPv5Fij7rXVE21N1kaI0qzL3xjw4M.lLMf8bTpAQ-ZXei6_oP4rIySUGfT5FKTFanLN9cjSbQ&dib_tag=se&keywords=TV&qid=1747694146&sr=8-6', 'price': '119,99 €', 'delivery_date': 'Livraison GRATUITE ven. 23 maiOu livraison accélérée jeu. 22 mai'}, {'product_name': 'Smart Tech 24HN01V3 HD LED TV 24 Pouces (60cm) Triple Tuner Dolby Audio H.265 HDMI USB, Résolution: 1366 (H) × 768 (V) Mode Hotel', 'image_url': 'https://m.media-amazon.com/images/I/81x8WbZiisL._AC_UL320_.jpg', 'product_link': 'https://www.amazon.fr/Smart-Tech-24HN01V3-Pouces-R%C3%A9solution/dp/B0DK985HGQ/ref=sr_1_7?dib=eyJ2IjoiMSJ9.QEUyDt9Z8vIYCGRwKsSgwkn4cvCBfn931_DqH29zif2VxWwo7tfgMS7IwZ7A2ur-OLS1eqh7MMvNADPGgyZ_uBsi73hZQKfonhNSQVs6qu2jAki0ceLboxT3DCzA0rhEUAPfjrVT78lhwRcSQoYC41Jis_NFkYiwi6nhYQ9sK6eAaw1CsQL2dhMRSTnt8JUzyQ6he4dOaO2kwBajO1SB2rieseSJYhb3WGDTT_bD0UBcP1R7nN3_dX0dS82Kt5-F-8i9cQK0ZixaipSPv5Fij7rXVE21N1kaI0qzL3xjw4M.lLMf8bTpAQ-ZXei6_oP4rIySUGfT5FKTFanLN9cjSbQ&dib_tag=se&keywords=TV&qid=1747694146&sr=8-7', 'price': '99,90 €', 'delivery_date': 'Livraison à 9,99\\xa0€ sam. 24 mai'}, {'product_name': '[App intégrée] Vidéoprojecteur 2025 Rétroprojecteur Portable Mini Projecteur Dual Contrôle avec Souris Android TV WiFi 6 BT5.2 180° Rotation HDMI/TV Stick/USB/PS5, avec HDMI et Souris', 'image_url': 'https://m.media-amazon.com/images/I/71CpFjB-XVL._AC_UL320_.jpg', 'product_link': 'https://www.amazon.fr/int%C3%A9gr%C3%A9e-Vid%C3%A9oprojecteur-R%C3%A9troprojecteur-Portable-Projecteur/dp/B0DCW3WZ5F/ref=sr_1_8?dib=eyJ2IjoiMSJ9.QEUyDt9Z8vIYCGRwKsSgwkn4cvCBfn931_DqH29zif2VxWwo7tfgMS7IwZ7A2ur-OLS1eqh7MMvNADPGgyZ_uBsi73hZQKfonhNSQVs6qu2jAki0ceLboxT3DCzA0rhEUAPfjrVT78lhwRcSQoYC41Jis_NFkYiwi6nhYQ9sK6eAaw1CsQL2dhMRSTnt8JUzyQ6he4dOaO2kwBajO1SB2rieseSJYhb3WGDTT_bD0UBcP1R7nN3_dX0dS82Kt5-F-8i9cQK0ZixaipSPv5Fij7rXVE21N1kaI0qzL3xjw4M.lLMf8bTpAQ-ZXei6_oP4rIySUGfT5FKTFanLN9cjSbQ&dib_tag=se&keywords=TV&qid=1747694146&sr=8-8', 'price': '79,99 €', 'delivery_date': 'Livraison GRATUITE ven. 23 maiOu livraison accélérée demain 21 mai'}, {'product_name': \"THOMSON 32'' (80 cm) HD - LED Fire TV - Commande vocale Alexa, Support AirPlay, Triple Tuner, Bluetooth, HDMI, Ports USB, AV in et CI+ - 32HF2S34-2024\", 'image_url': 'https://m.media-amazon.com/images/I/81hI2uxguNL._AC_UL320_.jpg', 'product_link': 'https://www.amazon.fr/Thomson-32-80-Bluetooth-32HF2S34-2024/dp/B0DFYLX1Y4/ref=sr_1_9?dib=eyJ2IjoiMSJ9.QEUyDt9Z8vIYCGRwKsSgwkn4cvCBfn931_DqH29zif2VxWwo7tfgMS7IwZ7A2ur-OLS1eqh7MMvNADPGgyZ_uBsi73hZQKfonhNSQVs6qu2jAki0ceLboxT3DCzA0rhEUAPfjrVT78lhwRcSQoYC41Jis_NFkYiwi6nhYQ9sK6eAaw1CsQL2dhMRSTnt8JUzyQ6he4dOaO2kwBajO1SB2rieseSJYhb3WGDTT_bD0UBcP1R7nN3_dX0dS82Kt5-F-8i9cQK0ZixaipSPv5Fij7rXVE21N1kaI0qzL3xjw4M.lLMf8bTpAQ-ZXei6_oP4rIySUGfT5FKTFanLN9cjSbQ&dib_tag=se&keywords=TV&qid=1747694146&sr=8-9', 'price': '159,00 €', 'delivery_date': 'Livraison GRATUITE ven. 23 mai'}, {'product_name': 'Samsung 55Q70D - TV QLED 55 (140 cm) - 4K UHD 3840x2160 - 120 Hz - HDR - Smart TV - Gaming HUB - 4xHDMI - WiFi', 'image_url': 'https://m.media-amazon.com/images/I/711QNu6S4IL._AC_UL320_.jpg', 'product_link': 'https://www.amazon.fr/Samsung-55Q70D-3840x2160-Gaming-4xHDMI/dp/B0CS6KXDGM/ref=sr_1_10_mod_primary_new?dib=eyJ2IjoiMSJ9.QEUyDt9Z8vIYCGRwKsSgwkn4cvCBfn931_DqH29zif2VxWwo7tfgMS7IwZ7A2ur-OLS1eqh7MMvNADPGgyZ_uBsi73hZQKfonhNSQVs6qu2jAki0ceLboxT3DCzA0rhEUAPfjrVT78lhwRcSQoYC41Jis_NFkYiwi6nhYQ9sK6eAaw1CsQL2dhMRSTnt8JUzyQ6he4dOaO2kwBajO1SB2rieseSJYhb3WGDTT_bD0UBcP1R7nN3_dX0dS82Kt5-F-8i9cQK0ZixaipSPv5Fij7rXVE21N1kaI0qzL3xjw4M.lLMf8bTpAQ-ZXei6_oP4rIySUGfT5FKTFanLN9cjSbQ&dib_tag=se&keywords=TV&qid=1747694146&sbo=RZvfv%2F%2FHxDF%2BO5021pAnSA%3D%3D&sr=8-10', 'price': '642,40 €', 'delivery_date': 'Livraison GRATUITE jeu. 22 mai'}]\n"
     ]
    }
   ],
   "source": [
    "tv_search_results = search_on_amazon(keyword=\"TV\")\n",
    "print(tv_search_results)"
   ]
  },
  {
   "cell_type": "code",
   "execution_count": 12,
   "id": "d27b9344-8dfb-45c7-b72d-3d049c725141",
   "metadata": {},
   "outputs": [],
   "source": [
    "comparison_table = compare_products(tv_search_results)"
   ]
  },
  {
   "cell_type": "code",
   "execution_count": 13,
   "id": "65d85445-b6bb-413f-ab25-3e64d827756c",
   "metadata": {},
   "outputs": [
    {
     "data": {
      "text/html": [
       "<div>\n",
       "<style scoped>\n",
       "    .dataframe tbody tr th:only-of-type {\n",
       "        vertical-align: middle;\n",
       "    }\n",
       "\n",
       "    .dataframe tbody tr th {\n",
       "        vertical-align: top;\n",
       "    }\n",
       "\n",
       "    .dataframe thead th {\n",
       "        text-align: right;\n",
       "    }\n",
       "</style>\n",
       "<table border=\"1\" class=\"dataframe\">\n",
       "  <thead>\n",
       "    <tr style=\"text-align: right;\">\n",
       "      <th></th>\n",
       "      <th>0</th>\n",
       "    </tr>\n",
       "  </thead>\n",
       "  <tbody>\n",
       "    <tr>\n",
       "      <th>0</th>\n",
       "      <td>{'product_name': 'RCA TV 32 Pouces (80 cm) LED...</td>\n",
       "    </tr>\n",
       "    <tr>\n",
       "      <th>1</th>\n",
       "      <td>{'product_name': 'Smart Tech 24HN01V3 HD LED T...</td>\n",
       "    </tr>\n",
       "    <tr>\n",
       "      <th>2</th>\n",
       "      <td>{'product_name': '[App intégrée] Vidéoprojecte...</td>\n",
       "    </tr>\n",
       "    <tr>\n",
       "      <th>3</th>\n",
       "      <td>{'product_name': 'THOMSON 32'' HD LED Fire TV ...</td>\n",
       "    </tr>\n",
       "    <tr>\n",
       "      <th>4</th>\n",
       "      <td>{'product_name': 'TD Systems Smart TV 40 Pouce...</td>\n",
       "    </tr>\n",
       "  </tbody>\n",
       "</table>\n",
       "</div>"
      ],
      "text/plain": [
       "                                                   0\n",
       "0  {'product_name': 'RCA TV 32 Pouces (80 cm) LED...\n",
       "1  {'product_name': 'Smart Tech 24HN01V3 HD LED T...\n",
       "2  {'product_name': '[App intégrée] Vidéoprojecte...\n",
       "3  {'product_name': 'THOMSON 32'' HD LED Fire TV ...\n",
       "4  {'product_name': 'TD Systems Smart TV 40 Pouce..."
      ]
     },
     "execution_count": 13,
     "metadata": {},
     "output_type": "execute_result"
    }
   ],
   "source": [
    "comparison_table"
   ]
  },
  {
   "cell_type": "code",
   "execution_count": 11,
   "id": "37f8c1d8-cc17-443b-882c-7834e3c6ae3f",
   "metadata": {},
   "outputs": [
    {
     "data": {
      "text/plain": [
       "('blabla',\n",
       "                                                    0\n",
       " 0  {'product_name': 'RCA TV 32 Pouces (80 cm) LED...\n",
       " 1  {'product_name': 'Smart Tech 24HN01V3 HD LED T...\n",
       " 2  {'product_name': 'VidéoProjecteur Portable Min...\n",
       " 3  {'product_name': 'THOMSON 32'' HD - LED Fire T...\n",
       " 4  {'product_name': 'Samsung 55Q70D - TV QLED 55 ...)"
      ]
     },
     "execution_count": 11,
     "metadata": {},
     "output_type": "execute_result"
    }
   ],
   "source": [
    "final_answer('blabla', comparison_table)"
   ]
  },
  {
   "cell_type": "code",
   "execution_count": 27,
   "id": "c87bd313-cdcc-48ca-acf7-04122abc92a8",
   "metadata": {},
   "outputs": [],
   "source": [
    "product_description = tv_search_results[0]"
   ]
  },
  {
   "cell_type": "code",
   "execution_count": 28,
   "id": "9f01cfc2-2186-4e6b-b3ff-a02bee8bf8b9",
   "metadata": {},
   "outputs": [
    {
     "data": {
      "text/plain": [
       "{'product_name': 'RCA TV 32 Pouces (80 cm) sans Bord LED HD Téléviseurs avec Triple Tuner (DVB-T/T2-C-S/S2), HDMI, CI+, Lecteur Multimédia USB, Mode Hôtel, Dolby Audio (NRB32HQ1, 2024)',\n",
       " 'image_url': 'https://m.media-amazon.com/images/I/71RY2UdWBWL._AC_UL320_.jpg',\n",
       " 'product_link': 'https://www.amazon.fr/RCA-T%C3%A9l%C3%A9viseurs-Lecteur-Multim%C3%A9dia-NRB32HQ1/dp/B0D31PQ1SH/ref=sr_1_6?dib=eyJ2IjoiMSJ9.QEUyDt9Z8vIYCGRwKsSgwkn4cvCBfn931_DqH29zif2VxWwo7tfgMS7IwZ7A2ur-OLS1eqh7MMvNADPGgyZ_uBsi73hZQKfonhNSQVs6qu2jAki0ceLboxT3DCzA0rhEUAPfjrVT78lhwRcSQoYC41Jis_NFkYiwi6nhYQ9sK6eAaw1CsQL2dhMRSTnt8JUzyQ6he4dOaO2kwBajO1SB2rieseSJYhb3WGDTT_bD0UBcP1R7nN3_dX0dS82Kt5-F-8i9cQK0ZixaipSPv5Fij7rXVE21N1kaI0qzL3xjw4M.lLMf8bTpAQ-ZXei6_oP4rIySUGfT5FKTFanLN9cjSbQ&dib_tag=se&keywords=TV&qid=1747694146&sr=8-6',\n",
       " 'price': '119,99 €',\n",
       " 'delivery_date': 'Livraison GRATUITE ven. 23 maiOu livraison accélérée jeu. 22 mai'}"
      ]
     },
     "execution_count": 28,
     "metadata": {},
     "output_type": "execute_result"
    }
   ],
   "source": [
    "product_description"
   ]
  },
  {
   "cell_type": "code",
   "execution_count": 21,
   "id": "17bbb486-aabb-4ffd-b236-3a80832257cb",
   "metadata": {},
   "outputs": [],
   "source": [
    "model = LiteLLMModel(model_id='gemini/gemini-2.0-flash')"
   ]
  },
  {
   "cell_type": "code",
   "execution_count": null,
   "id": "1dfbe5bd-d069-496f-b7d8-93d0dfe6ac9f",
   "metadata": {},
   "outputs": [],
   "source": []
  },
  {
   "cell_type": "code",
   "execution_count": 29,
   "id": "aa588dbb-016c-4cbf-9216-2a556175b018",
   "metadata": {},
   "outputs": [],
   "source": [
    "messages = [{\"role\": \"system\",\n",
    "                     \"content\": (\"Tu es un super assistant très fort pour resumer et structurer des json.\"\n",
    "                                 \"Je vais te fournir un json et tu vas faire en sorte qu'aucune valeur de clef soit superieur à 50 characère.\"\n",
    "                                 \"Tu as le droit de resumer pour conserver que les informations principales mais tu nas pas le droit de toucher les champs qui sont des urls, tu les rends tel quel sans les affecter.\"\n",
    "                                 \"Ne change pas la structure du json, il ne doit pas manquer de clef qui étaient presentent initialement ni etre renommé\"\n",
    "                                 \"concernant les champs de livraison, je veux que tu ne conserve que la date la plus courte de livraison sous le format jour mois\")},\n",
    "                    {\"role\": \"user\", \"content\": f\"met moi en forme ce json stp : {product_description}\"}]"
   ]
  },
  {
   "cell_type": "code",
   "execution_count": 33,
   "id": "159b19a1-e304-46c9-bf22-35e4c58fd67d",
   "metadata": {},
   "outputs": [
    {
     "ename": "SyntaxError",
     "evalue": "invalid character '…' (U+2026) (3676893262.py, line 1)",
     "output_type": "error",
     "traceback": [
      "  \u001b[36mCell\u001b[39m\u001b[36m \u001b[39m\u001b[32mIn[33]\u001b[39m\u001b[32m, line 1\u001b[39m\n\u001b[31m    \u001b[39m\u001b[31mres = model(messages, response_format={ \"type\": \"json_schema\", \"json_schema\": … , \"strict\": true }).content\u001b[39m\n                                                                                  ^\n\u001b[31mSyntaxError\u001b[39m\u001b[31m:\u001b[39m invalid character '…' (U+2026)\n"
     ]
    }
   ],
   "source": [
    "res = model(messages, response_format={\"type\": \"json\"}).content"
   ]
  },
  {
   "cell_type": "code",
   "execution_count": 31,
   "id": "0c3e6ee6-d489-4d09-b455-24c2aa59fc2f",
   "metadata": {},
   "outputs": [
    {
     "data": {
      "text/plain": [
       "{'product_name': 'RCA TV 32 Pouces (80 cm) sans Bord LED HD Téléviseurs avec Triple Tuner (DVB-T/T2-C-S/S2), HDMI, CI+, Lecteur Multimédia USB, Mode Hôtel, Dolby Audio (NRB32HQ1, 2024)',\n",
       " 'image_url': 'https://m.media-amazon.com/images/I/71RY2UdWBWL._AC_UL320_.jpg',\n",
       " 'product_link': 'https://www.amazon.fr/RCA-T%C3%A9l%C3%A9viseurs-Lecteur-Multim%C3%A9dia-NRB32HQ1/dp/B0D31PQ1SH/ref=sr_1_6?dib=eyJ2IjoiMSJ9.QEUyDt9Z8vIYCGRwKsSgwkn4cvCBfn931_DqH29zif2VxWwo7tfgMS7IwZ7A2ur-OLS1eqh7MMvNADPGgyZ_uBsi73hZQKfonhNSQVs6qu2jAki0ceLboxT3DCzA0rhEUAPfjrVT78lhwRcSQoYC41Jis_NFkYiwi6nhYQ9sK6eAaw1CsQL2dhMRSTnt8JUzyQ6he4dOaO2kwBajO1SB2rieseSJYhb3WGDTT_bD0UBcP1R7nN3_dX0dS82Kt5-F-8i9cQK0ZixaipSPv5Fij7rXVE21N1kaI0qzL3xjw4M.lLMf8bTpAQ-ZXei6_oP4rIySUGfT5FKTFanLN9cjSbQ&dib_tag=se&keywords=TV&qid=1747694146&sr=8-6',\n",
       " 'price': '119,99 €',\n",
       " 'delivery_date': 'Livraison GRATUITE ven. 23 maiOu livraison accélérée jeu. 22 mai'}"
      ]
     },
     "execution_count": 31,
     "metadata": {},
     "output_type": "execute_result"
    }
   ],
   "source": [
    "product_description"
   ]
  },
  {
   "cell_type": "code",
   "execution_count": 39,
   "id": "1669a5f6-5cba-45c7-88d0-ec088e7248ba",
   "metadata": {},
   "outputs": [
    {
     "data": {
      "text/plain": [
       "'```\\n{\\n  \"product_name\": \"RCA TV 32 Pouces LED HD Triple Tuner HDMI USB Dolby\",\\n  \"image_url\": \"https://m.media-amazon.com/images/I/71RY2UdWBWL._AC_UL320_.jpg\",\\n  \"product_link\": \"https://www.amazon.fr/RCA-T%C3%A9l%C3%A9viseurs-Lecteur-Multim%C3%A9dia-NRB32HQ1/dp/B0D31PQ1SH/ref=sr_1_6?dib=eyJ2IjoiMSJ9.QEUyDt9Z8vIYCGRwKsSgwkn4cvCBfn931_DqH29zif2VxWwo7tfgMS7IwZ7A2ur-OLS1eqh7MMvNADPGgyZ_uBsi73hZQKfonhNSQVs6qu2jAki0ceLboxT3DCzA0rhEUAPfjrVT78lhwRcSQoYC41Jis_NFkYiwi6nhYQ9sK6eAaw1CsQL2dhMRSTnt8JUzyQ6he4dOaO2kwBajO1SB2rieseSJYhb3WGDTT_bD0UBcP1R7nN3_dX0dS82Kt5-F-8i9cQK0ZixaipSPv5Fij7rXVE21N1kaI0qzL3xjw4M.lLMf8bTpAQ-ZXei6_oP4rIySUGfT5FKTFanLN9cjSbQ&dib_tag=se&keywords=TV&qid=1747694146&sr=8-6\",\\n  \"price\": \"119,99 €\",\\n  \"delivery_date\": \"22 mai\"\\n}\\n```'"
      ]
     },
     "execution_count": 39,
     "metadata": {},
     "output_type": "execute_result"
    }
   ],
   "source": [
    "res.replace('json', '', 1)"
   ]
  },
  {
   "cell_type": "code",
   "execution_count": null,
   "id": "64b43266-9d4c-43e1-9163-e3768be4d7ef",
   "metadata": {},
   "outputs": [],
   "source": [
    "```json\n",
    "{\n",
    "  \"product_name\": \"RCA TV 32 Pouces LED HD Triple Tuner HDMI USB Dolby\",\n",
    "  \"image_url\": \"efeffef.jpg\",\n",
    "  \"product_link\": \"feeffefe\",\n",
    "  \"price\": \"119,99 €\",\n",
    "  \"delivery_date\": \"22 mai\"\n",
    "}\n",
    "```"
   ]
  },
  {
   "cell_type": "code",
   "execution_count": 37,
   "id": "485bad5e-5f8f-4a91-9ded-abfe1ad49ef9",
   "metadata": {},
   "outputs": [
    {
     "name": "stdout",
     "output_type": "stream",
     "text": [
      "\"```json\\n{\\n  \\\"product_name\\\": \\\"RCA TV 32 Pouces LED HD Triple Tuner HDMI USB Dolby\\\",\\n  \\\"image_url\\\": \\\"https://m.media-amazon.com/images/I/71RY2UdWBWL._AC_UL320_.jpg\\\",\\n  \\\"product_link\\\": \\\"https://www.amazon.fr/RCA-T%C3%A9l%C3%A9viseurs-Lecteur-Multim%C3%A9dia-NRB32HQ1/dp/B0D31PQ1SH/ref=sr_1_6?dib=eyJ2IjoiMSJ9.QEUyDt9Z8vIYCGRwKsSgwkn4cvCBfn931_DqH29zif2VxWwo7tfgMS7IwZ7A2ur-OLS1eqh7MMvNADPGgyZ_uBsi73hZQKfonhNSQVs6qu2jAki0ceLboxT3DCzA0rhEUAPfjrVT78lhwRcSQoYC41Jis_NFkYiwi6nhYQ9sK6eAaw1CsQL2dhMRSTnt8JUzyQ6he4dOaO2kwBajO1SB2rieseSJYhb3WGDTT_bD0UBcP1R7nN3_dX0dS82Kt5-F-8i9cQK0ZixaipSPv5Fij7rXVE21N1kaI0qzL3xjw4M.lLMf8bTpAQ-ZXei6_oP4rIySUGfT5FKTFanLN9cjSbQ&dib_tag=se&keywords=TV&qid=1747694146&sr=8-6\\\",\\n  \\\"price\\\": \\\"119,99 €\\\",\\n  \\\"delivery_date\\\": \\\"22 mai\\\"\\n}\\n```\"\n"
     ]
    }
   ],
   "source": [
    "chaine_json = json.dumps(res, indent=2, ensure_ascii=False)\n",
    "print(chaine_json)"
   ]
  },
  {
   "cell_type": "code",
   "execution_count": 38,
   "id": "19df61be-194d-42b9-92e7-3811c18786c0",
   "metadata": {},
   "outputs": [
    {
     "data": {
      "text/plain": [
       "'\"```json\\\\n{\\\\n  \\\\\"product_name\\\\\": \\\\\"RCA TV 32 Pouces LED HD Triple Tuner HDMI USB Dolby\\\\\",\\\\n  \\\\\"image_url\\\\\": \\\\\"https://m.media-amazon.com/images/I/71RY2UdWBWL._AC_UL320_.jpg\\\\\",\\\\n  \\\\\"product_link\\\\\": \\\\\"https://www.amazon.fr/RCA-T%C3%A9l%C3%A9viseurs-Lecteur-Multim%C3%A9dia-NRB32HQ1/dp/B0D31PQ1SH/ref=sr_1_6?dib=eyJ2IjoiMSJ9.QEUyDt9Z8vIYCGRwKsSgwkn4cvCBfn931_DqH29zif2VxWwo7tfgMS7IwZ7A2ur-OLS1eqh7MMvNADPGgyZ_uBsi73hZQKfonhNSQVs6qu2jAki0ceLboxT3DCzA0rhEUAPfjrVT78lhwRcSQoYC41Jis_NFkYiwi6nhYQ9sK6eAaw1CsQL2dhMRSTnt8JUzyQ6he4dOaO2kwBajO1SB2rieseSJYhb3WGDTT_bD0UBcP1R7nN3_dX0dS82Kt5-F-8i9cQK0ZixaipSPv5Fij7rXVE21N1kaI0qzL3xjw4M.lLMf8bTpAQ-ZXei6_oP4rIySUGfT5FKTFanLN9cjSbQ&dib_tag=se&keywords=TV&qid=1747694146&sr=8-6\\\\\",\\\\n  \\\\\"price\\\\\": \\\\\"119,99 €\\\\\",\\\\n  \\\\\"delivery_date\\\\\": \\\\\"22 mai\\\\\"\\\\n}\\\\n```\"'"
      ]
     },
     "execution_count": 38,
     "metadata": {},
     "output_type": "execute_result"
    }
   ],
   "source": [
    "chaine_json"
   ]
  },
  {
   "cell_type": "code",
   "execution_count": 41,
   "id": "f3a6c7b9-62d8-4ad2-9342-4a8f97d57be7",
   "metadata": {},
   "outputs": [
    {
     "data": {
      "text/plain": [
       "{'product_name': 'RCA TV 32 Pouces LED HD Triple Tuner HDMI USB Dolby',\n",
       " 'image_url': 'https://m.media-amazon.com/images/I/71RY2UdWBWL._AC_UL320_.jpg',\n",
       " 'product_link': 'https://www.amazon.fr/RCA-T%C3%A9l%C3%A9viseurs-Lecteur-Multim%C3%A9dia-NRB32HQ1/dp/B0D31PQ1SH/ref=sr_1_6?dib=eyJ2IjoiMSJ9.QEUyDt9Z8vIYCGRwKsSgwkn4cvCBfn931_DqH29zif2VxWwo7tfgMS7IwZ7A2ur-OLS1eqh7MMvNADPGgyZ_uBsi73hZQKfonhNSQVs6qu2jAki0ceLboxT3DCzA0rhEUAPfjrVT78lhwRcSQoYC41Jis_NFkYiwi6nhYQ9sK6eAaw1CsQL2dhMRSTnt8JUzyQ6he4dOaO2kwBajO1SB2rieseSJYhb3WGDTT_bD0UBcP1R7nN3_dX0dS82Kt5-F-8i9cQK0ZixaipSPv5Fij7rXVE21N1kaI0qzL3xjw4M.lLMf8bTpAQ-ZXei6_oP4rIySUGfT5FKTFanLN9cjSbQ&dib_tag=se&keywords=TV&qid=1747694146&sr=8-6',\n",
       " 'price': '119,99 €',\n",
       " 'delivery_date': '22 mai'}"
      ]
     },
     "execution_count": 41,
     "metadata": {},
     "output_type": "execute_result"
    }
   ],
   "source": [
    "import json\n",
    "json.loads(res.strip('```').replace('json', '', 1))"
   ]
  },
  {
   "cell_type": "code",
   "execution_count": 44,
   "id": "ebd2137a-0186-4ca9-8270-6e40777cca49",
   "metadata": {},
   "outputs": [],
   "source": [
    "c = \"blablabla json bblalajson et json\""
   ]
  },
  {
   "cell_type": "code",
   "execution_count": 42,
   "id": "74edb885-9c25-4d31-825b-e599e9e587bb",
   "metadata": {},
   "outputs": [
    {
     "data": {
      "text/plain": [
       "'```json\\n{\\n  \"product_name\": \"RCA TV 32 Pouces LED HD Triple Tuner HDMI USB Dolby\",\\n  \"image_url\": \"https://m.media-amazon.com/images/I/71RY2UdWBWL._AC_UL320_.jpg\",\\n  \"product_link\": \"https://www.amazon.fr/RCA-T%C3%A9l%C3%A9viseurs-Lecteur-Multim%C3%A9dia-NRB32HQ1/dp/B0D31PQ1SH/ref=sr_1_6?dib=eyJ2IjoiMSJ9.QEUyDt9Z8vIYCGRwKsSgwkn4cvCBfn931_DqH29zif2VxWwo7tfgMS7IwZ7A2ur-OLS1eqh7MMvNADPGgyZ_uBsi73hZQKfonhNSQVs6qu2jAki0ceLboxT3DCzA0rhEUAPfjrVT78lhwRcSQoYC41Jis_NFkYiwi6nhYQ9sK6eAaw1CsQL2dhMRSTnt8JUzyQ6he4dOaO2kwBajO1SB2rieseSJYhb3WGDTT_bD0UBcP1R7nN3_dX0dS82Kt5-F-8i9cQK0ZixaipSPv5Fij7rXVE21N1kaI0qzL3xjw4M.lLMf8bTpAQ-ZXei6_oP4rIySUGfT5FKTFanLN9cjSbQ&dib_tag=se&keywords=TV&qid=1747694146&sr=8-6\",\\n  \"price\": \"119,99 €\",\\n  \"delivery_date\": \"22 mai\"\\n}\\n```'"
      ]
     },
     "execution_count": 42,
     "metadata": {},
     "output_type": "execute_result"
    }
   ],
   "source": [
    "res"
   ]
  },
  {
   "cell_type": "code",
   "execution_count": 7,
   "id": "b8d34f6e-4ef5-46a0-baa1-e10043b30ca4",
   "metadata": {},
   "outputs": [
    {
     "name": "stdout",
     "output_type": "stream",
     "text": [
      "Found 15 products.\n"
     ]
    }
   ],
   "source": [
    "computer_products = []                                                                                                                                                                                                                                                                                            \n",
    "for keyword in [\"computer\", \"laptop\", \"desktop\"]:                                                                                                                                                                                                                                                                 \n",
    "  products = search_on_amazon(keyword=keyword)                                                                                                                                                                                                                                                                  \n",
    "  computer_products.extend(products)                                                                                                                                                                                                                                                                            \n",
    "                                                                                                                                                                                                                                                                                                                \n",
    "print(f\"Found {len(computer_products)} products.\")     "
   ]
  },
  {
   "cell_type": "code",
   "execution_count": 13,
   "id": "9ae68363-57ab-42c7-be16-6532c81d75e2",
   "metadata": {},
   "outputs": [],
   "source": [
    "SYSTEM_PROMPT_GUIDED = \"\"\"You are an expert assistant in product information extraction.\n",
    "\n",
    "Based on a *product description* provided by the user, your job is to identify and extract the *requested attributes*, \n",
    "and organize them in a structured JSON format.\n",
    "\n",
    "Your response must **always include at minimum** the following keys, even if they are not explicitly requested:\n",
    "- \"product_name\"\n",
    "- \"image_url\"\n",
    "- \"price\"\n",
    "\n",
    "For each requested attribute:\n",
    "- If it is found in the description, provide its value.\n",
    "- If it is missing, return `\"N/A\"` as the value.\n",
    "\n",
    "Your final output must be a valid JSON object, using the exact attribute names as keys.\n",
    "\n",
    "Example:\n",
    "If the description is about a sofa and the requested attributes are [\"dimension\", \"color\", \"material\", \"convertible\"],\n",
    "your output should look like this:\n",
    "\n",
    "{\n",
    " \"product_name\": \"Oslo 3-seater Sofa\",\n",
    " \"image_url\": \"https://...\",\n",
    " \"price\": \"€499\",\n",
    " \"dimension\": \"200x90x85 cm\",\n",
    " \"color\": \"Light grey\",\n",
    " \"material\": \"Fabric and wood\",\n",
    " \"convertible\": \"Yes\"\n",
    "}\n",
    "\n",
    "Be precise, structured, and always do your best to help the customer understand the product clearly.\"\"\""
   ]
  },
  {
   "cell_type": "code",
   "execution_count": 21,
   "id": "49d6b552-d436-4715-9e5b-bcaf0ac6fced",
   "metadata": {},
   "outputs": [],
   "source": [
    "get_product_description = GetProductDescriptionTool()\n",
    "compare_products = CompareProductTool(model)\n",
    "product_description_parser_with_guide = ParserProductDescriptionWithGuideTool(model, SYSTEM_PROMPT_GUIDED)"
   ]
  },
  {
   "cell_type": "code",
   "execution_count": 16,
   "id": "0d9312fe-efd3-46c0-82e5-d6b2f986bcb6",
   "metadata": {},
   "outputs": [
    {
     "name": "stdout",
     "output_type": "stream",
     "text": [
      "Parsed details for 15 products.\n"
     ]
    }
   ],
   "source": [
    "detailed_computer_products = []                                                                                                                                                                                                                                                                                   \n",
    "features_to_extract = [\"screen size\", \"processor\", \"RAM\", \"storage\", \"operating system\"]                                                                                                                                                                                                                          \n",
    "                                                                                                                                                                                                                                                                                                                \n",
    "for product in computer_products:                                                                                                                                                                                                                                                                                 \n",
    "  product_url = product[\"product_link\"]                                                                                                                                                                                                                                                                         \n",
    "  product_description = get_product_description(product_url)                                                                                                                                                                                                                                                    \n",
    "  parsed_product = product_description_parser_with_guide(product_description, features_to_extract)                                                                                                                                                                                                               \n",
    "  detailed_computer_products.append(parsed_product)                                                                                                                                                                                                                                                             \n",
    "                                                                                                                                                                                                                                                                                                                \n",
    "print(f\"Parsed details for {len(detailed_computer_products)} products.\")   "
   ]
  },
  {
   "cell_type": "code",
   "execution_count": 23,
   "id": "81f548b8-90b1-402e-828b-d559b58ed815",
   "metadata": {},
   "outputs": [
    {
     "ename": "JSONDecodeError",
     "evalue": "Extra data: line 12 column 1 (char 333)",
     "output_type": "error",
     "traceback": [
      "\u001b[31m---------------------------------------------------------------------------\u001b[39m",
      "\u001b[31mJSONDecodeError\u001b[39m                           Traceback (most recent call last)",
      "\u001b[36mCell\u001b[39m\u001b[36m \u001b[39m\u001b[32mIn[23]\u001b[39m\u001b[32m, line 1\u001b[39m\n\u001b[32m----> \u001b[39m\u001b[32m1\u001b[39m comparison_table = \u001b[43mcompare_products\u001b[49m\u001b[43m(\u001b[49m\u001b[43mdetailed_computer_products\u001b[49m\u001b[43m)\u001b[49m\n",
      "\u001b[36mFile \u001b[39m\u001b[32m~\\PycharmProjects\\AiAgentEcom\\.venv\\Lib\\site-packages\\smolagents\\tools.py:190\u001b[39m, in \u001b[36mTool.__call__\u001b[39m\u001b[34m(self, sanitize_inputs_outputs, *args, **kwargs)\u001b[39m\n\u001b[32m    188\u001b[39m \u001b[38;5;28;01mif\u001b[39;00m sanitize_inputs_outputs:\n\u001b[32m    189\u001b[39m     args, kwargs = handle_agent_input_types(*args, **kwargs)\n\u001b[32m--> \u001b[39m\u001b[32m190\u001b[39m outputs = \u001b[38;5;28;43mself\u001b[39;49m\u001b[43m.\u001b[49m\u001b[43mforward\u001b[49m\u001b[43m(\u001b[49m\u001b[43m*\u001b[49m\u001b[43margs\u001b[49m\u001b[43m,\u001b[49m\u001b[43m \u001b[49m\u001b[43m*\u001b[49m\u001b[43m*\u001b[49m\u001b[43mkwargs\u001b[49m\u001b[43m)\u001b[49m\n\u001b[32m    191\u001b[39m \u001b[38;5;28;01mif\u001b[39;00m sanitize_inputs_outputs:\n\u001b[32m    192\u001b[39m     outputs = handle_agent_output_types(outputs, \u001b[38;5;28mself\u001b[39m.output_type)\n",
      "\u001b[36mFile \u001b[39m\u001b[32m~\\PycharmProjects\\AiAgentEcom\\utils_tools.py:357\u001b[39m, in \u001b[36mCompareProductTool.forward\u001b[39m\u001b[34m(self, list_product_element)\u001b[39m\n\u001b[32m    355\u001b[39m \u001b[38;5;28;01mdef\u001b[39;00m\u001b[38;5;250m \u001b[39m\u001b[34mforward\u001b[39m(\u001b[38;5;28mself\u001b[39m, list_product_element: \u001b[38;5;28mlist\u001b[39m[\u001b[38;5;28mdict\u001b[39m]):\n\u001b[32m    356\u001b[39m     \u001b[38;5;28;01mfor\u001b[39;00m product_index \u001b[38;5;129;01min\u001b[39;00m \u001b[38;5;28mrange\u001b[39m(\u001b[38;5;28mlen\u001b[39m(list_product_element)):\n\u001b[32m--> \u001b[39m\u001b[32m357\u001b[39m         list_product_element[product_index] = \u001b[38;5;28;43mself\u001b[39;49m\u001b[43m.\u001b[49m\u001b[43m_clean_product_info\u001b[49m\u001b[43m(\u001b[49m\u001b[43mlist_product_element\u001b[49m\u001b[43m[\u001b[49m\u001b[43mproduct_index\u001b[49m\u001b[43m]\u001b[49m\u001b[43m)\u001b[49m\n\u001b[32m    359\u001b[39m     \u001b[38;5;28;01mreturn\u001b[39;00m pd.DataFrame(list_product_element)\n",
      "\u001b[36mFile \u001b[39m\u001b[32m~\\PycharmProjects\\AiAgentEcom\\utils_tools.py:353\u001b[39m, in \u001b[36mCompareProductTool._clean_product_info\u001b[39m\u001b[34m(self, product_description)\u001b[39m\n\u001b[32m    350\u001b[39m model_output = \u001b[38;5;28mself\u001b[39m.model(messages, response_format={\u001b[33m\"\u001b[39m\u001b[33mtype\u001b[39m\u001b[33m\"\u001b[39m: \u001b[33m\"\u001b[39m\u001b[33mjson\u001b[39m\u001b[33m\"\u001b[39m}).content\n\u001b[32m    352\u001b[39m model_output = model_output.strip(\u001b[33m'\u001b[39m\u001b[33m```\u001b[39m\u001b[33m'\u001b[39m).replace(\u001b[33m'\u001b[39m\u001b[33mjson\u001b[39m\u001b[33m'\u001b[39m, \u001b[33m'\u001b[39m\u001b[33m'\u001b[39m, \u001b[32m1\u001b[39m)\n\u001b[32m--> \u001b[39m\u001b[32m353\u001b[39m \u001b[38;5;28;01mreturn\u001b[39;00m \u001b[43mjson\u001b[49m\u001b[43m.\u001b[49m\u001b[43mloads\u001b[49m\u001b[43m(\u001b[49m\u001b[43mmodel_output\u001b[49m\u001b[43m)\u001b[49m\n",
      "\u001b[36mFile \u001b[39m\u001b[32m~\\AppData\\Local\\Programs\\Python\\Python311\\Lib\\json\\__init__.py:346\u001b[39m, in \u001b[36mloads\u001b[39m\u001b[34m(s, cls, object_hook, parse_float, parse_int, parse_constant, object_pairs_hook, **kw)\u001b[39m\n\u001b[32m    341\u001b[39m     s = s.decode(detect_encoding(s), \u001b[33m'\u001b[39m\u001b[33msurrogatepass\u001b[39m\u001b[33m'\u001b[39m)\n\u001b[32m    343\u001b[39m \u001b[38;5;28;01mif\u001b[39;00m (\u001b[38;5;28mcls\u001b[39m \u001b[38;5;129;01mis\u001b[39;00m \u001b[38;5;28;01mNone\u001b[39;00m \u001b[38;5;129;01mand\u001b[39;00m object_hook \u001b[38;5;129;01mis\u001b[39;00m \u001b[38;5;28;01mNone\u001b[39;00m \u001b[38;5;129;01mand\u001b[39;00m\n\u001b[32m    344\u001b[39m         parse_int \u001b[38;5;129;01mis\u001b[39;00m \u001b[38;5;28;01mNone\u001b[39;00m \u001b[38;5;129;01mand\u001b[39;00m parse_float \u001b[38;5;129;01mis\u001b[39;00m \u001b[38;5;28;01mNone\u001b[39;00m \u001b[38;5;129;01mand\u001b[39;00m\n\u001b[32m    345\u001b[39m         parse_constant \u001b[38;5;129;01mis\u001b[39;00m \u001b[38;5;28;01mNone\u001b[39;00m \u001b[38;5;129;01mand\u001b[39;00m object_pairs_hook \u001b[38;5;129;01mis\u001b[39;00m \u001b[38;5;28;01mNone\u001b[39;00m \u001b[38;5;129;01mand\u001b[39;00m \u001b[38;5;129;01mnot\u001b[39;00m kw):\n\u001b[32m--> \u001b[39m\u001b[32m346\u001b[39m     \u001b[38;5;28;01mreturn\u001b[39;00m \u001b[43m_default_decoder\u001b[49m\u001b[43m.\u001b[49m\u001b[43mdecode\u001b[49m\u001b[43m(\u001b[49m\u001b[43ms\u001b[49m\u001b[43m)\u001b[49m\n\u001b[32m    347\u001b[39m \u001b[38;5;28;01mif\u001b[39;00m \u001b[38;5;28mcls\u001b[39m \u001b[38;5;129;01mis\u001b[39;00m \u001b[38;5;28;01mNone\u001b[39;00m:\n\u001b[32m    348\u001b[39m     \u001b[38;5;28mcls\u001b[39m = JSONDecoder\n",
      "\u001b[36mFile \u001b[39m\u001b[32m~\\AppData\\Local\\Programs\\Python\\Python311\\Lib\\json\\decoder.py:340\u001b[39m, in \u001b[36mJSONDecoder.decode\u001b[39m\u001b[34m(self, s, _w)\u001b[39m\n\u001b[32m    338\u001b[39m end = _w(s, end).end()\n\u001b[32m    339\u001b[39m \u001b[38;5;28;01mif\u001b[39;00m end != \u001b[38;5;28mlen\u001b[39m(s):\n\u001b[32m--> \u001b[39m\u001b[32m340\u001b[39m     \u001b[38;5;28;01mraise\u001b[39;00m JSONDecodeError(\u001b[33m\"\u001b[39m\u001b[33mExtra data\u001b[39m\u001b[33m\"\u001b[39m, s, end)\n\u001b[32m    341\u001b[39m \u001b[38;5;28;01mreturn\u001b[39;00m obj\n",
      "\u001b[31mJSONDecodeError\u001b[39m: Extra data: line 12 column 1 (char 333)"
     ]
    }
   ],
   "source": [
    "comparison_table = compare_products(detailed_computer_products)"
   ]
  },
  {
   "cell_type": "code",
   "execution_count": 46,
   "id": "d8cf1700-29b1-40de-8424-a42730a1fe8b",
   "metadata": {},
   "outputs": [],
   "source": [
    "import json\n",
    "\n",
    "def _clean_product_info(product_description: dict):\n",
    "    messages = [{\"role\": \"system\",\n",
    "                 \"content\": (\"Tu es un super assistant très fort pour resumer et structurer des json.\"\n",
    "                             \"Je vais te fournir un json et tu vas faire en sorte qu'aucune valeur de clef soit superieur à 50 characère.\"\n",
    "                             \"Tu as le droit de resumer pour conserver que les informations principales mais tu nas pas le droit de toucher les champs qui sont des urls, tu les rends tel quel sans les affecter.\"\n",
    "                             \"Ne change pas la structure du json, il ne doit pas manquer de clef qui étaient presentent initialement ni etre renommé\"\n",
    "                             \"concernant les champs de livraison, je veux que tu ne conserve que la date la plus courte de livraison sous le format jour mois\")},\n",
    "                {\"role\": \"user\", \"content\": f\"met moi en forme ce json stp : {product_description}\"}]\n",
    "    model_output = model(messages, response_format={\"type\": \"json\"}).content\n",
    "\n",
    "    print(model_output)\n",
    "    \n",
    "    model_output = model_output.strip('```').replace('json', '', 1)\n",
    "    \n",
    "    print(model_output)\n",
    "    return json.loads(model_output)"
   ]
  },
  {
   "cell_type": "code",
   "execution_count": 47,
   "id": "f318c567-fa21-4f9d-a747-10a5920163d1",
   "metadata": {},
   "outputs": [],
   "source": [
    "list_product_element = []"
   ]
  },
  {
   "cell_type": "code",
   "execution_count": 49,
   "id": "150fa089-f9e9-4c52-8f30-d8832ecd21d2",
   "metadata": {
    "scrolled": true
   },
   "outputs": [
    {
     "name": "stdout",
     "output_type": "stream",
     "text": [
      "```json\n",
      "{\n",
      "  \"product_name\": \"Ordinateur Portable 14,1\\\" Celeron Dual-Core\",\n",
      "  \"image_url\": \"https://m.media-amazon.com/images/I/71lKWcPSzqL.__AC_SX300_SY300_QL70_ML2_.jpg\",\n",
      "  \"price\": \"189,99€\",\n",
      "  \"screen_size\": \"14.1 inches\",\n",
      "  \"processor\": \"N4000 Celeron Dual-Core\",\n",
      "  \"RAM\": \"6 Go\",\n",
      "  \"storage\": \"128 Go de SSD\",\n",
      "  \"operating system\": \"N/A\"\n",
      "}\n",
      "```\n",
      "\n",
      "{\n",
      "  \"product_name\": \"Ordinateur Portable 14,1\\\" Celeron Dual-Core\",\n",
      "  \"image_url\": \"https://m.media-amazon.com/images/I/71lKWcPSzqL.__AC_SX300_SY300_QL70_ML2_.jpg\",\n",
      "  \"price\": \"189,99€\",\n",
      "  \"screen_size\": \"14.1 inches\",\n",
      "  \"processor\": \"N4000 Celeron Dual-Core\",\n",
      "  \"RAM\": \"6 Go\",\n",
      "  \"storage\": \"128 Go de SSD\",\n",
      "  \"operating system\": \"N/A\"\n",
      "}\n",
      "\n",
      "```json\n",
      "{\n",
      "  \"product_name\": \"PINSTONE PC Portable 16 Go RAM 512 Go SSD 15,6 Pouces\",\n",
      "  \"image_url\": \"https://m.media-amazon.com/images/I/71E2qZw2xuL.__AC_SX300_SY300_QL70_ML2_.jpg\",\n",
      "  \"price\": \"230,00€\",\n",
      "  \"screen_size\": \"15,6 pouces\",\n",
      "  \"processor\": \"Celeron N5095\",\n",
      "  \"RAM\": \"16 Go\",\n",
      "  \"storage\": \"512 Go SSD\",\n",
      "  \"operating_system\": \"N/A\"\n",
      "}\n",
      "```\n",
      "\n",
      "{\n",
      "  \"product_name\": \"PINSTONE PC Portable 16 Go RAM 512 Go SSD 15,6 Pouces\",\n",
      "  \"image_url\": \"https://m.media-amazon.com/images/I/71E2qZw2xuL.__AC_SX300_SY300_QL70_ML2_.jpg\",\n",
      "  \"price\": \"230,00€\",\n",
      "  \"screen_size\": \"15,6 pouces\",\n",
      "  \"processor\": \"Celeron N5095\",\n",
      "  \"RAM\": \"16 Go\",\n",
      "  \"storage\": \"512 Go SSD\",\n",
      "  \"operating_system\": \"N/A\"\n",
      "}\n",
      "\n",
      "```json\n",
      "{\n",
      "  \"product_name\": \"Bundle PC Dell i5/SSD/Win11/Ecran 22''/Clavier Souris\",\n",
      "  \"image_url\": \"https://m.media-amazon.com/images/I/41qxOdWoJbL.__AC_SX300_SY300_QL70_ML2_.jpg\",\n",
      "  \"price\": \"175,00€\",\n",
      "  \"screen size\": \"22''\",\n",
      "  \"processor\": \"Intel i5\",\n",
      "  \"RAM\": \"8 Go\",\n",
      "  \"storage\": \"SSD 240 Go\",\n",
      "  \"operating system\": \"Windows 11 PRO\"\n",
      "}\n",
      "```\n",
      "\n",
      "{\n",
      "  \"product_name\": \"Bundle PC Dell i5/SSD/Win11/Ecran 22''/Clavier Souris\",\n",
      "  \"image_url\": \"https://m.media-amazon.com/images/I/41qxOdWoJbL.__AC_SX300_SY300_QL70_ML2_.jpg\",\n",
      "  \"price\": \"175,00€\",\n",
      "  \"screen size\": \"22''\",\n",
      "  \"processor\": \"Intel i5\",\n",
      "  \"RAM\": \"8 Go\",\n",
      "  \"storage\": \"SSD 240 Go\",\n",
      "  \"operating system\": \"Windows 11 PRO\"\n",
      "}\n",
      "\n",
      "```json\n",
      "{\n",
      "  \"product_name\": \"Lenovo PC Bureau Intel i5, 16Go RAM, 512Go SSD\",\n",
      "  \"image_url\": \"https://m.media-amazon.com/images/I/61CXTQSZQiL.__AC_SX300_SY300_QL70_ML2_.jpg\",\n",
      "  \"price\": \"159,00€\",\n",
      "  \"screen size\": \"N/A\",\n",
      "  \"processor\": \"Intel i5\",\n",
      "  \"RAM\": \"16 Go\",\n",
      "  \"storage\": \"512 Go SSD\",\n",
      "  \"operating system\": \"Windows 11 Pro\"\n",
      "}\n",
      "```\n",
      "\n",
      "{\n",
      "  \"product_name\": \"Lenovo PC Bureau Intel i5, 16Go RAM, 512Go SSD\",\n",
      "  \"image_url\": \"https://m.media-amazon.com/images/I/61CXTQSZQiL.__AC_SX300_SY300_QL70_ML2_.jpg\",\n",
      "  \"price\": \"159,00€\",\n",
      "  \"screen size\": \"N/A\",\n",
      "  \"processor\": \"Intel i5\",\n",
      "  \"RAM\": \"16 Go\",\n",
      "  \"storage\": \"512 Go SSD\",\n",
      "  \"operating system\": \"Windows 11 Pro\"\n",
      "}\n",
      "\n",
      "```json\n",
      "{\n",
      "  \"product_name\": \"HP PC 8200 I5 3,1Ghz 8Go RAM 240Go SSD + Ecran\",\n",
      "  \"image_url\": \"https://m.media-amazon.com/images/I/41sDZdVE1AL.__AC_SY300_SX300_QL70_ML2_.jpg\",\n",
      "  \"price\": \"186,00€\",\n",
      "  \"screen_size\": \"N/A\",\n",
      "  \"processor\": \"Intel Core I5-2400 Quad Core\",\n",
      "  \"RAM\": \"8 GB\",\n",
      "  \"storage\": \"240 GB SSD\",\n",
      "  \"operating_system\": \"WINDOWS 10 PRO\"\n",
      "}\n",
      "```\n",
      "\n",
      "{\n",
      "  \"product_name\": \"HP PC 8200 I5 3,1Ghz 8Go RAM 240Go SSD + Ecran\",\n",
      "  \"image_url\": \"https://m.media-amazon.com/images/I/41sDZdVE1AL.__AC_SY300_SX300_QL70_ML2_.jpg\",\n",
      "  \"price\": \"186,00€\",\n",
      "  \"screen_size\": \"N/A\",\n",
      "  \"processor\": \"Intel Core I5-2400 Quad Core\",\n",
      "  \"RAM\": \"8 GB\",\n",
      "  \"storage\": \"240 GB SSD\",\n",
      "  \"operating_system\": \"WINDOWS 10 PRO\"\n",
      "}\n",
      "\n",
      "```json\n",
      "{\n",
      "  \"product_name\": \"PC Portable 15.6\\\" - 16 Go RAM, 512 Go SSD, Quad Core N95\",\n",
      "  \"image_url\": \"https://m.media-amazon.com/images/I/71bRc-HTwoL.__AC_SY300_SX300_QL70_ML2_.jpg\",\n",
      "  \"price\": \"223,76€\",\n",
      "  \"screen_size\": \"15.6 inches\",\n",
      "  \"processor\": \"Alder Lake N95\",\n",
      "  \"RAM\": \"16 GB\",\n",
      "  \"storage\": \"512 Go SSD\",\n",
      "  \"operating_system\": \"N/A\"\n",
      "}\n",
      "```\n",
      "\n",
      "{\n",
      "  \"product_name\": \"PC Portable 15.6\\\" - 16 Go RAM, 512 Go SSD, Quad Core N95\",\n",
      "  \"image_url\": \"https://m.media-amazon.com/images/I/71bRc-HTwoL.__AC_SY300_SX300_QL70_ML2_.jpg\",\n",
      "  \"price\": \"223,76€\",\n",
      "  \"screen_size\": \"15.6 inches\",\n",
      "  \"processor\": \"Alder Lake N95\",\n",
      "  \"RAM\": \"16 GB\",\n",
      "  \"storage\": \"512 Go SSD\",\n",
      "  \"operating_system\": \"N/A\"\n",
      "}\n",
      "\n",
      "```json\n",
      "{\n",
      "  \"product_name\": \"Ordinateur Portable 14,1\\\" 6 Go RAM, 128 Go SSD\",\n",
      "  \"image_url\": \"https://m.media-amazon.com/images/I/71lKWcPSzqL.__AC_SX300_SY300_QL70_ML2_.jpg\",\n",
      "  \"price\": \"189,99€\",\n",
      "  \"screen_size\": \"14.1 inches\",\n",
      "  \"processor\": \"N4000 Celeron Dual-Core\",\n",
      "  \"RAM\": \"6 Go\",\n",
      "  \"storage\": \"128 Go de SSD\",\n",
      "  \"operating system\": \"N/A\"\n",
      "}\n",
      "```\n",
      "\n",
      "{\n",
      "  \"product_name\": \"Ordinateur Portable 14,1\\\" 6 Go RAM, 128 Go SSD\",\n",
      "  \"image_url\": \"https://m.media-amazon.com/images/I/71lKWcPSzqL.__AC_SX300_SY300_QL70_ML2_.jpg\",\n",
      "  \"price\": \"189,99€\",\n",
      "  \"screen_size\": \"14.1 inches\",\n",
      "  \"processor\": \"N4000 Celeron Dual-Core\",\n",
      "  \"RAM\": \"6 Go\",\n",
      "  \"storage\": \"128 Go de SSD\",\n",
      "  \"operating system\": \"N/A\"\n",
      "}\n",
      "\n",
      "```json\n",
      "{\n",
      "  \"product_name\": \"Ordinateur Portable 11.6 6Go RAM 128Go SSD Celeron N4020\",\n",
      "  \"image_url\": \"https://m.media-amazon.com/images/I/71fh1TrmmpL.__AC_SX300_SY300_QL70_ML2_.jpg\",\n",
      "  \"price\": \"165,99€\",\n",
      "  \"screen_size\": \"11.6 pouces\",\n",
      "  \"processor\": \"Celeron N4020\",\n",
      "  \"RAM\": \"6 Go\",\n",
      "  \"storage\": \"128 Go SSD\",\n",
      "  \"operating_system\": \"N/A\"\n",
      "}\n",
      "```\n",
      "\n",
      "{\n",
      "  \"product_name\": \"Ordinateur Portable 11.6 6Go RAM 128Go SSD Celeron N4020\",\n",
      "  \"image_url\": \"https://m.media-amazon.com/images/I/71fh1TrmmpL.__AC_SX300_SY300_QL70_ML2_.jpg\",\n",
      "  \"price\": \"165,99€\",\n",
      "  \"screen_size\": \"11.6 pouces\",\n",
      "  \"processor\": \"Celeron N4020\",\n",
      "  \"RAM\": \"6 Go\",\n",
      "  \"storage\": \"128 Go SSD\",\n",
      "  \"operating_system\": \"N/A\"\n",
      "}\n",
      "\n",
      "```json\n",
      "{\n",
      "  \"product_name\": \"Acer Aspire 1 A115-32-C3AK 15,6'' Full HD\",\n",
      "  \"image_url\": \"https://m.media-amazon.com/images/I/81PoGjMMHWL.__AC_SY300_SX300_QL70_ML2_.jpg\",\n",
      "  \"price\": \"299,00€\",\n",
      "  \"screen size\": \"15.6 inches\",\n",
      "  \"processor\": \"Intel Celeron N4500\",\n",
      "  \"RAM\": \"4 Go\",\n",
      "  \"storage\": \"128 Go eMMC\",\n",
      "  \"operating system\": \"Windows 11\"\n",
      "}\n",
      "```\n",
      "\n",
      "{\n",
      "  \"product_name\": \"Acer Aspire 1 A115-32-C3AK 15,6'' Full HD\",\n",
      "  \"image_url\": \"https://m.media-amazon.com/images/I/81PoGjMMHWL.__AC_SY300_SX300_QL70_ML2_.jpg\",\n",
      "  \"price\": \"299,00€\",\n",
      "  \"screen size\": \"15.6 inches\",\n",
      "  \"processor\": \"Intel Celeron N4500\",\n",
      "  \"RAM\": \"4 Go\",\n",
      "  \"storage\": \"128 Go eMMC\",\n",
      "  \"operating system\": \"Windows 11\"\n",
      "}\n",
      "\n",
      "```json\n",
      "{\n",
      "  \"product_name\": \"ACER Chromebook 314 CBOA314-1H-C8XY\",\n",
      "  \"image_url\": \"https://m.media-amazon.com/images/I/61kR09WIGkL.__AC_SY300_SX300_QL70_ML2_.jpg\",\n",
      "  \"price\": \"199,00€\",\n",
      "  \"screen_size\": \"14 pouces\",\n",
      "  \"processor\": \"Intel Celeron N4500\",\n",
      "  \"RAM\": \"4 Go\",\n",
      "  \"storage\": \"128 Go eMMC\",\n",
      "  \"operating_system\": \"Chrome OS\"\n",
      "}\n",
      "```\n",
      "\n",
      "{\n",
      "  \"product_name\": \"ACER Chromebook 314 CBOA314-1H-C8XY\",\n",
      "  \"image_url\": \"https://m.media-amazon.com/images/I/61kR09WIGkL.__AC_SY300_SX300_QL70_ML2_.jpg\",\n",
      "  \"price\": \"199,00€\",\n",
      "  \"screen_size\": \"14 pouces\",\n",
      "  \"processor\": \"Intel Celeron N4500\",\n",
      "  \"RAM\": \"4 Go\",\n",
      "  \"storage\": \"128 Go eMMC\",\n",
      "  \"operating_system\": \"Chrome OS\"\n",
      "}\n",
      "\n",
      "```json\n",
      "{\n",
      "  \"product_name\": \"PC Desktop I5 DELL 7010 SFF (i5-3470, 16 Go RAM, SSD 240 Go)\",\n",
      "  \"image_url\": \"https://m.media-amazon.com/images/I/61ojZjjebtL.__AC_SX300_SY300_QL70_ML2_.jpg\",\n",
      "  \"price\": \"100,00€\",\n",
      "  \"screen size\": \"N/A\",\n",
      "  \"processor\": \"Intel Core i5-3470- 3.2 GHz\",\n",
      "  \"RAM\": \"16 Go\",\n",
      "  \"storage\": \"SSD 240 Go\",\n",
      "  \"operating system\": \"Windows 10 Pro\"\n",
      "}\n",
      "```\n",
      "\n",
      "{\n",
      "  \"product_name\": \"PC Desktop I5 DELL 7010 SFF (i5-3470, 16 Go RAM, SSD 240 Go)\",\n",
      "  \"image_url\": \"https://m.media-amazon.com/images/I/61ojZjjebtL.__AC_SX300_SY300_QL70_ML2_.jpg\",\n",
      "  \"price\": \"100,00€\",\n",
      "  \"screen size\": \"N/A\",\n",
      "  \"processor\": \"Intel Core i5-3470- 3.2 GHz\",\n",
      "  \"RAM\": \"16 Go\",\n",
      "  \"storage\": \"SSD 240 Go\",\n",
      "  \"operating system\": \"Windows 10 Pro\"\n",
      "}\n",
      "\n",
      "```json\n",
      "{\n",
      "  \"product_name\": \"HP EliteDesk 800 G3 SFF - Intel Core i5-6500\",\n",
      "  \"image_url\": \"https://m.media-amazon.com/images/I/71axDfgch1L.__AC_SY300_SX300_QL70_ML2_.jpg\",\n",
      "  \"price\": \"120,00€\",\n",
      "  \"screen size\": \"N/A\",\n",
      "  \"processor\": \"Intel Core i5-6500 @ 3,2 GHz\",\n",
      "  \"RAM\": \"8 Go DDR4\",\n",
      "  \"storage\": \"SSD 256 Go\",\n",
      "  \"operating system\": \"Windows 10 Professional\"\n",
      "}\n",
      "```\n",
      "\n",
      "{\n",
      "  \"product_name\": \"HP EliteDesk 800 G3 SFF - Intel Core i5-6500\",\n",
      "  \"image_url\": \"https://m.media-amazon.com/images/I/71axDfgch1L.__AC_SY300_SX300_QL70_ML2_.jpg\",\n",
      "  \"price\": \"120,00€\",\n",
      "  \"screen size\": \"N/A\",\n",
      "  \"processor\": \"Intel Core i5-6500 @ 3,2 GHz\",\n",
      "  \"RAM\": \"8 Go DDR4\",\n",
      "  \"storage\": \"SSD 256 Go\",\n",
      "  \"operating system\": \"Windows 10 Professional\"\n",
      "}\n",
      "\n",
      "```json\n",
      "{\n",
      "  \"product_name\": \"HYPER BYTE Office Pc - Intel i7, 32 Go RAM, 1 To SSD\",\n",
      "  \"image_url\": \"https://m.media-amazon.com/images/I/71KUhY56TKL.__AC_SX300_SY300_QL70_ML2_.jpg\",\n",
      "  \"price\": \"359,90€\",\n",
      "  \"screen_size\": \"N/A\",\n",
      "  \"processor\": \"Intel Quad Core i7\",\n",
      "  \"RAM\": \"32 Go\",\n",
      "  \"storage\": \"1 to SSD\",\n",
      "  \"operating_system\": \"Windows 11 Pro\"\n",
      "}\n",
      "```\n",
      "\n",
      "{\n",
      "  \"product_name\": \"HYPER BYTE Office Pc - Intel i7, 32 Go RAM, 1 To SSD\",\n",
      "  \"image_url\": \"https://m.media-amazon.com/images/I/71KUhY56TKL.__AC_SX300_SY300_QL70_ML2_.jpg\",\n",
      "  \"price\": \"359,90€\",\n",
      "  \"screen_size\": \"N/A\",\n",
      "  \"processor\": \"Intel Quad Core i7\",\n",
      "  \"RAM\": \"32 Go\",\n",
      "  \"storage\": \"1 to SSD\",\n",
      "  \"operating_system\": \"Windows 11 Pro\"\n",
      "}\n",
      "\n",
      "```json\n",
      "{\n",
      "  \"product_name\": \"NiPoGi E2 Mini PC W-11 Pro, Intel Alder Lake-N97\",\n",
      "  \"image_url\": \"https://m.media-amazon.com/images/I/61M4SXGZziL.__AC_SX300_SY300_QL70_ML2_.jpg\",\n",
      "  \"price\": \"189,31€\",\n",
      "  \"screen_size\": \"N/A\",\n",
      "  \"processor\": \"Intel Alder Lake-N97\",\n",
      "  \"RAM\": \"16 Go DDR4\",\n",
      "  \"storage\": \"512 Go M.2 SSD\",\n",
      "  \"operating system\": \"W-11 Pro\"\n",
      "}\n",
      "```\n",
      "\n",
      "\n",
      "{\n",
      "  \"product_name\": \"NiPoGi E2 Mini PC W-11 Pro, Intel Alder Lake-N97\",\n",
      "  \"image_url\": \"https://m.media-amazon.com/images/I/61M4SXGZziL.__AC_SX300_SY300_QL70_ML2_.jpg\",\n",
      "  \"price\": \"189,31€\",\n",
      "  \"screen_size\": \"N/A\",\n",
      "  \"processor\": \"Intel Alder Lake-N97\",\n",
      "  \"RAM\": \"16 Go DDR4\",\n",
      "  \"storage\": \"512 Go M.2 SSD\",\n",
      "  \"operating system\": \"W-11 Pro\"\n",
      "}\n",
      "```\n",
      "\n"
     ]
    },
    {
     "ename": "JSONDecodeError",
     "evalue": "Extra data: line 12 column 1 (char 344)",
     "output_type": "error",
     "traceback": [
      "\u001b[31m---------------------------------------------------------------------------\u001b[39m",
      "\u001b[31mJSONDecodeError\u001b[39m                           Traceback (most recent call last)",
      "\u001b[36mCell\u001b[39m\u001b[36m \u001b[39m\u001b[32mIn[49]\u001b[39m\u001b[32m, line 2\u001b[39m\n\u001b[32m      1\u001b[39m \u001b[38;5;28;01mfor\u001b[39;00m product_index \u001b[38;5;129;01min\u001b[39;00m \u001b[38;5;28mrange\u001b[39m(\u001b[38;5;28mlen\u001b[39m(detailed_computer_products)):\n\u001b[32m----> \u001b[39m\u001b[32m2\u001b[39m     list_product_element.append(\u001b[43m_clean_product_info\u001b[49m\u001b[43m(\u001b[49m\u001b[43mdetailed_computer_products\u001b[49m\u001b[43m[\u001b[49m\u001b[43mproduct_index\u001b[49m\u001b[43m]\u001b[49m\u001b[43m)\u001b[49m)\n",
      "\u001b[36mCell\u001b[39m\u001b[36m \u001b[39m\u001b[32mIn[46]\u001b[39m\u001b[32m, line 18\u001b[39m, in \u001b[36m_clean_product_info\u001b[39m\u001b[34m(product_description)\u001b[39m\n\u001b[32m     15\u001b[39m model_output = model_output.strip(\u001b[33m'\u001b[39m\u001b[33m```\u001b[39m\u001b[33m'\u001b[39m).replace(\u001b[33m'\u001b[39m\u001b[33mjson\u001b[39m\u001b[33m'\u001b[39m, \u001b[33m'\u001b[39m\u001b[33m'\u001b[39m, \u001b[32m1\u001b[39m)\n\u001b[32m     17\u001b[39m \u001b[38;5;28mprint\u001b[39m(model_output)\n\u001b[32m---> \u001b[39m\u001b[32m18\u001b[39m \u001b[38;5;28;01mreturn\u001b[39;00m \u001b[43mjson\u001b[49m\u001b[43m.\u001b[49m\u001b[43mloads\u001b[49m\u001b[43m(\u001b[49m\u001b[43mmodel_output\u001b[49m\u001b[43m)\u001b[49m\n",
      "\u001b[36mFile \u001b[39m\u001b[32m~\\AppData\\Local\\Programs\\Python\\Python311\\Lib\\json\\__init__.py:346\u001b[39m, in \u001b[36mloads\u001b[39m\u001b[34m(s, cls, object_hook, parse_float, parse_int, parse_constant, object_pairs_hook, **kw)\u001b[39m\n\u001b[32m    341\u001b[39m     s = s.decode(detect_encoding(s), \u001b[33m'\u001b[39m\u001b[33msurrogatepass\u001b[39m\u001b[33m'\u001b[39m)\n\u001b[32m    343\u001b[39m \u001b[38;5;28;01mif\u001b[39;00m (\u001b[38;5;28mcls\u001b[39m \u001b[38;5;129;01mis\u001b[39;00m \u001b[38;5;28;01mNone\u001b[39;00m \u001b[38;5;129;01mand\u001b[39;00m object_hook \u001b[38;5;129;01mis\u001b[39;00m \u001b[38;5;28;01mNone\u001b[39;00m \u001b[38;5;129;01mand\u001b[39;00m\n\u001b[32m    344\u001b[39m         parse_int \u001b[38;5;129;01mis\u001b[39;00m \u001b[38;5;28;01mNone\u001b[39;00m \u001b[38;5;129;01mand\u001b[39;00m parse_float \u001b[38;5;129;01mis\u001b[39;00m \u001b[38;5;28;01mNone\u001b[39;00m \u001b[38;5;129;01mand\u001b[39;00m\n\u001b[32m    345\u001b[39m         parse_constant \u001b[38;5;129;01mis\u001b[39;00m \u001b[38;5;28;01mNone\u001b[39;00m \u001b[38;5;129;01mand\u001b[39;00m object_pairs_hook \u001b[38;5;129;01mis\u001b[39;00m \u001b[38;5;28;01mNone\u001b[39;00m \u001b[38;5;129;01mand\u001b[39;00m \u001b[38;5;129;01mnot\u001b[39;00m kw):\n\u001b[32m--> \u001b[39m\u001b[32m346\u001b[39m     \u001b[38;5;28;01mreturn\u001b[39;00m \u001b[43m_default_decoder\u001b[49m\u001b[43m.\u001b[49m\u001b[43mdecode\u001b[49m\u001b[43m(\u001b[49m\u001b[43ms\u001b[49m\u001b[43m)\u001b[49m\n\u001b[32m    347\u001b[39m \u001b[38;5;28;01mif\u001b[39;00m \u001b[38;5;28mcls\u001b[39m \u001b[38;5;129;01mis\u001b[39;00m \u001b[38;5;28;01mNone\u001b[39;00m:\n\u001b[32m    348\u001b[39m     \u001b[38;5;28mcls\u001b[39m = JSONDecoder\n",
      "\u001b[36mFile \u001b[39m\u001b[32m~\\AppData\\Local\\Programs\\Python\\Python311\\Lib\\json\\decoder.py:340\u001b[39m, in \u001b[36mJSONDecoder.decode\u001b[39m\u001b[34m(self, s, _w)\u001b[39m\n\u001b[32m    338\u001b[39m end = _w(s, end).end()\n\u001b[32m    339\u001b[39m \u001b[38;5;28;01mif\u001b[39;00m end != \u001b[38;5;28mlen\u001b[39m(s):\n\u001b[32m--> \u001b[39m\u001b[32m340\u001b[39m     \u001b[38;5;28;01mraise\u001b[39;00m JSONDecodeError(\u001b[33m\"\u001b[39m\u001b[33mExtra data\u001b[39m\u001b[33m\"\u001b[39m, s, end)\n\u001b[32m    341\u001b[39m \u001b[38;5;28;01mreturn\u001b[39;00m obj\n",
      "\u001b[31mJSONDecodeError\u001b[39m: Extra data: line 12 column 1 (char 344)"
     ]
    }
   ],
   "source": [
    "for product_index in range(len(detailed_computer_products)):\n",
    "    list_product_element.append(_clean_product_info(detailed_computer_products[product_index]))"
   ]
  },
  {
   "cell_type": "code",
   "execution_count": 39,
   "id": "54118359-68d4-4648-a554-dbf44427f318",
   "metadata": {},
   "outputs": [
    {
     "data": {
      "text/plain": [
       "6"
      ]
     },
     "execution_count": 39,
     "metadata": {},
     "output_type": "execute_result"
    }
   ],
   "source": [
    "product_index"
   ]
  },
  {
   "cell_type": "code",
   "execution_count": 43,
   "id": "e615c2a3-058e-4126-bdc3-63cb583c0769",
   "metadata": {},
   "outputs": [],
   "source": [
    "t = \"\"\"{\n",
    "  \"product_name\": \"PINSTONE PC Portable 16 Go RAM 512 Go SSD 15,6\\\"\",\n",
    "  \"image_url\": \"https://m.media-amazon.com/images/I/71E2qZw2xuL.__AC_SX300_SY300_QL70_ML2_.jpg\",\n",
    "  \"price\": \"230,00€\",\n",
    "  \"screen size\": \"15,6 pouces\",\n",
    "  \"processor\": \"Celeron N5095\",\n",
    "  \"RAM\": \"16 Go\",\n",
    "  \"storage\": \"512 Go SSD\",\n",
    "  \"operating system\": \"N/A\"\n",
    "}\n",
    "```\"\"\""
   ]
  },
  {
   "cell_type": "code",
   "execution_count": 45,
   "id": "0957a23a-8526-4f37-9eff-28d6ce268500",
   "metadata": {},
   "outputs": [
    {
     "data": {
      "text/plain": [
       "'{\\n  \"product_name\": \"PINSTONE PC Portable 16 Go RAM 512 Go SSD 15,6\"\",\\n  \"image_url\": \"https://m.media-amazon.com/images/I/71E2qZw2xuL.__AC_SX300_SY300_QL70_ML2_.jpg\",\\n  \"price\": \"230,00€\",\\n  \"screen size\": \"15,6 pouces\",\\n  \"processor\": \"Celeron N5095\",\\n  \"RAM\": \"16 Go\",\\n  \"storage\": \"512 Go SSD\",\\n  \"operating system\": \"N/A\"\\n}\\n'"
      ]
     },
     "execution_count": 45,
     "metadata": {},
     "output_type": "execute_result"
    }
   ],
   "source": [
    "t.strip('```')"
   ]
  },
  {
   "cell_type": "code",
   "execution_count": null,
   "id": "79a334b6-051d-41cd-a631-1d1afc13078d",
   "metadata": {},
   "outputs": [],
   "source": []
  }
 ],
 "metadata": {
  "kernelspec": {
   "display_name": "Python 3 (ipykernel)",
   "language": "python",
   "name": "python3"
  },
  "language_info": {
   "codemirror_mode": {
    "name": "ipython",
    "version": 3
   },
   "file_extension": ".py",
   "mimetype": "text/x-python",
   "name": "python",
   "nbconvert_exporter": "python",
   "pygments_lexer": "ipython3",
   "version": "3.11.9"
  }
 },
 "nbformat": 4,
 "nbformat_minor": 5
}
