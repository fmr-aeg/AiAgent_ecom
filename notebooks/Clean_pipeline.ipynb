{
 "cells": [
  {
   "cell_type": "code",
   "execution_count": 1,
   "id": "aac14330-0de5-4cdf-95dd-a4bc10ec4561",
   "metadata": {
    "pycharm": {
     "name": "#%%\n"
    }
   },
   "outputs": [],
   "source": [
    "import sys\n",
    "import os\n",
    "\n",
    "# Ajoute le dossier src/ au chemin d'import\n",
    "sys.path.append(os.path.abspath(os.path.join(\"..\")))"
   ]
  },
  {
   "cell_type": "code",
   "execution_count": 2,
   "id": "b37e618b-039a-44d0-b184-4c5f4580c531",
   "metadata": {
    "pycharm": {
     "name": "#%%\n"
    }
   },
   "outputs": [],
   "source": [
    "import os\n",
    "import sys\n",
    "sys.path.append(os.path.abspath(os.path.join(\"..\")))\n",
    "from smolagents import CodeAgent, Model, LiteLLMModel\n",
    "from src.aiagent.utils.ecom_tools import (search_on_amazon,\n",
    "                                          ParserProductDescriptionWithGuideTool, GetProductDescriptionTool,\n",
    "                                          CompareProductTool, FilterProduct, FinalAnswerTool)\n",
    "from src.aiagent.ui.main_gradio import GradioUI\n",
    "import yaml\n",
    "from src.aiagent.core.custom_python_executor import LocalPythonExecutor"
   ]
  },
  {
   "cell_type": "code",
   "execution_count": 3,
   "id": "f7ee9d8c-3410-47b1-8a8a-e692b67f6347",
   "metadata": {
    "pycharm": {
     "name": "#%%\n"
    }
   },
   "outputs": [],
   "source": [
    "with open('../config/secrets.yaml') as f:\n",
    "    SECRETS = yaml.safe_load(f)\n",
    "\n",
    "# os.environ['HF_HOME'] = '/home/ayoub/llm_models'\n",
    "os.environ['GEMINI_API_KEY'] = SECRETS['gemini_token']\n",
    "os.environ[\"ANTHROPIC_API_KEY\"] = SECRETS['claude_token']"
   ]
  },
  {
   "cell_type": "code",
   "execution_count": 4,
   "id": "67b76bff-e261-4f73-88d2-7ea05112e81a",
   "metadata": {
    "pycharm": {
     "name": "#%%\n"
    }
   },
   "outputs": [],
   "source": [
    "tools_model = LiteLLMModel(model_id='gemini/gemini-2.0-flash')\n",
    "# reasonning_model = LiteLLMModel(model_id=\"claude-opus-4-20250514\")\n",
    "reasonning_model = LiteLLMModel(model_id='gemini/gemini-2.5-pro-preview-05-06')"
   ]
  },
  {
   "cell_type": "code",
   "execution_count": 5,
   "id": "7747b4d4-e71b-4e49-95ae-5314c110dee7",
   "metadata": {
    "pycharm": {
     "name": "#%%\n"
    }
   },
   "outputs": [],
   "source": [
    "product_description_parser_with_guide = ParserProductDescriptionWithGuideTool(tools_model)\n",
    "compare_products = CompareProductTool(tools_model)\n",
    "filter_product = FilterProduct(tools_model)\n",
    "get_product_description = GetProductDescriptionTool()\n",
    "final_answer = FinalAnswerTool()\n",
    "\n",
    "template = yaml.safe_load(open(\"../config/prompt.yaml\"))"
   ]
  },
  {
   "cell_type": "code",
   "execution_count": 6,
   "id": "3a0daf6e-0b2c-48ea-8290-8783d0963cc8",
   "metadata": {
    "pycharm": {
     "name": "#%%\n"
    }
   },
   "outputs": [],
   "source": [
    "agent = CodeAgent(\n",
    "    tools=[\n",
    "        get_product_description,\n",
    "        product_description_parser_with_guide,\n",
    "        search_on_amazon,\n",
    "        compare_products,\n",
    "        filter_product,\n",
    "        final_answer\n",
    "    ],\n",
    "    model=reasonning_model,\n",
    "    prompt_templates=template,\n",
    "    max_steps=8,\n",
    "    verbosity_level=1,\n",
    "    grammar=None,\n",
    "    planning_interval=None,\n",
    "    name=None,\n",
    "    description=None,\n",
    "    additional_authorized_imports=['pandas', 'json']\n",
    ")\n",
    "\n",
    "agent.python_executor = LocalPythonExecutor(agent.additional_authorized_imports,\n",
    "                                            max_print_outputs_length=agent.max_print_outputs_length)"
   ]
  },
  {
   "cell_type": "code",
   "execution_count": null,
   "id": "390a8577-aafe-461b-871e-f4723e76bdc5",
   "metadata": {
    "pycharm": {
     "name": "#%%\n"
    }
   },
   "outputs": [
    {
     "data": {
      "text/html": [
       "<pre style=\"white-space:pre;overflow-x:auto;line-height:normal;font-family:Menlo,'DejaVu Sans Mono',consolas,'Courier New',monospace\"><span style=\"color: #d4b702; text-decoration-color: #d4b702\">╭──────────────────────────────────────────────────── </span><span style=\"color: #d4b702; text-decoration-color: #d4b702; font-weight: bold\">New run</span><span style=\"color: #d4b702; text-decoration-color: #d4b702\"> ────────────────────────────────────────────────────╮</span>\n",
       "<span style=\"color: #d4b702; text-decoration-color: #d4b702\">│</span>                                                                                                                 <span style=\"color: #d4b702; text-decoration-color: #d4b702\">│</span>\n",
       "<span style=\"color: #d4b702; text-decoration-color: #d4b702\">│</span> <span style=\"font-weight: bold\">I'm looking for a new TV for my living room, can you give me some suggestions?</span>                                  <span style=\"color: #d4b702; text-decoration-color: #d4b702\">│</span>\n",
       "<span style=\"color: #d4b702; text-decoration-color: #d4b702\">│</span>                                                                                                                 <span style=\"color: #d4b702; text-decoration-color: #d4b702\">│</span>\n",
       "<span style=\"color: #d4b702; text-decoration-color: #d4b702\">╰─ LiteLLMModel - gemini/gemini-2.5-pro-preview-05-06 ────────────────────────────────────────────────────────────╯</span>\n",
       "</pre>\n"
      ],
      "text/plain": [
       "\u001B[38;2;212;183;2m╭─\u001B[0m\u001B[38;2;212;183;2m───────────────────────────────────────────────────\u001B[0m\u001B[38;2;212;183;2m \u001B[0m\u001B[1;38;2;212;183;2mNew run\u001B[0m\u001B[38;2;212;183;2m \u001B[0m\u001B[38;2;212;183;2m───────────────────────────────────────────────────\u001B[0m\u001B[38;2;212;183;2m─╮\u001B[0m\n",
       "\u001B[38;2;212;183;2m│\u001B[0m                                                                                                                 \u001B[38;2;212;183;2m│\u001B[0m\n",
       "\u001B[38;2;212;183;2m│\u001B[0m \u001B[1mI'm looking for a new TV for my living room, can you give me some suggestions?\u001B[0m                                  \u001B[38;2;212;183;2m│\u001B[0m\n",
       "\u001B[38;2;212;183;2m│\u001B[0m                                                                                                                 \u001B[38;2;212;183;2m│\u001B[0m\n",
       "\u001B[38;2;212;183;2m╰─\u001B[0m\u001B[38;2;212;183;2m LiteLLMModel - gemini/gemini-2.5-pro-preview-05-06 \u001B[0m\u001B[38;2;212;183;2m───────────────────────────────────────────────────────────\u001B[0m\u001B[38;2;212;183;2m─╯\u001B[0m\n"
      ]
     },
     "metadata": {},
     "output_type": "display_data"
    },
    {
     "data": {
      "text/html": [
       "<pre style=\"white-space:pre;overflow-x:auto;line-height:normal;font-family:Menlo,'DejaVu Sans Mono',consolas,'Courier New',monospace\"><span style=\"color: #d4b702; text-decoration-color: #d4b702\">━━━━━━━━━━━━━━━━━━━━━━━━━━━━━━━━━━━━━━━━━━━━━━━━━━━━━ </span><span style=\"font-weight: bold\">Step </span><span style=\"color: #008080; text-decoration-color: #008080; font-weight: bold\">1</span><span style=\"color: #d4b702; text-decoration-color: #d4b702\"> ━━━━━━━━━━━━━━━━━━━━━━━━━━━━━━━━━━━━━━━━━━━━━━━━━━━━━━</span>\n",
       "</pre>\n"
      ],
      "text/plain": [
       "\u001B[38;2;212;183;2m━━━━━━━━━━━━━━━━━━━━━━━━━━━━━━━━━━━━━━━━━━━━━━━━━━━━━ \u001B[0m\u001B[1mStep \u001B[0m\u001B[1;36m1\u001B[0m\u001B[38;2;212;183;2m ━━━━━━━━━━━━━━━━━━━━━━━━━━━━━━━━━━━━━━━━━━━━━━━━━━━━━━\u001B[0m\n"
      ]
     },
     "metadata": {},
     "output_type": "display_data"
    },
    {
     "data": {
      "text/html": [
       "<pre style=\"white-space:pre;overflow-x:auto;line-height:normal;font-family:Menlo,'DejaVu Sans Mono',consolas,'Courier New',monospace\"> ─ <span style=\"font-weight: bold\">Executing parsed code:</span> ──────────────────────────────────────────────────────────────────────────────────────── \n",
       "  <span style=\"color: #f8f8f2; text-decoration-color: #f8f8f2; background-color: #272822\">l_product </span><span style=\"color: #ff4689; text-decoration-color: #ff4689; background-color: #272822\">=</span><span style=\"color: #f8f8f2; text-decoration-color: #f8f8f2; background-color: #272822\"> []</span><span style=\"background-color: #272822\">                                                                                                 </span>  \n",
       "  <span style=\"color: #66d9ef; text-decoration-color: #66d9ef; background-color: #272822\">for</span><span style=\"color: #f8f8f2; text-decoration-color: #f8f8f2; background-color: #272822\"> keyword </span><span style=\"color: #ff4689; text-decoration-color: #ff4689; background-color: #272822\">in</span><span style=\"color: #f8f8f2; text-decoration-color: #f8f8f2; background-color: #272822\"> [</span><span style=\"color: #e6db74; text-decoration-color: #e6db74; background-color: #272822\">\"TV for living room\"</span><span style=\"color: #f8f8f2; text-decoration-color: #f8f8f2; background-color: #272822\">, </span><span style=\"color: #e6db74; text-decoration-color: #e6db74; background-color: #272822\">\"Smart TV living room\"</span><span style=\"color: #f8f8f2; text-decoration-color: #f8f8f2; background-color: #272822\">]:</span><span style=\"background-color: #272822\">                                                 </span>  \n",
       "  <span style=\"color: #f8f8f2; text-decoration-color: #f8f8f2; background-color: #272822\">    l_product </span><span style=\"color: #ff4689; text-decoration-color: #ff4689; background-color: #272822\">+=</span><span style=\"color: #f8f8f2; text-decoration-color: #f8f8f2; background-color: #272822\"> search_on_amazon(keyword</span><span style=\"color: #ff4689; text-decoration-color: #ff4689; background-color: #272822\">=</span><span style=\"color: #f8f8f2; text-decoration-color: #f8f8f2; background-color: #272822\">keyword)</span><span style=\"background-color: #272822\">                                                             </span>  \n",
       "  <span style=\"background-color: #272822\">                                                                                                               </span>  \n",
       "  <span style=\"color: #f8f8f2; text-decoration-color: #f8f8f2; background-color: #272822\">print(</span><span style=\"color: #e6db74; text-decoration-color: #e6db74; background-color: #272822\">f\"Product list found by search: {</span><span style=\"color: #f8f8f2; text-decoration-color: #f8f8f2; background-color: #272822\">l_product</span><span style=\"color: #e6db74; text-decoration-color: #e6db74; background-color: #272822\">}\"</span><span style=\"color: #f8f8f2; text-decoration-color: #f8f8f2; background-color: #272822\">)</span><span style=\"background-color: #272822\">                                                            </span>  \n",
       "  <span style=\"color: #f8f8f2; text-decoration-color: #f8f8f2; background-color: #272822\">print(</span><span style=\"color: #e6db74; text-decoration-color: #e6db74; background-color: #272822\">f\"Number of products found by search: {</span><span style=\"color: #f8f8f2; text-decoration-color: #f8f8f2; background-color: #272822\">len(l_product)</span><span style=\"color: #e6db74; text-decoration-color: #e6db74; background-color: #272822\">}\"</span><span style=\"color: #f8f8f2; text-decoration-color: #f8f8f2; background-color: #272822\">)</span><span style=\"background-color: #272822\">                                                 </span>  \n",
       " ───────────────────────────────────────────────────────────────────────────────────────────────────────────────── \n",
       "</pre>\n"
      ],
      "text/plain": [
       " ─ \u001B[1mExecuting parsed code:\u001B[0m ──────────────────────────────────────────────────────────────────────────────────────── \n",
       "  \u001B[38;2;248;248;242;48;2;39;40;34ml_product\u001B[0m\u001B[38;2;248;248;242;48;2;39;40;34m \u001B[0m\u001B[38;2;255;70;137;48;2;39;40;34m=\u001B[0m\u001B[38;2;248;248;242;48;2;39;40;34m \u001B[0m\u001B[38;2;248;248;242;48;2;39;40;34m[\u001B[0m\u001B[38;2;248;248;242;48;2;39;40;34m]\u001B[0m\u001B[48;2;39;40;34m                                                                                                 \u001B[0m  \n",
       "  \u001B[38;2;102;217;239;48;2;39;40;34mfor\u001B[0m\u001B[38;2;248;248;242;48;2;39;40;34m \u001B[0m\u001B[38;2;248;248;242;48;2;39;40;34mkeyword\u001B[0m\u001B[38;2;248;248;242;48;2;39;40;34m \u001B[0m\u001B[38;2;255;70;137;48;2;39;40;34min\u001B[0m\u001B[38;2;248;248;242;48;2;39;40;34m \u001B[0m\u001B[38;2;248;248;242;48;2;39;40;34m[\u001B[0m\u001B[38;2;230;219;116;48;2;39;40;34m\"\u001B[0m\u001B[38;2;230;219;116;48;2;39;40;34mTV for living room\u001B[0m\u001B[38;2;230;219;116;48;2;39;40;34m\"\u001B[0m\u001B[38;2;248;248;242;48;2;39;40;34m,\u001B[0m\u001B[38;2;248;248;242;48;2;39;40;34m \u001B[0m\u001B[38;2;230;219;116;48;2;39;40;34m\"\u001B[0m\u001B[38;2;230;219;116;48;2;39;40;34mSmart TV living room\u001B[0m\u001B[38;2;230;219;116;48;2;39;40;34m\"\u001B[0m\u001B[38;2;248;248;242;48;2;39;40;34m]\u001B[0m\u001B[38;2;248;248;242;48;2;39;40;34m:\u001B[0m\u001B[48;2;39;40;34m                                                 \u001B[0m  \n",
       "  \u001B[38;2;248;248;242;48;2;39;40;34m    \u001B[0m\u001B[38;2;248;248;242;48;2;39;40;34ml_product\u001B[0m\u001B[38;2;248;248;242;48;2;39;40;34m \u001B[0m\u001B[38;2;255;70;137;48;2;39;40;34m+\u001B[0m\u001B[38;2;255;70;137;48;2;39;40;34m=\u001B[0m\u001B[38;2;248;248;242;48;2;39;40;34m \u001B[0m\u001B[38;2;248;248;242;48;2;39;40;34msearch_on_amazon\u001B[0m\u001B[38;2;248;248;242;48;2;39;40;34m(\u001B[0m\u001B[38;2;248;248;242;48;2;39;40;34mkeyword\u001B[0m\u001B[38;2;255;70;137;48;2;39;40;34m=\u001B[0m\u001B[38;2;248;248;242;48;2;39;40;34mkeyword\u001B[0m\u001B[38;2;248;248;242;48;2;39;40;34m)\u001B[0m\u001B[48;2;39;40;34m                                                             \u001B[0m  \n",
       "  \u001B[48;2;39;40;34m                                                                                                               \u001B[0m  \n",
       "  \u001B[38;2;248;248;242;48;2;39;40;34mprint\u001B[0m\u001B[38;2;248;248;242;48;2;39;40;34m(\u001B[0m\u001B[38;2;230;219;116;48;2;39;40;34mf\u001B[0m\u001B[38;2;230;219;116;48;2;39;40;34m\"\u001B[0m\u001B[38;2;230;219;116;48;2;39;40;34mProduct list found by search: \u001B[0m\u001B[38;2;230;219;116;48;2;39;40;34m{\u001B[0m\u001B[38;2;248;248;242;48;2;39;40;34ml_product\u001B[0m\u001B[38;2;230;219;116;48;2;39;40;34m}\u001B[0m\u001B[38;2;230;219;116;48;2;39;40;34m\"\u001B[0m\u001B[38;2;248;248;242;48;2;39;40;34m)\u001B[0m\u001B[48;2;39;40;34m                                                            \u001B[0m  \n",
       "  \u001B[38;2;248;248;242;48;2;39;40;34mprint\u001B[0m\u001B[38;2;248;248;242;48;2;39;40;34m(\u001B[0m\u001B[38;2;230;219;116;48;2;39;40;34mf\u001B[0m\u001B[38;2;230;219;116;48;2;39;40;34m\"\u001B[0m\u001B[38;2;230;219;116;48;2;39;40;34mNumber of products found by search: \u001B[0m\u001B[38;2;230;219;116;48;2;39;40;34m{\u001B[0m\u001B[38;2;248;248;242;48;2;39;40;34mlen\u001B[0m\u001B[38;2;248;248;242;48;2;39;40;34m(\u001B[0m\u001B[38;2;248;248;242;48;2;39;40;34ml_product\u001B[0m\u001B[38;2;248;248;242;48;2;39;40;34m)\u001B[0m\u001B[38;2;230;219;116;48;2;39;40;34m}\u001B[0m\u001B[38;2;230;219;116;48;2;39;40;34m\"\u001B[0m\u001B[38;2;248;248;242;48;2;39;40;34m)\u001B[0m\u001B[48;2;39;40;34m                                                 \u001B[0m  \n",
       " ───────────────────────────────────────────────────────────────────────────────────────────────────────────────── \n"
      ]
     },
     "metadata": {},
     "output_type": "display_data"
    },
    {
     "data": {
      "text/html": [
       "<pre style=\"white-space:pre;overflow-x:auto;line-height:normal;font-family:Menlo,'DejaVu Sans Mono',consolas,'Courier New',monospace\"><span style=\"font-weight: bold\">Execution logs:</span>\n",
       "Product list found by search: [{'product_name': 'vidaXL Meuble TV avec Lumières LED, Armoire de Télévision, Meuble \n",
       "Télé de Salon, Armoire Basse Salle de Séjour Intérieur, Moderne, Chêne Sonoma', 'image_url': \n",
       "'https://m.media-amazon.com/images/I/416yj5vdTbL._AC_UL320_.jpg', 'product_link': \n",
       "'https://www.amazon.fr/vidaXL-Lumi%C3%A8res-Armoire-Divertissement-120x30x35/dp/B09HKCW42M/ref=sr_1_6?dib=eyJ2IjoiM\n",
       "SJ9.PSDp45yD15ansiz2YjRt3qo3xMf4HRk0N2osDFweZU5mx8-nUzk-AQnRDHKXsfOdv9Mi6sh4kMdTyMYXGRijnemGlQ4TRcgCbswH79NnGstiAc2\n",
       "goPZkHg5VZlny8hC8pLhQAqqapQLl7DYb2p7IXzB7FkMNDF0dpLxalZmFrUYzuT-qvQZeMhN0lQnkuEiYy7GEqhCZIAAfsy2CYbEpA7KCBbvkhIOEuS\n",
       "aVb66dJa7WYcerossZvk8Xkp2Udw_E3WIkUp0CLL8lIgeTefYrHksPA842jOcWeAp3R4D_Lfo.lePFyoTxAxQMbuRIoVIxZvOZHeyASFFYc8CY5q2s-\n",
       "fw&amp;dib_tag=se&amp;keywords=TV+for+living+room&amp;qid=1749199346&amp;sr=8-6', 'price': '61,99 €', 'delivery_date': 'Livraison \n",
       "GRATUITE 13 - 18 juin '}, {'product_name': 'GDPOOTREE Custom 3D Photo Wallpaper For Walls Modern Simple Bedroom \n",
       "Living Room Tv Background Wall Large Mural Print Wallpaper 400Cm(L)*280Cm(H)', 'image_url': \n",
       "'https://m.media-amazon.com/images/I/71qdhfKnr2L._AC_UL320_.jpg', 'product_link': \n",
       "'https://www.amazon.fr/GDPOOTREE-Custom-Wallpaper-Bedroom-Background/dp/B0C5H9T6TK/ref=sr_1_7?dib=eyJ2IjoiMSJ9.PSDp\n",
       "45yD15ansiz2YjRt3qo3xMf4HRk0N2osDFweZU5mx8-nUzk-AQnRDHKXsfOdv9Mi6sh4kMdTyMYXGRijnemGlQ4TRcgCbswH79NnGstiAc2goPZkHg5\n",
       "VZlny8hC8pLhQAqqapQLl7DYb2p7IXzB7FkMNDF0dpLxalZmFrUYzuT-qvQZeMhN0lQnkuEiYy7GEqhCZIAAfsy2CYbEpA7KCBbvkhIOEuSaVb66dJa\n",
       "7WYcerossZvk8Xkp2Udw_E3WIkUp0CLL8lIgeTefYrHksPA842jOcWeAp3R4D_Lfo.lePFyoTxAxQMbuRIoVIxZvOZHeyASFFYc8CY5q2s-fw&amp;dib_t\n",
       "ag=se&amp;keywords=TV+for+living+room&amp;qid=1749199346&amp;sr=8-7', 'price': '175,00 €', 'delivery_date': 'Livraison à \n",
       "5,98\\xa0€ 5 - 12 juil. '}, {'product_name': 'Furinno Econ Centre de Divertissement TV, Noir, Taille Unique, \n",
       "13054BK/BK, One Size', 'image_url': 'https://m.media-amazon.com/images/I/61fXT88HPtL._AC_UL320_.jpg', \n",
       "'product_link': \n",
       "'https://www.amazon.fr/Furinno-13054bk-BK-Loisirs-Rangement/dp/B00OSB29DS/ref=sr_1_8?dib=eyJ2IjoiMSJ9.PSDp45yD15ans\n",
       "iz2YjRt3qo3xMf4HRk0N2osDFweZU5mx8-nUzk-AQnRDHKXsfOdv9Mi6sh4kMdTyMYXGRijnemGlQ4TRcgCbswH79NnGstiAc2goPZkHg5VZlny8hC8\n",
       "pLhQAqqapQLl7DYb2p7IXzB7FkMNDF0dpLxalZmFrUYzuT-qvQZeMhN0lQnkuEiYy7GEqhCZIAAfsy2CYbEpA7KCBbvkhIOEuSaVb66dJa7WYceross\n",
       "Zvk8Xkp2Udw_E3WIkUp0CLL8lIgeTefYrHksPA842jOcWeAp3R4D_Lfo.lePFyoTxAxQMbuRIoVIxZvOZHeyASFFYc8CY5q2s-fw&amp;dib_tag=se&amp;key\n",
       "words=TV+for+living+room&amp;qid=1749199346&amp;sr=8-8', 'price': '48,21 €', 'delivery_date': ' Livraison GRATUITE jeu. 12 \n",
       "juin Arrive avant la fête des pères'}, {'product_name': 'Housses TV 24-65 inch Thickened Fleece TV Screen \n",
       "Protector, Indoor Bedroom Living Room Decoration Television Dust Cover TV Set Cover (Color : A, Size : 24in(59 * \n",
       "35cm))', 'image_url': 'https://m.media-amazon.com/images/I/61gN-ByXIkL._AC_UL320_.jpg', 'product_link': \n",
       "'https://www.amazon.fr/Housses-Thickened-Protector-Decoration-Television/dp/B0CBMM7615/ref=sr_1_9?dib=eyJ2IjoiMSJ9.\n",
       "PSDp45yD15ansiz2YjRt3qo3xMf4HRk0N2osDFweZU5mx8-nUzk-AQnRDHKXsfOdv9Mi6sh4kMdTyMYXGRijnemGlQ4TRcgCbswH79NnGstiAc2goPZ\n",
       "kHg5VZlny8hC8pLhQAqqapQLl7DYb2p7IXzB7FkMNDF0dpLxalZmFrUYzuT-qvQZeMhN0lQnkuEiYy7GEqhCZIAAfsy2CYbEpA7KCBbvkhIOEuSaVb6\n",
       "6dJa7WYcerossZvk8Xkp2Udw_E3WIkUp0CLL8lIgeTefYrHksPA842jOcWeAp3R4D_Lfo.lePFyoTxAxQMbuRIoVIxZvOZHeyASFFYc8CY5q2s-fw&amp;d\n",
       "ib_tag=se&amp;keywords=TV+for+living+room&amp;qid=1749199346&amp;sr=8-9', 'price': '13,17 €', 'delivery_date': 'Livraison \n",
       "GRATUITE 28 juin - 4 juil. '}, {'product_name': 'HOMN LIVING Meuble TV Lluvia 3 Portes Coloris chêne, 130 cm \n",
       "(Largeur) 40 cm (Profondeur) 45 cm (Hauteur)', 'image_url': \n",
       "'https://m.media-amazon.com/images/I/613uN+XJdbL._AC_UL320_.jpg', 'product_link': \n",
       "'https://www.amazon.fr/HOMN-LIVING-Coloris-Largeur-Profondeur/dp/B0C9QKQG79/ref=sr_1_10?dib=eyJ2IjoiMSJ9.PSDp45yD15\n",
       "ansiz2YjRt3qo3xMf4HRk0N2osDFweZU5mx8-nUzk-AQnRDHKXsfOdv9Mi6sh4kMdTyMYXGRijnemGlQ4TRcgCbswH79NnGstiAc2goPZkHg5VZlny8\n",
       "hC8pLhQAqqapQLl7DYb2p7IXzB7FkMNDF0dpLxalZmFrUYzuT-qvQZeMhN0lQnkuEiYy7GEqhCZIAAfsy2CYbEpA7KCBbvkhIOEuSaVb66dJa7WYcer\n",
       "ossZvk8Xkp2Udw_E3WIkUp0CLL8lIgeTefYrHksPA842jOcWeAp3R4D_Lfo.lePFyoTxAxQMbuRIoVIxZvOZHeyASFFYc8CY5q2s-fw&amp;dib_tag=se&amp;\n",
       "keywords=TV+for+living+room&amp;qid=1749199346&amp;sr=8-10', 'price': '129,99 €', 'delivery_date': 'Livraison GRATUITE 13 -\n",
       "17 juin '}, {'product_name': 'Housses TV 24-65 inch Thickened Fleece TV Screen Protector, Indoor Bedroom Living \n",
       "Room Decoration Television Dust Cover TV Set Cover (Color : B, Size : 37in(87 * 60cm))', 'image_url': \n",
       "'https://m.media-amazon.com/images/I/51qLu94AjxL._AC_UL320_.jpg', 'product_link': \n",
       "'https://www.amazon.fr/Housses-Thickened-Protector-Decoration-Television/dp/B0CBMSTKHL/ref=sr_1_6?dib=eyJ2IjoiMSJ9.\n",
       "w3AJt-xF2yQSPTEPn4GFClSenaR3RM5XRvZj_ahMW2HjMoyFZyCdrscwdGSOROI2ZmV6ldrtimC3mJRPuiyfbuLiZTiSVgcohAt4I_2te_IoULAP0Vy\n",
       "HtVa67uS00ngyV5VT75lgfHczap953mmQvLwA68V0qD1wQViOBMnpaKV-SQiTE7q8E8DL1OAuG9W3H4jmdw0f87LWtQtfcngTU0PphoPHsivn7CzL1i\n",
       "u6WAFjnoqyn9rwHqNW5cgRwaZQY5qjtRYFhUXG4GvVUXgRP3nBNuLe8A9e2hXhdHZ8Iz0.zLq5OKrkLnh5Fu8LS8MbO5wNDFMU3LPAXK0sn35g94s&amp;d\n",
       "ib_tag=se&amp;keywords=Smart+TV+living+room&amp;qid=1749199347&amp;sr=8-6', 'price': '20,83 €', 'delivery_date': 'Livraison \n",
       "GRATUITE 28 juin - 4 juil. '}, {'product_name': 'Xiaomi TV A Pro 43 2025, QLED, Google TV, Netflix, 43 inch', \n",
       "'image_url': 'https://m.media-amazon.com/images/I/71SKbeJLp+L._AC_UL320_.jpg', 'product_link': \n",
       "'https://www.amazon.fr/Xiaomi-2025-QLED-Google-Netflix/dp/B0CYZL2JY3/ref=sr_1_7?dib=eyJ2IjoiMSJ9.w3AJt-xF2yQSPTEPn4\n",
       "GFClSenaR3RM5XRvZj_ahMW2HjMoyFZyCdrscwdGSOROI2ZmV6ldrtimC3mJRPuiyfbuLiZTiSVgcohAt4I_2te_IoULAP0VyHtVa67uS00ngyV5VT7\n",
       "5lgfHczap953mmQvLwA68V0qD1wQViOBMnpaKV-SQiTE7q8E8DL1OAuG9W3H4jmdw0f87LWtQtfcngTU0PphoPHsivn7CzL1iu6WAFjnoqyn9rwHqNW\n",
       "5cgRwaZQY5qjtRYFhUXG4GvVUXgRP3nBNuLe8A9e2hXhdHZ8Iz0.zLq5OKrkLnh5Fu8LS8MbO5wNDFMU3LPAXK0sn35g94s&amp;dib_tag=se&amp;keywords\n",
       "=Smart+TV+living+room&amp;qid=1749199347&amp;sr=8-7', 'price': '292,97 €', 'delivery_date': ' Livraison GRATUITE mer. 11 \n",
       "juin Arrive avant la fête des pères'}, {'product_name': 'Meuble TV Meuble TV flottant mural avec 2 tiroirs et 1 \n",
       "étagère, plateau en ardoise, centre de divertissement flottant, console de télévision intelligente avec capteur de \n",
       "lumière LED for salon, chambre', 'image_url': 'https://m.media-amazon.com/images/I/715n5c3pWhL._AC_UL320_.jpg', \n",
       "'product_link': \n",
       "'https://www.amazon.fr/flottant-tiroirs-divertissement-t%C3%A9l%C3%A9vision-intelligente/dp/B0D937FMDQ/ref=sr_1_8?d\n",
       "ib=eyJ2IjoiMSJ9.w3AJt-xF2yQSPTEPn4GFClSenaR3RM5XRvZj_ahMW2HjMoyFZyCdrscwdGSOROI2ZmV6ldrtimC3mJRPuiyfbuLiZTiSVgcohAt\n",
       "4I_2te_IoULAP0VyHtVa67uS00ngyV5VT75lgfHczap953mmQvLwA68V0qD1wQViOBMnpaKV-SQiTE7q8E8DL1OAuG9W3H4jmdw0f87LWtQtfcngTU0\n",
       "PphoPHsivn7CzL1iu6WAFjnoqyn9rwHqNW5cgRwaZQY5qjtRYFhUXG4GvVUXgRP3nBNuLe8A9e2hXhdHZ8Iz0.zLq5OKrkLnh5Fu8LS8MbO5wNDFMU3\n",
       "LPAXK0sn35g94s&amp;dib_tag=se&amp;keywords=Smart+TV+living+room&amp;qid=1749199347&amp;sr=8-8', 'price': '1\\u202f143,91 €', \n",
       "'delivery_date': 'Livraison GRATUITE 21 juin - 2 juil. '}, {'product_name': \"VASAGLE Meuble TV pour Télévision \n",
       "Jusqu’à 65 Pouces, Support Télévision, avec Compartiments Ouverts, Étagères, pour Salon, Salle de Jeu, Style \n",
       "Industriel, Marron Rustique et Noir d'encre LTV061K01\", 'image_url': \n",
       "'https://m.media-amazon.com/images/I/71lqpqi4ydL._AC_UL320_.jpg', 'product_link': \n",
       "'https://www.amazon.fr/VASAGLE-T%C3%A9l%C3%A9vision-Compartiments-Industriel-LTV061K01/dp/B0D5L7X5GK/ref=sr_1_9?dib\n",
       "=eyJ2IjoiMSJ9.w3AJt-xF2yQSPTEPn4GFClSenaR3RM5XRvZj_ahMW2HjMoyFZyCdrscwdGSOROI2ZmV6ldrtimC3mJRPuiyfbuLiZTiSVgcohAt4I\n",
       "_2te_IoULAP0VyHtVa67uS00ngyV5VT75lgfHczap953mmQvLwA68V0qD1wQViOBMnpaKV-SQiTE7q8E8DL1OAuG9W3H4jmdw0f87LWtQtfcngTU0Pp\n",
       "hoPHsivn7CzL1iu6WAFjnoqyn9rwHqNW5cgRwaZQY5qjtRYFhUXG4GvVUXgRP3nBNuLe8A9e2hXhdHZ8Iz0.zLq5OKrkLnh5Fu8LS8MbO5wNDFMU3LP\n",
       "AXK0sn35g94s&amp;dib_tag=se&amp;keywords=Smart+TV+living+room&amp;qid=1749199347&amp;sr=8-9', 'price': '72,99 €', 'delivery_date': \n",
       "'Livraison GRATUITE 13 - 17 juin '}, {'product_name': 'TV Stand Feet, Adjustable TV Height Riser, Aluminum Alloy \n",
       "Television, Stable Support, Non Slip Base Feet for 32 to 65 inch TVs for Living Room Or Bedroom', 'image_url': \n",
       "'https://m.media-amazon.com/images/I/51YvIYQnWrL._AC_UL320_.jpg', 'product_link': \n",
       "'https://www.amazon.fr/Adjustable-Aluminum-Television-Support-Bedroom/dp/B0DY774C5C/ref=sr_1_10?dib=eyJ2IjoiMSJ9.w3\n",
       "AJt-xF2yQSPTEPn4GFClSenaR3RM5XRvZj_ahMW2HjMoyFZyCdrscwdGSOROI2ZmV6ldrtimC3mJRPuiyfbuLiZTiSVgcohAt4I_2te_IoULAP0VyHt\n",
       "Va67uS00ngyV5VT75lgfHczap953mmQvLwA68V0qD1wQViOBMnpaKV-SQiTE7q8E8DL1OAuG9W3H4jmdw0f87LWtQtfcngTU0PphoPHsivn7CzL1iu6\n",
       "WAFjnoqyn9rwHqNW5cgRwaZQY5qjtRYFhUXG4GvVUXgRP3nBNuLe8A9e2hXhdHZ8Iz0.zLq5OKrkLnh5Fu8LS8MbO5wNDFMU3LPAXK0sn35g94s&amp;dib\n",
       "_tag=se&amp;keywords=Smart+TV+living+room&amp;qid=1749199347&amp;sr=8-10', 'price': '19,69 €', 'delivery_date': 'Livraison à \n",
       "0,99\\xa0€ 24 - 28 juin '}]\n",
       "Number of products found by search: 10\n",
       "\n",
       "Out: None\n",
       "</pre>\n"
      ],
      "text/plain": [
       "\u001B[1mExecution logs:\u001B[0m\n",
       "Product list found by search: [{'product_name': 'vidaXL Meuble TV avec Lumières LED, Armoire de Télévision, Meuble \n",
       "Télé de Salon, Armoire Basse Salle de Séjour Intérieur, Moderne, Chêne Sonoma', 'image_url': \n",
       "'https://m.media-amazon.com/images/I/416yj5vdTbL._AC_UL320_.jpg', 'product_link': \n",
       "'https://www.amazon.fr/vidaXL-Lumi%C3%A8res-Armoire-Divertissement-120x30x35/dp/B09HKCW42M/ref=sr_1_6?dib=eyJ2IjoiM\n",
       "SJ9.PSDp45yD15ansiz2YjRt3qo3xMf4HRk0N2osDFweZU5mx8-nUzk-AQnRDHKXsfOdv9Mi6sh4kMdTyMYXGRijnemGlQ4TRcgCbswH79NnGstiAc2\n",
       "goPZkHg5VZlny8hC8pLhQAqqapQLl7DYb2p7IXzB7FkMNDF0dpLxalZmFrUYzuT-qvQZeMhN0lQnkuEiYy7GEqhCZIAAfsy2CYbEpA7KCBbvkhIOEuS\n",
       "aVb66dJa7WYcerossZvk8Xkp2Udw_E3WIkUp0CLL8lIgeTefYrHksPA842jOcWeAp3R4D_Lfo.lePFyoTxAxQMbuRIoVIxZvOZHeyASFFYc8CY5q2s-\n",
       "fw&dib_tag=se&keywords=TV+for+living+room&qid=1749199346&sr=8-6', 'price': '61,99 €', 'delivery_date': 'Livraison \n",
       "GRATUITE 13 - 18 juin '}, {'product_name': 'GDPOOTREE Custom 3D Photo Wallpaper For Walls Modern Simple Bedroom \n",
       "Living Room Tv Background Wall Large Mural Print Wallpaper 400Cm(L)*280Cm(H)', 'image_url': \n",
       "'https://m.media-amazon.com/images/I/71qdhfKnr2L._AC_UL320_.jpg', 'product_link': \n",
       "'https://www.amazon.fr/GDPOOTREE-Custom-Wallpaper-Bedroom-Background/dp/B0C5H9T6TK/ref=sr_1_7?dib=eyJ2IjoiMSJ9.PSDp\n",
       "45yD15ansiz2YjRt3qo3xMf4HRk0N2osDFweZU5mx8-nUzk-AQnRDHKXsfOdv9Mi6sh4kMdTyMYXGRijnemGlQ4TRcgCbswH79NnGstiAc2goPZkHg5\n",
       "VZlny8hC8pLhQAqqapQLl7DYb2p7IXzB7FkMNDF0dpLxalZmFrUYzuT-qvQZeMhN0lQnkuEiYy7GEqhCZIAAfsy2CYbEpA7KCBbvkhIOEuSaVb66dJa\n",
       "7WYcerossZvk8Xkp2Udw_E3WIkUp0CLL8lIgeTefYrHksPA842jOcWeAp3R4D_Lfo.lePFyoTxAxQMbuRIoVIxZvOZHeyASFFYc8CY5q2s-fw&dib_t\n",
       "ag=se&keywords=TV+for+living+room&qid=1749199346&sr=8-7', 'price': '175,00 €', 'delivery_date': 'Livraison à \n",
       "5,98\\xa0€ 5 - 12 juil. '}, {'product_name': 'Furinno Econ Centre de Divertissement TV, Noir, Taille Unique, \n",
       "13054BK/BK, One Size', 'image_url': 'https://m.media-amazon.com/images/I/61fXT88HPtL._AC_UL320_.jpg', \n",
       "'product_link': \n",
       "'https://www.amazon.fr/Furinno-13054bk-BK-Loisirs-Rangement/dp/B00OSB29DS/ref=sr_1_8?dib=eyJ2IjoiMSJ9.PSDp45yD15ans\n",
       "iz2YjRt3qo3xMf4HRk0N2osDFweZU5mx8-nUzk-AQnRDHKXsfOdv9Mi6sh4kMdTyMYXGRijnemGlQ4TRcgCbswH79NnGstiAc2goPZkHg5VZlny8hC8\n",
       "pLhQAqqapQLl7DYb2p7IXzB7FkMNDF0dpLxalZmFrUYzuT-qvQZeMhN0lQnkuEiYy7GEqhCZIAAfsy2CYbEpA7KCBbvkhIOEuSaVb66dJa7WYceross\n",
       "Zvk8Xkp2Udw_E3WIkUp0CLL8lIgeTefYrHksPA842jOcWeAp3R4D_Lfo.lePFyoTxAxQMbuRIoVIxZvOZHeyASFFYc8CY5q2s-fw&dib_tag=se&key\n",
       "words=TV+for+living+room&qid=1749199346&sr=8-8', 'price': '48,21 €', 'delivery_date': ' Livraison GRATUITE jeu. 12 \n",
       "juin Arrive avant la fête des pères'}, {'product_name': 'Housses TV 24-65 inch Thickened Fleece TV Screen \n",
       "Protector, Indoor Bedroom Living Room Decoration Television Dust Cover TV Set Cover (Color : A, Size : 24in(59 * \n",
       "35cm))', 'image_url': 'https://m.media-amazon.com/images/I/61gN-ByXIkL._AC_UL320_.jpg', 'product_link': \n",
       "'https://www.amazon.fr/Housses-Thickened-Protector-Decoration-Television/dp/B0CBMM7615/ref=sr_1_9?dib=eyJ2IjoiMSJ9.\n",
       "PSDp45yD15ansiz2YjRt3qo3xMf4HRk0N2osDFweZU5mx8-nUzk-AQnRDHKXsfOdv9Mi6sh4kMdTyMYXGRijnemGlQ4TRcgCbswH79NnGstiAc2goPZ\n",
       "kHg5VZlny8hC8pLhQAqqapQLl7DYb2p7IXzB7FkMNDF0dpLxalZmFrUYzuT-qvQZeMhN0lQnkuEiYy7GEqhCZIAAfsy2CYbEpA7KCBbvkhIOEuSaVb6\n",
       "6dJa7WYcerossZvk8Xkp2Udw_E3WIkUp0CLL8lIgeTefYrHksPA842jOcWeAp3R4D_Lfo.lePFyoTxAxQMbuRIoVIxZvOZHeyASFFYc8CY5q2s-fw&d\n",
       "ib_tag=se&keywords=TV+for+living+room&qid=1749199346&sr=8-9', 'price': '13,17 €', 'delivery_date': 'Livraison \n",
       "GRATUITE 28 juin - 4 juil. '}, {'product_name': 'HOMN LIVING Meuble TV Lluvia 3 Portes Coloris chêne, 130 cm \n",
       "(Largeur) 40 cm (Profondeur) 45 cm (Hauteur)', 'image_url': \n",
       "'https://m.media-amazon.com/images/I/613uN+XJdbL._AC_UL320_.jpg', 'product_link': \n",
       "'https://www.amazon.fr/HOMN-LIVING-Coloris-Largeur-Profondeur/dp/B0C9QKQG79/ref=sr_1_10?dib=eyJ2IjoiMSJ9.PSDp45yD15\n",
       "ansiz2YjRt3qo3xMf4HRk0N2osDFweZU5mx8-nUzk-AQnRDHKXsfOdv9Mi6sh4kMdTyMYXGRijnemGlQ4TRcgCbswH79NnGstiAc2goPZkHg5VZlny8\n",
       "hC8pLhQAqqapQLl7DYb2p7IXzB7FkMNDF0dpLxalZmFrUYzuT-qvQZeMhN0lQnkuEiYy7GEqhCZIAAfsy2CYbEpA7KCBbvkhIOEuSaVb66dJa7WYcer\n",
       "ossZvk8Xkp2Udw_E3WIkUp0CLL8lIgeTefYrHksPA842jOcWeAp3R4D_Lfo.lePFyoTxAxQMbuRIoVIxZvOZHeyASFFYc8CY5q2s-fw&dib_tag=se&\n",
       "keywords=TV+for+living+room&qid=1749199346&sr=8-10', 'price': '129,99 €', 'delivery_date': 'Livraison GRATUITE 13 -\n",
       "17 juin '}, {'product_name': 'Housses TV 24-65 inch Thickened Fleece TV Screen Protector, Indoor Bedroom Living \n",
       "Room Decoration Television Dust Cover TV Set Cover (Color : B, Size : 37in(87 * 60cm))', 'image_url': \n",
       "'https://m.media-amazon.com/images/I/51qLu94AjxL._AC_UL320_.jpg', 'product_link': \n",
       "'https://www.amazon.fr/Housses-Thickened-Protector-Decoration-Television/dp/B0CBMSTKHL/ref=sr_1_6?dib=eyJ2IjoiMSJ9.\n",
       "w3AJt-xF2yQSPTEPn4GFClSenaR3RM5XRvZj_ahMW2HjMoyFZyCdrscwdGSOROI2ZmV6ldrtimC3mJRPuiyfbuLiZTiSVgcohAt4I_2te_IoULAP0Vy\n",
       "HtVa67uS00ngyV5VT75lgfHczap953mmQvLwA68V0qD1wQViOBMnpaKV-SQiTE7q8E8DL1OAuG9W3H4jmdw0f87LWtQtfcngTU0PphoPHsivn7CzL1i\n",
       "u6WAFjnoqyn9rwHqNW5cgRwaZQY5qjtRYFhUXG4GvVUXgRP3nBNuLe8A9e2hXhdHZ8Iz0.zLq5OKrkLnh5Fu8LS8MbO5wNDFMU3LPAXK0sn35g94s&d\n",
       "ib_tag=se&keywords=Smart+TV+living+room&qid=1749199347&sr=8-6', 'price': '20,83 €', 'delivery_date': 'Livraison \n",
       "GRATUITE 28 juin - 4 juil. '}, {'product_name': 'Xiaomi TV A Pro 43 2025, QLED, Google TV, Netflix, 43 inch', \n",
       "'image_url': 'https://m.media-amazon.com/images/I/71SKbeJLp+L._AC_UL320_.jpg', 'product_link': \n",
       "'https://www.amazon.fr/Xiaomi-2025-QLED-Google-Netflix/dp/B0CYZL2JY3/ref=sr_1_7?dib=eyJ2IjoiMSJ9.w3AJt-xF2yQSPTEPn4\n",
       "GFClSenaR3RM5XRvZj_ahMW2HjMoyFZyCdrscwdGSOROI2ZmV6ldrtimC3mJRPuiyfbuLiZTiSVgcohAt4I_2te_IoULAP0VyHtVa67uS00ngyV5VT7\n",
       "5lgfHczap953mmQvLwA68V0qD1wQViOBMnpaKV-SQiTE7q8E8DL1OAuG9W3H4jmdw0f87LWtQtfcngTU0PphoPHsivn7CzL1iu6WAFjnoqyn9rwHqNW\n",
       "5cgRwaZQY5qjtRYFhUXG4GvVUXgRP3nBNuLe8A9e2hXhdHZ8Iz0.zLq5OKrkLnh5Fu8LS8MbO5wNDFMU3LPAXK0sn35g94s&dib_tag=se&keywords\n",
       "=Smart+TV+living+room&qid=1749199347&sr=8-7', 'price': '292,97 €', 'delivery_date': ' Livraison GRATUITE mer. 11 \n",
       "juin Arrive avant la fête des pères'}, {'product_name': 'Meuble TV Meuble TV flottant mural avec 2 tiroirs et 1 \n",
       "étagère, plateau en ardoise, centre de divertissement flottant, console de télévision intelligente avec capteur de \n",
       "lumière LED for salon, chambre', 'image_url': 'https://m.media-amazon.com/images/I/715n5c3pWhL._AC_UL320_.jpg', \n",
       "'product_link': \n",
       "'https://www.amazon.fr/flottant-tiroirs-divertissement-t%C3%A9l%C3%A9vision-intelligente/dp/B0D937FMDQ/ref=sr_1_8?d\n",
       "ib=eyJ2IjoiMSJ9.w3AJt-xF2yQSPTEPn4GFClSenaR3RM5XRvZj_ahMW2HjMoyFZyCdrscwdGSOROI2ZmV6ldrtimC3mJRPuiyfbuLiZTiSVgcohAt\n",
       "4I_2te_IoULAP0VyHtVa67uS00ngyV5VT75lgfHczap953mmQvLwA68V0qD1wQViOBMnpaKV-SQiTE7q8E8DL1OAuG9W3H4jmdw0f87LWtQtfcngTU0\n",
       "PphoPHsivn7CzL1iu6WAFjnoqyn9rwHqNW5cgRwaZQY5qjtRYFhUXG4GvVUXgRP3nBNuLe8A9e2hXhdHZ8Iz0.zLq5OKrkLnh5Fu8LS8MbO5wNDFMU3\n",
       "LPAXK0sn35g94s&dib_tag=se&keywords=Smart+TV+living+room&qid=1749199347&sr=8-8', 'price': '1\\u202f143,91 €', \n",
       "'delivery_date': 'Livraison GRATUITE 21 juin - 2 juil. '}, {'product_name': \"VASAGLE Meuble TV pour Télévision \n",
       "Jusqu’à 65 Pouces, Support Télévision, avec Compartiments Ouverts, Étagères, pour Salon, Salle de Jeu, Style \n",
       "Industriel, Marron Rustique et Noir d'encre LTV061K01\", 'image_url': \n",
       "'https://m.media-amazon.com/images/I/71lqpqi4ydL._AC_UL320_.jpg', 'product_link': \n",
       "'https://www.amazon.fr/VASAGLE-T%C3%A9l%C3%A9vision-Compartiments-Industriel-LTV061K01/dp/B0D5L7X5GK/ref=sr_1_9?dib\n",
       "=eyJ2IjoiMSJ9.w3AJt-xF2yQSPTEPn4GFClSenaR3RM5XRvZj_ahMW2HjMoyFZyCdrscwdGSOROI2ZmV6ldrtimC3mJRPuiyfbuLiZTiSVgcohAt4I\n",
       "_2te_IoULAP0VyHtVa67uS00ngyV5VT75lgfHczap953mmQvLwA68V0qD1wQViOBMnpaKV-SQiTE7q8E8DL1OAuG9W3H4jmdw0f87LWtQtfcngTU0Pp\n",
       "hoPHsivn7CzL1iu6WAFjnoqyn9rwHqNW5cgRwaZQY5qjtRYFhUXG4GvVUXgRP3nBNuLe8A9e2hXhdHZ8Iz0.zLq5OKrkLnh5Fu8LS8MbO5wNDFMU3LP\n",
       "AXK0sn35g94s&dib_tag=se&keywords=Smart+TV+living+room&qid=1749199347&sr=8-9', 'price': '72,99 €', 'delivery_date': \n",
       "'Livraison GRATUITE 13 - 17 juin '}, {'product_name': 'TV Stand Feet, Adjustable TV Height Riser, Aluminum Alloy \n",
       "Television, Stable Support, Non Slip Base Feet for 32 to 65 inch TVs for Living Room Or Bedroom', 'image_url': \n",
       "'https://m.media-amazon.com/images/I/51YvIYQnWrL._AC_UL320_.jpg', 'product_link': \n",
       "'https://www.amazon.fr/Adjustable-Aluminum-Television-Support-Bedroom/dp/B0DY774C5C/ref=sr_1_10?dib=eyJ2IjoiMSJ9.w3\n",
       "AJt-xF2yQSPTEPn4GFClSenaR3RM5XRvZj_ahMW2HjMoyFZyCdrscwdGSOROI2ZmV6ldrtimC3mJRPuiyfbuLiZTiSVgcohAt4I_2te_IoULAP0VyHt\n",
       "Va67uS00ngyV5VT75lgfHczap953mmQvLwA68V0qD1wQViOBMnpaKV-SQiTE7q8E8DL1OAuG9W3H4jmdw0f87LWtQtfcngTU0PphoPHsivn7CzL1iu6\n",
       "WAFjnoqyn9rwHqNW5cgRwaZQY5qjtRYFhUXG4GvVUXgRP3nBNuLe8A9e2hXhdHZ8Iz0.zLq5OKrkLnh5Fu8LS8MbO5wNDFMU3LPAXK0sn35g94s&dib\n",
       "_tag=se&keywords=Smart+TV+living+room&qid=1749199347&sr=8-10', 'price': '19,69 €', 'delivery_date': 'Livraison à \n",
       "0,99\\xa0€ 24 - 28 juin '}]\n",
       "Number of products found by search: 10\n",
       "\n",
       "Out: None\n"
      ]
     },
     "metadata": {},
     "output_type": "display_data"
    },
    {
     "data": {
      "text/html": [
       "<pre style=\"white-space:pre;overflow-x:auto;line-height:normal;font-family:Menlo,'DejaVu Sans Mono',consolas,'Courier New',monospace\"><span style=\"color: #7f7f7f; text-decoration-color: #7f7f7f\">[Step 1: Duration 4.37 seconds| Input tokens: 5,124 | Output tokens: 80]</span>\n",
       "</pre>\n"
      ],
      "text/plain": [
       "\u001B[2m[Step 1: Duration 4.37 seconds| Input tokens: 5,124 | Output tokens: 80]\u001B[0m\n"
      ]
     },
     "metadata": {},
     "output_type": "display_data"
    },
    {
     "data": {
      "text/html": [
       "<pre style=\"white-space:pre;overflow-x:auto;line-height:normal;font-family:Menlo,'DejaVu Sans Mono',consolas,'Courier New',monospace\"><span style=\"color: #d4b702; text-decoration-color: #d4b702\">━━━━━━━━━━━━━━━━━━━━━━━━━━━━━━━━━━━━━━━━━━━━━━━━━━━━━ </span><span style=\"font-weight: bold\">Step </span><span style=\"color: #008080; text-decoration-color: #008080; font-weight: bold\">2</span><span style=\"color: #d4b702; text-decoration-color: #d4b702\"> ━━━━━━━━━━━━━━━━━━━━━━━━━━━━━━━━━━━━━━━━━━━━━━━━━━━━━━</span>\n",
       "</pre>\n"
      ],
      "text/plain": [
       "\u001B[38;2;212;183;2m━━━━━━━━━━━━━━━━━━━━━━━━━━━━━━━━━━━━━━━━━━━━━━━━━━━━━ \u001B[0m\u001B[1mStep \u001B[0m\u001B[1;36m2\u001B[0m\u001B[38;2;212;183;2m ━━━━━━━━━━━━━━━━━━━━━━━━━━━━━━━━━━━━━━━━━━━━━━━━━━━━━━\u001B[0m\n"
      ]
     },
     "metadata": {},
     "output_type": "display_data"
    },
    {
     "data": {
      "text/html": [
       "<pre style=\"white-space:pre;overflow-x:auto;line-height:normal;font-family:Menlo,'DejaVu Sans Mono',consolas,'Courier New',monospace\"> ─ <span style=\"font-weight: bold\">Executing parsed code:</span> ──────────────────────────────────────────────────────────────────────────────────────── \n",
       "  <span style=\"color: #959077; text-decoration-color: #959077; background-color: #272822\"># Filter out irrelevant products (furniture, accessories)</span><span style=\"background-color: #272822\">                                                      </span>  \n",
       "  <span style=\"color: #f8f8f2; text-decoration-color: #f8f8f2; background-color: #272822\">condition </span><span style=\"color: #ff4689; text-decoration-color: #ff4689; background-color: #272822\">=</span><span style=\"color: #f8f8f2; text-decoration-color: #f8f8f2; background-color: #272822\"> </span><span style=\"color: #e6db74; text-decoration-color: #e6db74; background-color: #272822\">\"actual television sets, not furniture or accessories\"</span><span style=\"background-color: #272822\">                                             </span>  \n",
       "  <span style=\"color: #f8f8f2; text-decoration-color: #f8f8f2; background-color: #272822\">filtered_products </span><span style=\"color: #ff4689; text-decoration-color: #ff4689; background-color: #272822\">=</span><span style=\"color: #f8f8f2; text-decoration-color: #f8f8f2; background-color: #272822\"> filter_product(l_product, condition)</span><span style=\"background-color: #272822\">                                                       </span>  \n",
       "  <span style=\"color: #f8f8f2; text-decoration-color: #f8f8f2; background-color: #272822\">print(</span><span style=\"color: #e6db74; text-decoration-color: #e6db74; background-color: #272822\">f\"Filtered product list: {</span><span style=\"color: #f8f8f2; text-decoration-color: #f8f8f2; background-color: #272822\">filtered_products</span><span style=\"color: #e6db74; text-decoration-color: #e6db74; background-color: #272822\">}\"</span><span style=\"color: #f8f8f2; text-decoration-color: #f8f8f2; background-color: #272822\">)</span><span style=\"background-color: #272822\">                                                           </span>  \n",
       "  <span style=\"color: #f8f8f2; text-decoration-color: #f8f8f2; background-color: #272822\">print(</span><span style=\"color: #e6db74; text-decoration-color: #e6db74; background-color: #272822\">f\"Number of filtered products: {</span><span style=\"color: #f8f8f2; text-decoration-color: #f8f8f2; background-color: #272822\">len(filtered_products)</span><span style=\"color: #e6db74; text-decoration-color: #e6db74; background-color: #272822\">}\"</span><span style=\"color: #f8f8f2; text-decoration-color: #f8f8f2; background-color: #272822\">)</span><span style=\"background-color: #272822\">                                                </span>  \n",
       "  <span style=\"background-color: #272822\">                                                                                                               </span>  \n",
       "  <span style=\"color: #959077; text-decoration-color: #959077; background-color: #272822\"># If no relevant products are found, inform the user</span><span style=\"background-color: #272822\">                                                           </span>  \n",
       "  <span style=\"color: #66d9ef; text-decoration-color: #66d9ef; background-color: #272822\">if</span><span style=\"color: #f8f8f2; text-decoration-color: #f8f8f2; background-color: #272822\"> </span><span style=\"color: #ff4689; text-decoration-color: #ff4689; background-color: #272822\">not</span><span style=\"color: #f8f8f2; text-decoration-color: #f8f8f2; background-color: #272822\"> filtered_products:</span><span style=\"background-color: #272822\">                                                                                      </span>  \n",
       "  <span style=\"color: #f8f8f2; text-decoration-color: #f8f8f2; background-color: #272822\">    final_answer(</span><span style=\"color: #e6db74; text-decoration-color: #e6db74; background-color: #272822\">\"I couldn't find any suitable TV sets based on your initial request. Could you please provide </span>  \n",
       "  <span style=\"color: #e6db74; text-decoration-color: #e6db74; background-color: #272822\">more specific keywords or criteria?\"</span><span style=\"color: #f8f8f2; text-decoration-color: #f8f8f2; background-color: #272822\">, </span><span style=\"color: #66d9ef; text-decoration-color: #66d9ef; background-color: #272822\">None</span><span style=\"color: #f8f8f2; text-decoration-color: #f8f8f2; background-color: #272822\">)</span><span style=\"background-color: #272822\">                                                                    </span>  \n",
       "  <span style=\"color: #66d9ef; text-decoration-color: #66d9ef; background-color: #272822\">else</span><span style=\"color: #f8f8f2; text-decoration-color: #f8f8f2; background-color: #272822\">:</span><span style=\"background-color: #272822\">                                                                                                          </span>  \n",
       "  <span style=\"color: #f8f8f2; text-decoration-color: #f8f8f2; background-color: #272822\">    </span><span style=\"color: #959077; text-decoration-color: #959077; background-color: #272822\"># Proceed with feature extraction and comparison for the filtered products</span><span style=\"background-color: #272822\">                                 </span>  \n",
       "  <span style=\"color: #f8f8f2; text-decoration-color: #f8f8f2; background-color: #272822\">    product_details_list </span><span style=\"color: #ff4689; text-decoration-color: #ff4689; background-color: #272822\">=</span><span style=\"color: #f8f8f2; text-decoration-color: #f8f8f2; background-color: #272822\"> []</span><span style=\"background-color: #272822\">                                                                                  </span>  \n",
       "  <span style=\"color: #f8f8f2; text-decoration-color: #f8f8f2; background-color: #272822\">    features_to_compare </span><span style=\"color: #ff4689; text-decoration-color: #ff4689; background-color: #272822\">=</span><span style=\"color: #f8f8f2; text-decoration-color: #f8f8f2; background-color: #272822\"> [</span><span style=\"color: #e6db74; text-decoration-color: #e6db74; background-color: #272822\">'size'</span><span style=\"color: #f8f8f2; text-decoration-color: #f8f8f2; background-color: #272822\">, </span><span style=\"color: #e6db74; text-decoration-color: #e6db74; background-color: #272822\">'resolution'</span><span style=\"color: #f8f8f2; text-decoration-color: #f8f8f2; background-color: #272822\">, </span><span style=\"color: #e6db74; text-decoration-color: #e6db74; background-color: #272822\">'smart_options'</span><span style=\"color: #f8f8f2; text-decoration-color: #f8f8f2; background-color: #272822\">, </span><span style=\"color: #e6db74; text-decoration-color: #e6db74; background-color: #272822\">'display_technology'</span><span style=\"color: #f8f8f2; text-decoration-color: #f8f8f2; background-color: #272822\">] </span><span style=\"color: #959077; text-decoration-color: #959077; background-color: #272822\"># Added </span><span style=\"background-color: #272822\">               </span>  \n",
       "  <span style=\"color: #959077; text-decoration-color: #959077; background-color: #272822\">display_technology</span><span style=\"background-color: #272822\">                                                                                             </span>  \n",
       "  <span style=\"background-color: #272822\">                                                                                                               </span>  \n",
       "  <span style=\"color: #f8f8f2; text-decoration-color: #f8f8f2; background-color: #272822\">    </span><span style=\"color: #66d9ef; text-decoration-color: #66d9ef; background-color: #272822\">for</span><span style=\"color: #f8f8f2; text-decoration-color: #f8f8f2; background-color: #272822\"> product </span><span style=\"color: #ff4689; text-decoration-color: #ff4689; background-color: #272822\">in</span><span style=\"color: #f8f8f2; text-decoration-color: #f8f8f2; background-color: #272822\"> filtered_products:</span><span style=\"background-color: #272822\">                                                                          </span>  \n",
       "  <span style=\"color: #f8f8f2; text-decoration-color: #f8f8f2; background-color: #272822\">        </span><span style=\"color: #66d9ef; text-decoration-color: #66d9ef; background-color: #272822\">try</span><span style=\"color: #f8f8f2; text-decoration-color: #f8f8f2; background-color: #272822\">:</span><span style=\"background-color: #272822\">                                                                                                   </span>  \n",
       "  <span style=\"color: #f8f8f2; text-decoration-color: #f8f8f2; background-color: #272822\">            product_description </span><span style=\"color: #ff4689; text-decoration-color: #ff4689; background-color: #272822\">=</span><span style=\"color: #f8f8f2; text-decoration-color: #f8f8f2; background-color: #272822\"> get_product_description(product[</span><span style=\"color: #e6db74; text-decoration-color: #e6db74; background-color: #272822\">'product_link'</span><span style=\"color: #f8f8f2; text-decoration-color: #f8f8f2; background-color: #272822\">])</span><span style=\"background-color: #272822\">                             </span>  \n",
       "  <span style=\"color: #f8f8f2; text-decoration-color: #f8f8f2; background-color: #272822\">            </span><span style=\"color: #959077; text-decoration-color: #959077; background-color: #272822\"># Include product_name and price from the search result directly</span><span style=\"background-color: #272822\">                                   </span>  \n",
       "  <span style=\"color: #f8f8f2; text-decoration-color: #f8f8f2; background-color: #272822\">            </span><span style=\"color: #959077; text-decoration-color: #959077; background-color: #272822\"># as parse_product_description_with_guide might not always get them or get them differently</span><span style=\"background-color: #272822\">        </span>  \n",
       "  <span style=\"color: #f8f8f2; text-decoration-color: #f8f8f2; background-color: #272822\">            parsed_features </span><span style=\"color: #ff4689; text-decoration-color: #ff4689; background-color: #272822\">=</span><span style=\"color: #f8f8f2; text-decoration-color: #f8f8f2; background-color: #272822\"> parse_product_description_with_guide(product_description, features_to_compare)</span><span style=\"background-color: #272822\">   </span>  \n",
       "  <span style=\"color: #f8f8f2; text-decoration-color: #f8f8f2; background-color: #272822\">            </span><span style=\"background-color: #272822\">                                                                                                   </span>  \n",
       "  <span style=\"color: #f8f8f2; text-decoration-color: #f8f8f2; background-color: #272822\">            </span><span style=\"color: #959077; text-decoration-color: #959077; background-color: #272822\"># Ensure basic info from search result is preserved if parser doesn't find it</span><span style=\"background-color: #272822\">                      </span>  \n",
       "  <span style=\"color: #f8f8f2; text-decoration-color: #f8f8f2; background-color: #272822\">            </span><span style=\"color: #959077; text-decoration-color: #959077; background-color: #272822\"># and to keep consistency</span><span style=\"background-color: #272822\">                                                                          </span>  \n",
       "  <span style=\"color: #f8f8f2; text-decoration-color: #f8f8f2; background-color: #272822\">            final_product_info </span><span style=\"color: #ff4689; text-decoration-color: #ff4689; background-color: #272822\">=</span><span style=\"color: #f8f8f2; text-decoration-color: #f8f8f2; background-color: #272822\"> {</span><span style=\"background-color: #272822\">                                                                             </span>  \n",
       "  <span style=\"color: #f8f8f2; text-decoration-color: #f8f8f2; background-color: #272822\">                </span><span style=\"color: #e6db74; text-decoration-color: #e6db74; background-color: #272822\">'product_name'</span><span style=\"color: #f8f8f2; text-decoration-color: #f8f8f2; background-color: #272822\">: product</span><span style=\"color: #ff4689; text-decoration-color: #ff4689; background-color: #272822\">.</span><span style=\"color: #f8f8f2; text-decoration-color: #f8f8f2; background-color: #272822\">get(</span><span style=\"color: #e6db74; text-decoration-color: #e6db74; background-color: #272822\">'product_name'</span><span style=\"color: #f8f8f2; text-decoration-color: #f8f8f2; background-color: #272822\">, parsed_features</span><span style=\"color: #ff4689; text-decoration-color: #ff4689; background-color: #272822\">.</span><span style=\"color: #f8f8f2; text-decoration-color: #f8f8f2; background-color: #272822\">get(</span><span style=\"color: #e6db74; text-decoration-color: #e6db74; background-color: #272822\">'product_name'</span><span style=\"color: #f8f8f2; text-decoration-color: #f8f8f2; background-color: #272822\">, </span><span style=\"color: #e6db74; text-decoration-color: #e6db74; background-color: #272822\">'N/A'</span><span style=\"color: #f8f8f2; text-decoration-color: #f8f8f2; background-color: #272822\">)),</span><span style=\"background-color: #272822\">       </span>  \n",
       "  <span style=\"color: #f8f8f2; text-decoration-color: #f8f8f2; background-color: #272822\">                </span><span style=\"color: #e6db74; text-decoration-color: #e6db74; background-color: #272822\">'price'</span><span style=\"color: #f8f8f2; text-decoration-color: #f8f8f2; background-color: #272822\">: product</span><span style=\"color: #ff4689; text-decoration-color: #ff4689; background-color: #272822\">.</span><span style=\"color: #f8f8f2; text-decoration-color: #f8f8f2; background-color: #272822\">get(</span><span style=\"color: #e6db74; text-decoration-color: #e6db74; background-color: #272822\">'price'</span><span style=\"color: #f8f8f2; text-decoration-color: #f8f8f2; background-color: #272822\">, parsed_features</span><span style=\"color: #ff4689; text-decoration-color: #ff4689; background-color: #272822\">.</span><span style=\"color: #f8f8f2; text-decoration-color: #f8f8f2; background-color: #272822\">get(</span><span style=\"color: #e6db74; text-decoration-color: #e6db74; background-color: #272822\">'price'</span><span style=\"color: #f8f8f2; text-decoration-color: #f8f8f2; background-color: #272822\">, </span><span style=\"color: #e6db74; text-decoration-color: #e6db74; background-color: #272822\">'N/A'</span><span style=\"color: #f8f8f2; text-decoration-color: #f8f8f2; background-color: #272822\">)),</span><span style=\"background-color: #272822\">                            </span>  \n",
       "  <span style=\"color: #f8f8f2; text-decoration-color: #f8f8f2; background-color: #272822\">                </span><span style=\"color: #e6db74; text-decoration-color: #e6db74; background-color: #272822\">'image_url'</span><span style=\"color: #f8f8f2; text-decoration-color: #f8f8f2; background-color: #272822\">: product</span><span style=\"color: #ff4689; text-decoration-color: #ff4689; background-color: #272822\">.</span><span style=\"color: #f8f8f2; text-decoration-color: #f8f8f2; background-color: #272822\">get(</span><span style=\"color: #e6db74; text-decoration-color: #e6db74; background-color: #272822\">'image_url'</span><span style=\"color: #f8f8f2; text-decoration-color: #f8f8f2; background-color: #272822\">, parsed_features</span><span style=\"color: #ff4689; text-decoration-color: #ff4689; background-color: #272822\">.</span><span style=\"color: #f8f8f2; text-decoration-color: #f8f8f2; background-color: #272822\">get(</span><span style=\"color: #e6db74; text-decoration-color: #e6db74; background-color: #272822\">'image_url'</span><span style=\"color: #f8f8f2; text-decoration-color: #f8f8f2; background-color: #272822\">, </span><span style=\"color: #e6db74; text-decoration-color: #e6db74; background-color: #272822\">'N/A'</span><span style=\"color: #f8f8f2; text-decoration-color: #f8f8f2; background-color: #272822\">)), </span><span style=\"color: #959077; text-decoration-color: #959077; background-color: #272822\"># Keep </span><span style=\"background-color: #272822\">        </span>  \n",
       "  <span style=\"color: #959077; text-decoration-color: #959077; background-color: #272822\">image_url</span><span style=\"background-color: #272822\">                                                                                                      </span>  \n",
       "  <span style=\"color: #f8f8f2; text-decoration-color: #f8f8f2; background-color: #272822\">                </span><span style=\"color: #e6db74; text-decoration-color: #e6db74; background-color: #272822\">'product_link'</span><span style=\"color: #f8f8f2; text-decoration-color: #f8f8f2; background-color: #272822\">: product</span><span style=\"color: #ff4689; text-decoration-color: #ff4689; background-color: #272822\">.</span><span style=\"color: #f8f8f2; text-decoration-color: #f8f8f2; background-color: #272822\">get(</span><span style=\"color: #e6db74; text-decoration-color: #e6db74; background-color: #272822\">'product_link'</span><span style=\"color: #f8f8f2; text-decoration-color: #f8f8f2; background-color: #272822\">) </span><span style=\"color: #959077; text-decoration-color: #959077; background-color: #272822\"># Keep product_link</span><span style=\"background-color: #272822\">                                </span>  \n",
       "  <span style=\"color: #f8f8f2; text-decoration-color: #f8f8f2; background-color: #272822\">            }</span><span style=\"background-color: #272822\">                                                                                                  </span>  \n",
       "  <span style=\"color: #f8f8f2; text-decoration-color: #f8f8f2; background-color: #272822\">            </span><span style=\"color: #959077; text-decoration-color: #959077; background-color: #272822\"># Update with parsed features, giving preference to them if they exist</span><span style=\"background-color: #272822\">                             </span>  \n",
       "  <span style=\"color: #f8f8f2; text-decoration-color: #f8f8f2; background-color: #272822\">            </span><span style=\"color: #66d9ef; text-decoration-color: #66d9ef; background-color: #272822\">for</span><span style=\"color: #f8f8f2; text-decoration-color: #f8f8f2; background-color: #272822\"> feature </span><span style=\"color: #ff4689; text-decoration-color: #ff4689; background-color: #272822\">in</span><span style=\"color: #f8f8f2; text-decoration-color: #f8f8f2; background-color: #272822\"> features_to_compare:</span><span style=\"background-color: #272822\">                                                                </span>  \n",
       "  <span style=\"color: #f8f8f2; text-decoration-color: #f8f8f2; background-color: #272822\">                final_product_info[feature] </span><span style=\"color: #ff4689; text-decoration-color: #ff4689; background-color: #272822\">=</span><span style=\"color: #f8f8f2; text-decoration-color: #f8f8f2; background-color: #272822\"> parsed_features</span><span style=\"color: #ff4689; text-decoration-color: #ff4689; background-color: #272822\">.</span><span style=\"color: #f8f8f2; text-decoration-color: #f8f8f2; background-color: #272822\">get(feature, </span><span style=\"color: #e6db74; text-decoration-color: #e6db74; background-color: #272822\">'N/A'</span><span style=\"color: #f8f8f2; text-decoration-color: #f8f8f2; background-color: #272822\">)</span><span style=\"background-color: #272822\">                              </span>  \n",
       "  <span style=\"color: #f8f8f2; text-decoration-color: #f8f8f2; background-color: #272822\">            </span><span style=\"background-color: #272822\">                                                                                                   </span>  \n",
       "  <span style=\"color: #f8f8f2; text-decoration-color: #f8f8f2; background-color: #272822\">            product_details_list</span><span style=\"color: #ff4689; text-decoration-color: #ff4689; background-color: #272822\">.</span><span style=\"color: #f8f8f2; text-decoration-color: #f8f8f2; background-color: #272822\">append(final_product_info)</span><span style=\"background-color: #272822\">                                                    </span>  \n",
       "  <span style=\"color: #f8f8f2; text-decoration-color: #f8f8f2; background-color: #272822\">        </span><span style=\"color: #66d9ef; text-decoration-color: #66d9ef; background-color: #272822\">except</span><span style=\"color: #f8f8f2; text-decoration-color: #f8f8f2; background-color: #272822\"> </span><span style=\"color: #a6e22e; text-decoration-color: #a6e22e; background-color: #272822\">Exception</span><span style=\"color: #f8f8f2; text-decoration-color: #f8f8f2; background-color: #272822\"> </span><span style=\"color: #66d9ef; text-decoration-color: #66d9ef; background-color: #272822\">as</span><span style=\"color: #f8f8f2; text-decoration-color: #f8f8f2; background-color: #272822\"> e:</span><span style=\"background-color: #272822\">                                                                                 </span>  \n",
       "  <span style=\"color: #f8f8f2; text-decoration-color: #f8f8f2; background-color: #272822\">            print(</span><span style=\"color: #e6db74; text-decoration-color: #e6db74; background-color: #272822\">f\"Error processing product {</span><span style=\"color: #f8f8f2; text-decoration-color: #f8f8f2; background-color: #272822\">product</span><span style=\"color: #ff4689; text-decoration-color: #ff4689; background-color: #272822\">.</span><span style=\"color: #f8f8f2; text-decoration-color: #f8f8f2; background-color: #272822\">get(</span><span style=\"color: #e6db74; text-decoration-color: #e6db74; background-color: #272822\">'product_name'</span><span style=\"color: #f8f8f2; text-decoration-color: #f8f8f2; background-color: #272822\">, </span><span style=\"color: #e6db74; text-decoration-color: #e6db74; background-color: #272822\">'Unknown Product'</span><span style=\"color: #f8f8f2; text-decoration-color: #f8f8f2; background-color: #272822\">)</span><span style=\"color: #e6db74; text-decoration-color: #e6db74; background-color: #272822\">}: {</span><span style=\"color: #f8f8f2; text-decoration-color: #f8f8f2; background-color: #272822\">e</span><span style=\"color: #e6db74; text-decoration-color: #e6db74; background-color: #272822\">}\"</span><span style=\"color: #f8f8f2; text-decoration-color: #f8f8f2; background-color: #272822\">)</span><span style=\"background-color: #272822\">           </span>  \n",
       "  <span style=\"color: #f8f8f2; text-decoration-color: #f8f8f2; background-color: #272822\">            </span><span style=\"color: #959077; text-decoration-color: #959077; background-color: #272822\"># Add basic info even if parsing fails, so it's not completely lost</span><span style=\"background-color: #272822\">                                </span>  \n",
       "  <span style=\"color: #f8f8f2; text-decoration-color: #f8f8f2; background-color: #272822\">            product_details_list</span><span style=\"color: #ff4689; text-decoration-color: #ff4689; background-color: #272822\">.</span><span style=\"color: #f8f8f2; text-decoration-color: #f8f8f2; background-color: #272822\">append({</span><span style=\"background-color: #272822\">                                                                      </span>  \n",
       "  <span style=\"color: #f8f8f2; text-decoration-color: #f8f8f2; background-color: #272822\">                </span><span style=\"color: #e6db74; text-decoration-color: #e6db74; background-color: #272822\">'product_name'</span><span style=\"color: #f8f8f2; text-decoration-color: #f8f8f2; background-color: #272822\">: product</span><span style=\"color: #ff4689; text-decoration-color: #ff4689; background-color: #272822\">.</span><span style=\"color: #f8f8f2; text-decoration-color: #f8f8f2; background-color: #272822\">get(</span><span style=\"color: #e6db74; text-decoration-color: #e6db74; background-color: #272822\">'product_name'</span><span style=\"color: #f8f8f2; text-decoration-color: #f8f8f2; background-color: #272822\">, </span><span style=\"color: #e6db74; text-decoration-color: #e6db74; background-color: #272822\">'Error processing this product'</span><span style=\"color: #f8f8f2; text-decoration-color: #f8f8f2; background-color: #272822\">),</span><span style=\"background-color: #272822\">                  </span>  \n",
       "  <span style=\"color: #f8f8f2; text-decoration-color: #f8f8f2; background-color: #272822\">                </span><span style=\"color: #e6db74; text-decoration-color: #e6db74; background-color: #272822\">'price'</span><span style=\"color: #f8f8f2; text-decoration-color: #f8f8f2; background-color: #272822\">: product</span><span style=\"color: #ff4689; text-decoration-color: #ff4689; background-color: #272822\">.</span><span style=\"color: #f8f8f2; text-decoration-color: #f8f8f2; background-color: #272822\">get(</span><span style=\"color: #e6db74; text-decoration-color: #e6db74; background-color: #272822\">'price'</span><span style=\"color: #f8f8f2; text-decoration-color: #f8f8f2; background-color: #272822\">, </span><span style=\"color: #e6db74; text-decoration-color: #e6db74; background-color: #272822\">'N/A'</span><span style=\"color: #f8f8f2; text-decoration-color: #f8f8f2; background-color: #272822\">),</span><span style=\"background-color: #272822\">                                                          </span>  \n",
       "  <span style=\"color: #f8f8f2; text-decoration-color: #f8f8f2; background-color: #272822\">                </span><span style=\"color: #e6db74; text-decoration-color: #e6db74; background-color: #272822\">'image_url'</span><span style=\"color: #f8f8f2; text-decoration-color: #f8f8f2; background-color: #272822\">: product</span><span style=\"color: #ff4689; text-decoration-color: #ff4689; background-color: #272822\">.</span><span style=\"color: #f8f8f2; text-decoration-color: #f8f8f2; background-color: #272822\">get(</span><span style=\"color: #e6db74; text-decoration-color: #e6db74; background-color: #272822\">'image_url'</span><span style=\"color: #f8f8f2; text-decoration-color: #f8f8f2; background-color: #272822\">, </span><span style=\"color: #e6db74; text-decoration-color: #e6db74; background-color: #272822\">'N/A'</span><span style=\"color: #f8f8f2; text-decoration-color: #f8f8f2; background-color: #272822\">),</span><span style=\"background-color: #272822\">                                                  </span>  \n",
       "  <span style=\"color: #f8f8f2; text-decoration-color: #f8f8f2; background-color: #272822\">                </span><span style=\"color: #e6db74; text-decoration-color: #e6db74; background-color: #272822\">'product_link'</span><span style=\"color: #f8f8f2; text-decoration-color: #f8f8f2; background-color: #272822\">: product</span><span style=\"color: #ff4689; text-decoration-color: #ff4689; background-color: #272822\">.</span><span style=\"color: #f8f8f2; text-decoration-color: #f8f8f2; background-color: #272822\">get(</span><span style=\"color: #e6db74; text-decoration-color: #e6db74; background-color: #272822\">'product_link'</span><span style=\"color: #f8f8f2; text-decoration-color: #f8f8f2; background-color: #272822\">),</span><span style=\"background-color: #272822\">                                                   </span>  \n",
       "  <span style=\"color: #f8f8f2; text-decoration-color: #f8f8f2; background-color: #272822\">                </span><span style=\"color: #e6db74; text-decoration-color: #e6db74; background-color: #272822\">'size'</span><span style=\"color: #f8f8f2; text-decoration-color: #f8f8f2; background-color: #272822\">: </span><span style=\"color: #e6db74; text-decoration-color: #e6db74; background-color: #272822\">'N/A'</span><span style=\"color: #f8f8f2; text-decoration-color: #f8f8f2; background-color: #272822\">,</span><span style=\"background-color: #272822\">                                                                                 </span>  \n",
       "  <span style=\"color: #f8f8f2; text-decoration-color: #f8f8f2; background-color: #272822\">                </span><span style=\"color: #e6db74; text-decoration-color: #e6db74; background-color: #272822\">'resolution'</span><span style=\"color: #f8f8f2; text-decoration-color: #f8f8f2; background-color: #272822\">: </span><span style=\"color: #e6db74; text-decoration-color: #e6db74; background-color: #272822\">'N/A'</span><span style=\"color: #f8f8f2; text-decoration-color: #f8f8f2; background-color: #272822\">,</span><span style=\"background-color: #272822\">                                                                           </span>  \n",
       "  <span style=\"color: #f8f8f2; text-decoration-color: #f8f8f2; background-color: #272822\">                </span><span style=\"color: #e6db74; text-decoration-color: #e6db74; background-color: #272822\">'smart_options'</span><span style=\"color: #f8f8f2; text-decoration-color: #f8f8f2; background-color: #272822\">: </span><span style=\"color: #e6db74; text-decoration-color: #e6db74; background-color: #272822\">'N/A'</span><span style=\"color: #f8f8f2; text-decoration-color: #f8f8f2; background-color: #272822\">,</span><span style=\"background-color: #272822\">                                                                        </span>  \n",
       "  <span style=\"color: #f8f8f2; text-decoration-color: #f8f8f2; background-color: #272822\">                </span><span style=\"color: #e6db74; text-decoration-color: #e6db74; background-color: #272822\">'display_technology'</span><span style=\"color: #f8f8f2; text-decoration-color: #f8f8f2; background-color: #272822\">: </span><span style=\"color: #e6db74; text-decoration-color: #e6db74; background-color: #272822\">'N/A'</span><span style=\"color: #f8f8f2; text-decoration-color: #f8f8f2; background-color: #272822\">,</span><span style=\"background-color: #272822\">                                                                   </span>  \n",
       "  <span style=\"color: #f8f8f2; text-decoration-color: #f8f8f2; background-color: #272822\">                </span><span style=\"color: #e6db74; text-decoration-color: #e6db74; background-color: #272822\">'Error'</span><span style=\"color: #f8f8f2; text-decoration-color: #f8f8f2; background-color: #272822\">: str(e) </span><span style=\"color: #959077; text-decoration-color: #959077; background-color: #272822\"># Add error information</span><span style=\"background-color: #272822\">                                                        </span>  \n",
       "  <span style=\"color: #f8f8f2; text-decoration-color: #f8f8f2; background-color: #272822\">            })</span><span style=\"background-color: #272822\">                                                                                                 </span>  \n",
       "  <span style=\"background-color: #272822\">                                                                                                               </span>  \n",
       "  <span style=\"color: #f8f8f2; text-decoration-color: #f8f8f2; background-color: #272822\">    print(</span><span style=\"color: #e6db74; text-decoration-color: #e6db74; background-color: #272822\">f\"Product details list for comparison: {</span><span style=\"color: #f8f8f2; text-decoration-color: #f8f8f2; background-color: #272822\">product_details_list</span><span style=\"color: #e6db74; text-decoration-color: #e6db74; background-color: #272822\">}\"</span><span style=\"color: #f8f8f2; text-decoration-color: #f8f8f2; background-color: #272822\">)</span><span style=\"background-color: #272822\">                                      </span>  \n",
       "  <span style=\"background-color: #272822\">                                                                                                               </span>  \n",
       "  <span style=\"color: #f8f8f2; text-decoration-color: #f8f8f2; background-color: #272822\">    </span><span style=\"color: #66d9ef; text-decoration-color: #66d9ef; background-color: #272822\">if</span><span style=\"color: #f8f8f2; text-decoration-color: #f8f8f2; background-color: #272822\"> </span><span style=\"color: #ff4689; text-decoration-color: #ff4689; background-color: #272822\">not</span><span style=\"color: #f8f8f2; text-decoration-color: #f8f8f2; background-color: #272822\"> product_details_list:</span><span style=\"background-color: #272822\">                                                                               </span>  \n",
       "  <span style=\"color: #f8f8f2; text-decoration-color: #f8f8f2; background-color: #272822\">        final_answer(</span><span style=\"color: #e6db74; text-decoration-color: #e6db74; background-color: #272822\">\"I found some TV-related items, but I couldn't extract detailed features for actual TVs. </span><span style=\"background-color: #272822\"> </span>  \n",
       "  <span style=\"color: #e6db74; text-decoration-color: #e6db74; background-color: #272822\">Please try a more specific search, or check the links I found initially if any seem relevant.\"</span><span style=\"color: #f8f8f2; text-decoration-color: #f8f8f2; background-color: #272822\">, </span><span style=\"color: #66d9ef; text-decoration-color: #66d9ef; background-color: #272822\">None</span><span style=\"color: #f8f8f2; text-decoration-color: #f8f8f2; background-color: #272822\">)</span><span style=\"background-color: #272822\">          </span>  \n",
       "  <span style=\"color: #f8f8f2; text-decoration-color: #f8f8f2; background-color: #272822\">    </span><span style=\"color: #66d9ef; text-decoration-color: #66d9ef; background-color: #272822\">else</span><span style=\"color: #f8f8f2; text-decoration-color: #f8f8f2; background-color: #272822\">:</span><span style=\"background-color: #272822\">                                                                                                      </span>  \n",
       "  <span style=\"color: #f8f8f2; text-decoration-color: #f8f8f2; background-color: #272822\">        </span><span style=\"color: #959077; text-decoration-color: #959077; background-color: #272822\"># Filter out products that clearly aren't TVs based on missing essential features after parsing</span><span style=\"background-color: #272822\">        </span>  \n",
       "  <span style=\"color: #f8f8f2; text-decoration-color: #f8f8f2; background-color: #272822\">        </span><span style=\"color: #959077; text-decoration-color: #959077; background-color: #272822\"># For example, a TV must have a size and resolution.</span><span style=\"background-color: #272822\">                                                   </span>  \n",
       "  <span style=\"color: #f8f8f2; text-decoration-color: #f8f8f2; background-color: #272822\">        </span><span style=\"color: #959077; text-decoration-color: #959077; background-color: #272822\"># This is a stricter filter after attempting to parse details.</span><span style=\"background-color: #272822\">                                         </span>  \n",
       "  <span style=\"color: #f8f8f2; text-decoration-color: #f8f8f2; background-color: #272822\">        actual_tvs_for_comparison </span><span style=\"color: #ff4689; text-decoration-color: #ff4689; background-color: #272822\">=</span><span style=\"color: #f8f8f2; text-decoration-color: #f8f8f2; background-color: #272822\"> []</span><span style=\"background-color: #272822\">                                                                         </span>  \n",
       "  <span style=\"color: #f8f8f2; text-decoration-color: #f8f8f2; background-color: #272822\">        </span><span style=\"color: #66d9ef; text-decoration-color: #66d9ef; background-color: #272822\">for</span><span style=\"color: #f8f8f2; text-decoration-color: #f8f8f2; background-color: #272822\"> item </span><span style=\"color: #ff4689; text-decoration-color: #ff4689; background-color: #272822\">in</span><span style=\"color: #f8f8f2; text-decoration-color: #f8f8f2; background-color: #272822\"> product_details_list:</span><span style=\"background-color: #272822\">                                                                      </span>  \n",
       "  <span style=\"color: #f8f8f2; text-decoration-color: #f8f8f2; background-color: #272822\">            </span><span style=\"color: #959077; text-decoration-color: #959077; background-color: #272822\"># A simple heuristic: if 'size' and 'resolution' are both N/A, it's unlikely a TV.</span><span style=\"background-color: #272822\">                 </span>  \n",
       "  <span style=\"color: #f8f8f2; text-decoration-color: #f8f8f2; background-color: #272822\">            </span><span style=\"color: #959077; text-decoration-color: #959077; background-color: #272822\"># Or if it's one of the items that failed processing and has an 'Error' key.</span><span style=\"background-color: #272822\">                       </span>  \n",
       "  <span style=\"color: #f8f8f2; text-decoration-color: #f8f8f2; background-color: #272822\">            </span><span style=\"color: #66d9ef; text-decoration-color: #66d9ef; background-color: #272822\">if</span><span style=\"color: #f8f8f2; text-decoration-color: #f8f8f2; background-color: #272822\"> </span><span style=\"color: #e6db74; text-decoration-color: #e6db74; background-color: #272822\">'Error'</span><span style=\"color: #f8f8f2; text-decoration-color: #f8f8f2; background-color: #272822\"> </span><span style=\"color: #ff4689; text-decoration-color: #ff4689; background-color: #272822\">in</span><span style=\"color: #f8f8f2; text-decoration-color: #f8f8f2; background-color: #272822\"> item:</span><span style=\"background-color: #272822\">                                                                                </span>  \n",
       "  <span style=\"color: #f8f8f2; text-decoration-color: #f8f8f2; background-color: #272822\">                </span><span style=\"color: #66d9ef; text-decoration-color: #66d9ef; background-color: #272822\">continue</span><span style=\"color: #f8f8f2; text-decoration-color: #f8f8f2; background-color: #272822\"> </span><span style=\"color: #959077; text-decoration-color: #959077; background-color: #272822\"># Skip items that had processing errors</span><span style=\"background-color: #272822\">                                               </span>  \n",
       "  <span style=\"color: #f8f8f2; text-decoration-color: #f8f8f2; background-color: #272822\">            </span><span style=\"color: #66d9ef; text-decoration-color: #66d9ef; background-color: #272822\">if</span><span style=\"color: #f8f8f2; text-decoration-color: #f8f8f2; background-color: #272822\"> item</span><span style=\"color: #ff4689; text-decoration-color: #ff4689; background-color: #272822\">.</span><span style=\"color: #f8f8f2; text-decoration-color: #f8f8f2; background-color: #272822\">get(</span><span style=\"color: #e6db74; text-decoration-color: #e6db74; background-color: #272822\">'size'</span><span style=\"color: #f8f8f2; text-decoration-color: #f8f8f2; background-color: #272822\">, </span><span style=\"color: #e6db74; text-decoration-color: #e6db74; background-color: #272822\">'N/A'</span><span style=\"color: #f8f8f2; text-decoration-color: #f8f8f2; background-color: #272822\">) </span><span style=\"color: #ff4689; text-decoration-color: #ff4689; background-color: #272822\">!=</span><span style=\"color: #f8f8f2; text-decoration-color: #f8f8f2; background-color: #272822\"> </span><span style=\"color: #e6db74; text-decoration-color: #e6db74; background-color: #272822\">'N/A'</span><span style=\"color: #f8f8f2; text-decoration-color: #f8f8f2; background-color: #272822\"> </span><span style=\"color: #ff4689; text-decoration-color: #ff4689; background-color: #272822\">or</span><span style=\"color: #f8f8f2; text-decoration-color: #f8f8f2; background-color: #272822\"> item</span><span style=\"color: #ff4689; text-decoration-color: #ff4689; background-color: #272822\">.</span><span style=\"color: #f8f8f2; text-decoration-color: #f8f8f2; background-color: #272822\">get(</span><span style=\"color: #e6db74; text-decoration-color: #e6db74; background-color: #272822\">'resolution'</span><span style=\"color: #f8f8f2; text-decoration-color: #f8f8f2; background-color: #272822\">, </span><span style=\"color: #e6db74; text-decoration-color: #e6db74; background-color: #272822\">'N/A'</span><span style=\"color: #f8f8f2; text-decoration-color: #f8f8f2; background-color: #272822\">) </span><span style=\"color: #ff4689; text-decoration-color: #ff4689; background-color: #272822\">!=</span><span style=\"color: #f8f8f2; text-decoration-color: #f8f8f2; background-color: #272822\"> </span><span style=\"color: #e6db74; text-decoration-color: #e6db74; background-color: #272822\">'N/A'</span><span style=\"color: #f8f8f2; text-decoration-color: #f8f8f2; background-color: #272822\">:</span><span style=\"background-color: #272822\">                     </span>  \n",
       "  <span style=\"color: #f8f8f2; text-decoration-color: #f8f8f2; background-color: #272822\">                 </span><span style=\"color: #959077; text-decoration-color: #959077; background-color: #272822\"># Also check if the name clearly indicates it's not a TV (e.g., \"feet\", \"cover\", \"wallpaper\")</span><span style=\"background-color: #272822\"> </span>  \n",
       "  <span style=\"color: #f8f8f2; text-decoration-color: #f8f8f2; background-color: #272822\">                name_lower </span><span style=\"color: #ff4689; text-decoration-color: #ff4689; background-color: #272822\">=</span><span style=\"color: #f8f8f2; text-decoration-color: #f8f8f2; background-color: #272822\"> item</span><span style=\"color: #ff4689; text-decoration-color: #ff4689; background-color: #272822\">.</span><span style=\"color: #f8f8f2; text-decoration-color: #f8f8f2; background-color: #272822\">get(</span><span style=\"color: #e6db74; text-decoration-color: #e6db74; background-color: #272822\">'product_name'</span><span style=\"color: #f8f8f2; text-decoration-color: #f8f8f2; background-color: #272822\">, </span><span style=\"color: #e6db74; text-decoration-color: #e6db74; background-color: #272822\">''</span><span style=\"color: #f8f8f2; text-decoration-color: #f8f8f2; background-color: #272822\">)</span><span style=\"color: #ff4689; text-decoration-color: #ff4689; background-color: #272822\">.</span><span style=\"color: #f8f8f2; text-decoration-color: #f8f8f2; background-color: #272822\">lower()</span><span style=\"background-color: #272822\">                                              </span>  \n",
       "  <span style=\"color: #f8f8f2; text-decoration-color: #f8f8f2; background-color: #272822\">                </span><span style=\"color: #66d9ef; text-decoration-color: #66d9ef; background-color: #272822\">if</span><span style=\"color: #f8f8f2; text-decoration-color: #f8f8f2; background-color: #272822\"> </span><span style=\"color: #ff4689; text-decoration-color: #ff4689; background-color: #272822\">not</span><span style=\"color: #f8f8f2; text-decoration-color: #f8f8f2; background-color: #272822\"> any(x </span><span style=\"color: #ff4689; text-decoration-color: #ff4689; background-color: #272822\">in</span><span style=\"color: #f8f8f2; text-decoration-color: #f8f8f2; background-color: #272822\"> name_lower </span><span style=\"color: #66d9ef; text-decoration-color: #66d9ef; background-color: #272822\">for</span><span style=\"color: #f8f8f2; text-decoration-color: #f8f8f2; background-color: #272822\"> x </span><span style=\"color: #ff4689; text-decoration-color: #ff4689; background-color: #272822\">in</span><span style=\"color: #f8f8f2; text-decoration-color: #f8f8f2; background-color: #272822\"> [</span><span style=\"color: #e6db74; text-decoration-color: #e6db74; background-color: #272822\">\"feet\"</span><span style=\"color: #f8f8f2; text-decoration-color: #f8f8f2; background-color: #272822\">, </span><span style=\"color: #e6db74; text-decoration-color: #e6db74; background-color: #272822\">\"cover\"</span><span style=\"color: #f8f8f2; text-decoration-color: #f8f8f2; background-color: #272822\">, </span><span style=\"color: #e6db74; text-decoration-color: #e6db74; background-color: #272822\">\"wallpaper\"</span><span style=\"color: #f8f8f2; text-decoration-color: #f8f8f2; background-color: #272822\">, </span><span style=\"color: #e6db74; text-decoration-color: #e6db74; background-color: #272822\">\"meuble\"</span><span style=\"color: #f8f8f2; text-decoration-color: #f8f8f2; background-color: #272822\">, </span><span style=\"color: #e6db74; text-decoration-color: #e6db74; background-color: #272822\">\"stand\"</span><span style=\"color: #f8f8f2; text-decoration-color: #f8f8f2; background-color: #272822\">, </span><span style=\"background-color: #272822\">         </span>  \n",
       "  <span style=\"color: #e6db74; text-decoration-color: #e6db74; background-color: #272822\">\"housses\"</span><span style=\"color: #f8f8f2; text-decoration-color: #f8f8f2; background-color: #272822\">, </span><span style=\"color: #e6db74; text-decoration-color: #e6db74; background-color: #272822\">\"support\"</span><span style=\"color: #f8f8f2; text-decoration-color: #f8f8f2; background-color: #272822\">]):</span><span style=\"background-color: #272822\">                                                                                        </span>  \n",
       "  <span style=\"color: #f8f8f2; text-decoration-color: #f8f8f2; background-color: #272822\">                    actual_tvs_for_comparison</span><span style=\"color: #ff4689; text-decoration-color: #ff4689; background-color: #272822\">.</span><span style=\"color: #f8f8f2; text-decoration-color: #f8f8f2; background-color: #272822\">append(item)</span><span style=\"background-color: #272822\">                                                     </span>  \n",
       "  <span style=\"color: #f8f8f2; text-decoration-color: #f8f8f2; background-color: #272822\">        </span><span style=\"background-color: #272822\">                                                                                                       </span>  \n",
       "  <span style=\"color: #f8f8f2; text-decoration-color: #f8f8f2; background-color: #272822\">        print(</span><span style=\"color: #e6db74; text-decoration-color: #e6db74; background-color: #272822\">f\"Actual TVs for comparison after detailed check: {</span><span style=\"color: #f8f8f2; text-decoration-color: #f8f8f2; background-color: #272822\">actual_tvs_for_comparison</span><span style=\"color: #e6db74; text-decoration-color: #e6db74; background-color: #272822\">}\"</span><span style=\"color: #f8f8f2; text-decoration-color: #f8f8f2; background-color: #272822\">)</span><span style=\"background-color: #272822\">                  </span>  \n",
       "  <span style=\"background-color: #272822\">                                                                                                               </span>  \n",
       "  <span style=\"color: #f8f8f2; text-decoration-color: #f8f8f2; background-color: #272822\">        </span><span style=\"color: #66d9ef; text-decoration-color: #66d9ef; background-color: #272822\">if</span><span style=\"color: #f8f8f2; text-decoration-color: #f8f8f2; background-color: #272822\"> </span><span style=\"color: #ff4689; text-decoration-color: #ff4689; background-color: #272822\">not</span><span style=\"color: #f8f8f2; text-decoration-color: #f8f8f2; background-color: #272822\"> actual_tvs_for_comparison:</span><span style=\"background-color: #272822\">                                                                      </span>  \n",
       "  <span style=\"color: #f8f8f2; text-decoration-color: #f8f8f2; background-color: #272822\">            final_answer(</span><span style=\"color: #e6db74; text-decoration-color: #e6db74; background-color: #272822\">\"I found some TV-related items, but after trying to get details, none seem to be </span><span style=\"background-color: #272822\">     </span>  \n",
       "  <span style=\"color: #e6db74; text-decoration-color: #e6db74; background-color: #272822\">actual TVs with enough information for comparison. You might want to try a more specific search like '55 inch </span><span style=\"background-color: #272822\"> </span>  \n",
       "  <span style=\"color: #e6db74; text-decoration-color: #e6db74; background-color: #272822\">4K Smart TV'.\"</span><span style=\"color: #f8f8f2; text-decoration-color: #f8f8f2; background-color: #272822\">, </span><span style=\"color: #66d9ef; text-decoration-color: #66d9ef; background-color: #272822\">None</span><span style=\"color: #f8f8f2; text-decoration-color: #f8f8f2; background-color: #272822\">)</span><span style=\"background-color: #272822\">                                                                                          </span>  \n",
       "  <span style=\"color: #f8f8f2; text-decoration-color: #f8f8f2; background-color: #272822\">        </span><span style=\"color: #66d9ef; text-decoration-color: #66d9ef; background-color: #272822\">else</span><span style=\"color: #f8f8f2; text-decoration-color: #f8f8f2; background-color: #272822\">:</span><span style=\"background-color: #272822\">                                                                                                  </span>  \n",
       "  <span style=\"color: #f8f8f2; text-decoration-color: #f8f8f2; background-color: #272822\">            comparison_table </span><span style=\"color: #ff4689; text-decoration-color: #ff4689; background-color: #272822\">=</span><span style=\"color: #f8f8f2; text-decoration-color: #f8f8f2; background-color: #272822\"> compare_product(actual_tvs_for_comparison)</span><span style=\"background-color: #272822\">                                      </span>  \n",
       "  <span style=\"color: #f8f8f2; text-decoration-color: #f8f8f2; background-color: #272822\">            answer </span><span style=\"color: #ff4689; text-decoration-color: #ff4689; background-color: #272822\">=</span><span style=\"color: #f8f8f2; text-decoration-color: #f8f8f2; background-color: #272822\"> </span><span style=\"color: #e6db74; text-decoration-color: #e6db74; background-color: #272822\">\"Here are some TV suggestions for your living room. I've tried to extract key features </span><span style=\"background-color: #272822\">   </span>  \n",
       "  <span style=\"color: #e6db74; text-decoration-color: #e6db74; background-color: #272822\">like size, resolution, and smart capabilities. Please review the table to see which best fits your needs.\"</span><span style=\"background-color: #272822\">     </span>  \n",
       "  <span style=\"color: #f8f8f2; text-decoration-color: #f8f8f2; background-color: #272822\">            final_answer(answer, comparison_table)</span><span style=\"background-color: #272822\">                                                             </span>  \n",
       " ───────────────────────────────────────────────────────────────────────────────────────────────────────────────── \n",
       "</pre>\n"
      ],
      "text/plain": [
       " ─ \u001B[1mExecuting parsed code:\u001B[0m ──────────────────────────────────────────────────────────────────────────────────────── \n",
       "  \u001B[38;2;149;144;119;48;2;39;40;34m# Filter out irrelevant products (furniture, accessories)\u001B[0m\u001B[48;2;39;40;34m                                                      \u001B[0m  \n",
       "  \u001B[38;2;248;248;242;48;2;39;40;34mcondition\u001B[0m\u001B[38;2;248;248;242;48;2;39;40;34m \u001B[0m\u001B[38;2;255;70;137;48;2;39;40;34m=\u001B[0m\u001B[38;2;248;248;242;48;2;39;40;34m \u001B[0m\u001B[38;2;230;219;116;48;2;39;40;34m\"\u001B[0m\u001B[38;2;230;219;116;48;2;39;40;34mactual television sets, not furniture or accessories\u001B[0m\u001B[38;2;230;219;116;48;2;39;40;34m\"\u001B[0m\u001B[48;2;39;40;34m                                             \u001B[0m  \n",
       "  \u001B[38;2;248;248;242;48;2;39;40;34mfiltered_products\u001B[0m\u001B[38;2;248;248;242;48;2;39;40;34m \u001B[0m\u001B[38;2;255;70;137;48;2;39;40;34m=\u001B[0m\u001B[38;2;248;248;242;48;2;39;40;34m \u001B[0m\u001B[38;2;248;248;242;48;2;39;40;34mfilter_product\u001B[0m\u001B[38;2;248;248;242;48;2;39;40;34m(\u001B[0m\u001B[38;2;248;248;242;48;2;39;40;34ml_product\u001B[0m\u001B[38;2;248;248;242;48;2;39;40;34m,\u001B[0m\u001B[38;2;248;248;242;48;2;39;40;34m \u001B[0m\u001B[38;2;248;248;242;48;2;39;40;34mcondition\u001B[0m\u001B[38;2;248;248;242;48;2;39;40;34m)\u001B[0m\u001B[48;2;39;40;34m                                                       \u001B[0m  \n",
       "  \u001B[38;2;248;248;242;48;2;39;40;34mprint\u001B[0m\u001B[38;2;248;248;242;48;2;39;40;34m(\u001B[0m\u001B[38;2;230;219;116;48;2;39;40;34mf\u001B[0m\u001B[38;2;230;219;116;48;2;39;40;34m\"\u001B[0m\u001B[38;2;230;219;116;48;2;39;40;34mFiltered product list: \u001B[0m\u001B[38;2;230;219;116;48;2;39;40;34m{\u001B[0m\u001B[38;2;248;248;242;48;2;39;40;34mfiltered_products\u001B[0m\u001B[38;2;230;219;116;48;2;39;40;34m}\u001B[0m\u001B[38;2;230;219;116;48;2;39;40;34m\"\u001B[0m\u001B[38;2;248;248;242;48;2;39;40;34m)\u001B[0m\u001B[48;2;39;40;34m                                                           \u001B[0m  \n",
       "  \u001B[38;2;248;248;242;48;2;39;40;34mprint\u001B[0m\u001B[38;2;248;248;242;48;2;39;40;34m(\u001B[0m\u001B[38;2;230;219;116;48;2;39;40;34mf\u001B[0m\u001B[38;2;230;219;116;48;2;39;40;34m\"\u001B[0m\u001B[38;2;230;219;116;48;2;39;40;34mNumber of filtered products: \u001B[0m\u001B[38;2;230;219;116;48;2;39;40;34m{\u001B[0m\u001B[38;2;248;248;242;48;2;39;40;34mlen\u001B[0m\u001B[38;2;248;248;242;48;2;39;40;34m(\u001B[0m\u001B[38;2;248;248;242;48;2;39;40;34mfiltered_products\u001B[0m\u001B[38;2;248;248;242;48;2;39;40;34m)\u001B[0m\u001B[38;2;230;219;116;48;2;39;40;34m}\u001B[0m\u001B[38;2;230;219;116;48;2;39;40;34m\"\u001B[0m\u001B[38;2;248;248;242;48;2;39;40;34m)\u001B[0m\u001B[48;2;39;40;34m                                                \u001B[0m  \n",
       "  \u001B[48;2;39;40;34m                                                                                                               \u001B[0m  \n",
       "  \u001B[38;2;149;144;119;48;2;39;40;34m# If no relevant products are found, inform the user\u001B[0m\u001B[48;2;39;40;34m                                                           \u001B[0m  \n",
       "  \u001B[38;2;102;217;239;48;2;39;40;34mif\u001B[0m\u001B[38;2;248;248;242;48;2;39;40;34m \u001B[0m\u001B[38;2;255;70;137;48;2;39;40;34mnot\u001B[0m\u001B[38;2;248;248;242;48;2;39;40;34m \u001B[0m\u001B[38;2;248;248;242;48;2;39;40;34mfiltered_products\u001B[0m\u001B[38;2;248;248;242;48;2;39;40;34m:\u001B[0m\u001B[48;2;39;40;34m                                                                                      \u001B[0m  \n",
       "  \u001B[38;2;248;248;242;48;2;39;40;34m    \u001B[0m\u001B[38;2;248;248;242;48;2;39;40;34mfinal_answer\u001B[0m\u001B[38;2;248;248;242;48;2;39;40;34m(\u001B[0m\u001B[38;2;230;219;116;48;2;39;40;34m\"\u001B[0m\u001B[38;2;230;219;116;48;2;39;40;34mI couldn\u001B[0m\u001B[38;2;230;219;116;48;2;39;40;34m'\u001B[0m\u001B[38;2;230;219;116;48;2;39;40;34mt find any suitable TV sets based on your initial request. Could you please provide \u001B[0m  \n",
       "  \u001B[38;2;230;219;116;48;2;39;40;34mmore specific keywords or criteria?\u001B[0m\u001B[38;2;230;219;116;48;2;39;40;34m\"\u001B[0m\u001B[38;2;248;248;242;48;2;39;40;34m,\u001B[0m\u001B[38;2;248;248;242;48;2;39;40;34m \u001B[0m\u001B[38;2;102;217;239;48;2;39;40;34mNone\u001B[0m\u001B[38;2;248;248;242;48;2;39;40;34m)\u001B[0m\u001B[48;2;39;40;34m                                                                    \u001B[0m  \n",
       "  \u001B[38;2;102;217;239;48;2;39;40;34melse\u001B[0m\u001B[38;2;248;248;242;48;2;39;40;34m:\u001B[0m\u001B[48;2;39;40;34m                                                                                                          \u001B[0m  \n",
       "  \u001B[38;2;248;248;242;48;2;39;40;34m    \u001B[0m\u001B[38;2;149;144;119;48;2;39;40;34m# Proceed with feature extraction and comparison for the filtered products\u001B[0m\u001B[48;2;39;40;34m                                 \u001B[0m  \n",
       "  \u001B[38;2;248;248;242;48;2;39;40;34m    \u001B[0m\u001B[38;2;248;248;242;48;2;39;40;34mproduct_details_list\u001B[0m\u001B[38;2;248;248;242;48;2;39;40;34m \u001B[0m\u001B[38;2;255;70;137;48;2;39;40;34m=\u001B[0m\u001B[38;2;248;248;242;48;2;39;40;34m \u001B[0m\u001B[38;2;248;248;242;48;2;39;40;34m[\u001B[0m\u001B[38;2;248;248;242;48;2;39;40;34m]\u001B[0m\u001B[48;2;39;40;34m                                                                                  \u001B[0m  \n",
       "  \u001B[38;2;248;248;242;48;2;39;40;34m    \u001B[0m\u001B[38;2;248;248;242;48;2;39;40;34mfeatures_to_compare\u001B[0m\u001B[38;2;248;248;242;48;2;39;40;34m \u001B[0m\u001B[38;2;255;70;137;48;2;39;40;34m=\u001B[0m\u001B[38;2;248;248;242;48;2;39;40;34m \u001B[0m\u001B[38;2;248;248;242;48;2;39;40;34m[\u001B[0m\u001B[38;2;230;219;116;48;2;39;40;34m'\u001B[0m\u001B[38;2;230;219;116;48;2;39;40;34msize\u001B[0m\u001B[38;2;230;219;116;48;2;39;40;34m'\u001B[0m\u001B[38;2;248;248;242;48;2;39;40;34m,\u001B[0m\u001B[38;2;248;248;242;48;2;39;40;34m \u001B[0m\u001B[38;2;230;219;116;48;2;39;40;34m'\u001B[0m\u001B[38;2;230;219;116;48;2;39;40;34mresolution\u001B[0m\u001B[38;2;230;219;116;48;2;39;40;34m'\u001B[0m\u001B[38;2;248;248;242;48;2;39;40;34m,\u001B[0m\u001B[38;2;248;248;242;48;2;39;40;34m \u001B[0m\u001B[38;2;230;219;116;48;2;39;40;34m'\u001B[0m\u001B[38;2;230;219;116;48;2;39;40;34msmart_options\u001B[0m\u001B[38;2;230;219;116;48;2;39;40;34m'\u001B[0m\u001B[38;2;248;248;242;48;2;39;40;34m,\u001B[0m\u001B[38;2;248;248;242;48;2;39;40;34m \u001B[0m\u001B[38;2;230;219;116;48;2;39;40;34m'\u001B[0m\u001B[38;2;230;219;116;48;2;39;40;34mdisplay_technology\u001B[0m\u001B[38;2;230;219;116;48;2;39;40;34m'\u001B[0m\u001B[38;2;248;248;242;48;2;39;40;34m]\u001B[0m\u001B[38;2;248;248;242;48;2;39;40;34m \u001B[0m\u001B[38;2;149;144;119;48;2;39;40;34m# Added \u001B[0m\u001B[48;2;39;40;34m               \u001B[0m  \n",
       "  \u001B[38;2;149;144;119;48;2;39;40;34mdisplay_technology\u001B[0m\u001B[48;2;39;40;34m                                                                                             \u001B[0m  \n",
       "  \u001B[48;2;39;40;34m                                                                                                               \u001B[0m  \n",
       "  \u001B[38;2;248;248;242;48;2;39;40;34m    \u001B[0m\u001B[38;2;102;217;239;48;2;39;40;34mfor\u001B[0m\u001B[38;2;248;248;242;48;2;39;40;34m \u001B[0m\u001B[38;2;248;248;242;48;2;39;40;34mproduct\u001B[0m\u001B[38;2;248;248;242;48;2;39;40;34m \u001B[0m\u001B[38;2;255;70;137;48;2;39;40;34min\u001B[0m\u001B[38;2;248;248;242;48;2;39;40;34m \u001B[0m\u001B[38;2;248;248;242;48;2;39;40;34mfiltered_products\u001B[0m\u001B[38;2;248;248;242;48;2;39;40;34m:\u001B[0m\u001B[48;2;39;40;34m                                                                          \u001B[0m  \n",
       "  \u001B[38;2;248;248;242;48;2;39;40;34m        \u001B[0m\u001B[38;2;102;217;239;48;2;39;40;34mtry\u001B[0m\u001B[38;2;248;248;242;48;2;39;40;34m:\u001B[0m\u001B[48;2;39;40;34m                                                                                                   \u001B[0m  \n",
       "  \u001B[38;2;248;248;242;48;2;39;40;34m            \u001B[0m\u001B[38;2;248;248;242;48;2;39;40;34mproduct_description\u001B[0m\u001B[38;2;248;248;242;48;2;39;40;34m \u001B[0m\u001B[38;2;255;70;137;48;2;39;40;34m=\u001B[0m\u001B[38;2;248;248;242;48;2;39;40;34m \u001B[0m\u001B[38;2;248;248;242;48;2;39;40;34mget_product_description\u001B[0m\u001B[38;2;248;248;242;48;2;39;40;34m(\u001B[0m\u001B[38;2;248;248;242;48;2;39;40;34mproduct\u001B[0m\u001B[38;2;248;248;242;48;2;39;40;34m[\u001B[0m\u001B[38;2;230;219;116;48;2;39;40;34m'\u001B[0m\u001B[38;2;230;219;116;48;2;39;40;34mproduct_link\u001B[0m\u001B[38;2;230;219;116;48;2;39;40;34m'\u001B[0m\u001B[38;2;248;248;242;48;2;39;40;34m]\u001B[0m\u001B[38;2;248;248;242;48;2;39;40;34m)\u001B[0m\u001B[48;2;39;40;34m                             \u001B[0m  \n",
       "  \u001B[38;2;248;248;242;48;2;39;40;34m            \u001B[0m\u001B[38;2;149;144;119;48;2;39;40;34m# Include product_name and price from the search result directly\u001B[0m\u001B[48;2;39;40;34m                                   \u001B[0m  \n",
       "  \u001B[38;2;248;248;242;48;2;39;40;34m            \u001B[0m\u001B[38;2;149;144;119;48;2;39;40;34m# as parse_product_description_with_guide might not always get them or get them differently\u001B[0m\u001B[48;2;39;40;34m        \u001B[0m  \n",
       "  \u001B[38;2;248;248;242;48;2;39;40;34m            \u001B[0m\u001B[38;2;248;248;242;48;2;39;40;34mparsed_features\u001B[0m\u001B[38;2;248;248;242;48;2;39;40;34m \u001B[0m\u001B[38;2;255;70;137;48;2;39;40;34m=\u001B[0m\u001B[38;2;248;248;242;48;2;39;40;34m \u001B[0m\u001B[38;2;248;248;242;48;2;39;40;34mparse_product_description_with_guide\u001B[0m\u001B[38;2;248;248;242;48;2;39;40;34m(\u001B[0m\u001B[38;2;248;248;242;48;2;39;40;34mproduct_description\u001B[0m\u001B[38;2;248;248;242;48;2;39;40;34m,\u001B[0m\u001B[38;2;248;248;242;48;2;39;40;34m \u001B[0m\u001B[38;2;248;248;242;48;2;39;40;34mfeatures_to_compare\u001B[0m\u001B[38;2;248;248;242;48;2;39;40;34m)\u001B[0m\u001B[48;2;39;40;34m   \u001B[0m  \n",
       "  \u001B[38;2;248;248;242;48;2;39;40;34m            \u001B[0m\u001B[48;2;39;40;34m                                                                                                   \u001B[0m  \n",
       "  \u001B[38;2;248;248;242;48;2;39;40;34m            \u001B[0m\u001B[38;2;149;144;119;48;2;39;40;34m# Ensure basic info from search result is preserved if parser doesn't find it\u001B[0m\u001B[48;2;39;40;34m                      \u001B[0m  \n",
       "  \u001B[38;2;248;248;242;48;2;39;40;34m            \u001B[0m\u001B[38;2;149;144;119;48;2;39;40;34m# and to keep consistency\u001B[0m\u001B[48;2;39;40;34m                                                                          \u001B[0m  \n",
       "  \u001B[38;2;248;248;242;48;2;39;40;34m            \u001B[0m\u001B[38;2;248;248;242;48;2;39;40;34mfinal_product_info\u001B[0m\u001B[38;2;248;248;242;48;2;39;40;34m \u001B[0m\u001B[38;2;255;70;137;48;2;39;40;34m=\u001B[0m\u001B[38;2;248;248;242;48;2;39;40;34m \u001B[0m\u001B[38;2;248;248;242;48;2;39;40;34m{\u001B[0m\u001B[48;2;39;40;34m                                                                             \u001B[0m  \n",
       "  \u001B[38;2;248;248;242;48;2;39;40;34m                \u001B[0m\u001B[38;2;230;219;116;48;2;39;40;34m'\u001B[0m\u001B[38;2;230;219;116;48;2;39;40;34mproduct_name\u001B[0m\u001B[38;2;230;219;116;48;2;39;40;34m'\u001B[0m\u001B[38;2;248;248;242;48;2;39;40;34m:\u001B[0m\u001B[38;2;248;248;242;48;2;39;40;34m \u001B[0m\u001B[38;2;248;248;242;48;2;39;40;34mproduct\u001B[0m\u001B[38;2;255;70;137;48;2;39;40;34m.\u001B[0m\u001B[38;2;248;248;242;48;2;39;40;34mget\u001B[0m\u001B[38;2;248;248;242;48;2;39;40;34m(\u001B[0m\u001B[38;2;230;219;116;48;2;39;40;34m'\u001B[0m\u001B[38;2;230;219;116;48;2;39;40;34mproduct_name\u001B[0m\u001B[38;2;230;219;116;48;2;39;40;34m'\u001B[0m\u001B[38;2;248;248;242;48;2;39;40;34m,\u001B[0m\u001B[38;2;248;248;242;48;2;39;40;34m \u001B[0m\u001B[38;2;248;248;242;48;2;39;40;34mparsed_features\u001B[0m\u001B[38;2;255;70;137;48;2;39;40;34m.\u001B[0m\u001B[38;2;248;248;242;48;2;39;40;34mget\u001B[0m\u001B[38;2;248;248;242;48;2;39;40;34m(\u001B[0m\u001B[38;2;230;219;116;48;2;39;40;34m'\u001B[0m\u001B[38;2;230;219;116;48;2;39;40;34mproduct_name\u001B[0m\u001B[38;2;230;219;116;48;2;39;40;34m'\u001B[0m\u001B[38;2;248;248;242;48;2;39;40;34m,\u001B[0m\u001B[38;2;248;248;242;48;2;39;40;34m \u001B[0m\u001B[38;2;230;219;116;48;2;39;40;34m'\u001B[0m\u001B[38;2;230;219;116;48;2;39;40;34mN/A\u001B[0m\u001B[38;2;230;219;116;48;2;39;40;34m'\u001B[0m\u001B[38;2;248;248;242;48;2;39;40;34m)\u001B[0m\u001B[38;2;248;248;242;48;2;39;40;34m)\u001B[0m\u001B[38;2;248;248;242;48;2;39;40;34m,\u001B[0m\u001B[48;2;39;40;34m       \u001B[0m  \n",
       "  \u001B[38;2;248;248;242;48;2;39;40;34m                \u001B[0m\u001B[38;2;230;219;116;48;2;39;40;34m'\u001B[0m\u001B[38;2;230;219;116;48;2;39;40;34mprice\u001B[0m\u001B[38;2;230;219;116;48;2;39;40;34m'\u001B[0m\u001B[38;2;248;248;242;48;2;39;40;34m:\u001B[0m\u001B[38;2;248;248;242;48;2;39;40;34m \u001B[0m\u001B[38;2;248;248;242;48;2;39;40;34mproduct\u001B[0m\u001B[38;2;255;70;137;48;2;39;40;34m.\u001B[0m\u001B[38;2;248;248;242;48;2;39;40;34mget\u001B[0m\u001B[38;2;248;248;242;48;2;39;40;34m(\u001B[0m\u001B[38;2;230;219;116;48;2;39;40;34m'\u001B[0m\u001B[38;2;230;219;116;48;2;39;40;34mprice\u001B[0m\u001B[38;2;230;219;116;48;2;39;40;34m'\u001B[0m\u001B[38;2;248;248;242;48;2;39;40;34m,\u001B[0m\u001B[38;2;248;248;242;48;2;39;40;34m \u001B[0m\u001B[38;2;248;248;242;48;2;39;40;34mparsed_features\u001B[0m\u001B[38;2;255;70;137;48;2;39;40;34m.\u001B[0m\u001B[38;2;248;248;242;48;2;39;40;34mget\u001B[0m\u001B[38;2;248;248;242;48;2;39;40;34m(\u001B[0m\u001B[38;2;230;219;116;48;2;39;40;34m'\u001B[0m\u001B[38;2;230;219;116;48;2;39;40;34mprice\u001B[0m\u001B[38;2;230;219;116;48;2;39;40;34m'\u001B[0m\u001B[38;2;248;248;242;48;2;39;40;34m,\u001B[0m\u001B[38;2;248;248;242;48;2;39;40;34m \u001B[0m\u001B[38;2;230;219;116;48;2;39;40;34m'\u001B[0m\u001B[38;2;230;219;116;48;2;39;40;34mN/A\u001B[0m\u001B[38;2;230;219;116;48;2;39;40;34m'\u001B[0m\u001B[38;2;248;248;242;48;2;39;40;34m)\u001B[0m\u001B[38;2;248;248;242;48;2;39;40;34m)\u001B[0m\u001B[38;2;248;248;242;48;2;39;40;34m,\u001B[0m\u001B[48;2;39;40;34m                            \u001B[0m  \n",
       "  \u001B[38;2;248;248;242;48;2;39;40;34m                \u001B[0m\u001B[38;2;230;219;116;48;2;39;40;34m'\u001B[0m\u001B[38;2;230;219;116;48;2;39;40;34mimage_url\u001B[0m\u001B[38;2;230;219;116;48;2;39;40;34m'\u001B[0m\u001B[38;2;248;248;242;48;2;39;40;34m:\u001B[0m\u001B[38;2;248;248;242;48;2;39;40;34m \u001B[0m\u001B[38;2;248;248;242;48;2;39;40;34mproduct\u001B[0m\u001B[38;2;255;70;137;48;2;39;40;34m.\u001B[0m\u001B[38;2;248;248;242;48;2;39;40;34mget\u001B[0m\u001B[38;2;248;248;242;48;2;39;40;34m(\u001B[0m\u001B[38;2;230;219;116;48;2;39;40;34m'\u001B[0m\u001B[38;2;230;219;116;48;2;39;40;34mimage_url\u001B[0m\u001B[38;2;230;219;116;48;2;39;40;34m'\u001B[0m\u001B[38;2;248;248;242;48;2;39;40;34m,\u001B[0m\u001B[38;2;248;248;242;48;2;39;40;34m \u001B[0m\u001B[38;2;248;248;242;48;2;39;40;34mparsed_features\u001B[0m\u001B[38;2;255;70;137;48;2;39;40;34m.\u001B[0m\u001B[38;2;248;248;242;48;2;39;40;34mget\u001B[0m\u001B[38;2;248;248;242;48;2;39;40;34m(\u001B[0m\u001B[38;2;230;219;116;48;2;39;40;34m'\u001B[0m\u001B[38;2;230;219;116;48;2;39;40;34mimage_url\u001B[0m\u001B[38;2;230;219;116;48;2;39;40;34m'\u001B[0m\u001B[38;2;248;248;242;48;2;39;40;34m,\u001B[0m\u001B[38;2;248;248;242;48;2;39;40;34m \u001B[0m\u001B[38;2;230;219;116;48;2;39;40;34m'\u001B[0m\u001B[38;2;230;219;116;48;2;39;40;34mN/A\u001B[0m\u001B[38;2;230;219;116;48;2;39;40;34m'\u001B[0m\u001B[38;2;248;248;242;48;2;39;40;34m)\u001B[0m\u001B[38;2;248;248;242;48;2;39;40;34m)\u001B[0m\u001B[38;2;248;248;242;48;2;39;40;34m,\u001B[0m\u001B[38;2;248;248;242;48;2;39;40;34m \u001B[0m\u001B[38;2;149;144;119;48;2;39;40;34m# Keep \u001B[0m\u001B[48;2;39;40;34m        \u001B[0m  \n",
       "  \u001B[38;2;149;144;119;48;2;39;40;34mimage_url\u001B[0m\u001B[48;2;39;40;34m                                                                                                      \u001B[0m  \n",
       "  \u001B[38;2;248;248;242;48;2;39;40;34m                \u001B[0m\u001B[38;2;230;219;116;48;2;39;40;34m'\u001B[0m\u001B[38;2;230;219;116;48;2;39;40;34mproduct_link\u001B[0m\u001B[38;2;230;219;116;48;2;39;40;34m'\u001B[0m\u001B[38;2;248;248;242;48;2;39;40;34m:\u001B[0m\u001B[38;2;248;248;242;48;2;39;40;34m \u001B[0m\u001B[38;2;248;248;242;48;2;39;40;34mproduct\u001B[0m\u001B[38;2;255;70;137;48;2;39;40;34m.\u001B[0m\u001B[38;2;248;248;242;48;2;39;40;34mget\u001B[0m\u001B[38;2;248;248;242;48;2;39;40;34m(\u001B[0m\u001B[38;2;230;219;116;48;2;39;40;34m'\u001B[0m\u001B[38;2;230;219;116;48;2;39;40;34mproduct_link\u001B[0m\u001B[38;2;230;219;116;48;2;39;40;34m'\u001B[0m\u001B[38;2;248;248;242;48;2;39;40;34m)\u001B[0m\u001B[38;2;248;248;242;48;2;39;40;34m \u001B[0m\u001B[38;2;149;144;119;48;2;39;40;34m# Keep product_link\u001B[0m\u001B[48;2;39;40;34m                                \u001B[0m  \n",
       "  \u001B[38;2;248;248;242;48;2;39;40;34m            \u001B[0m\u001B[38;2;248;248;242;48;2;39;40;34m}\u001B[0m\u001B[48;2;39;40;34m                                                                                                  \u001B[0m  \n",
       "  \u001B[38;2;248;248;242;48;2;39;40;34m            \u001B[0m\u001B[38;2;149;144;119;48;2;39;40;34m# Update with parsed features, giving preference to them if they exist\u001B[0m\u001B[48;2;39;40;34m                             \u001B[0m  \n",
       "  \u001B[38;2;248;248;242;48;2;39;40;34m            \u001B[0m\u001B[38;2;102;217;239;48;2;39;40;34mfor\u001B[0m\u001B[38;2;248;248;242;48;2;39;40;34m \u001B[0m\u001B[38;2;248;248;242;48;2;39;40;34mfeature\u001B[0m\u001B[38;2;248;248;242;48;2;39;40;34m \u001B[0m\u001B[38;2;255;70;137;48;2;39;40;34min\u001B[0m\u001B[38;2;248;248;242;48;2;39;40;34m \u001B[0m\u001B[38;2;248;248;242;48;2;39;40;34mfeatures_to_compare\u001B[0m\u001B[38;2;248;248;242;48;2;39;40;34m:\u001B[0m\u001B[48;2;39;40;34m                                                                \u001B[0m  \n",
       "  \u001B[38;2;248;248;242;48;2;39;40;34m                \u001B[0m\u001B[38;2;248;248;242;48;2;39;40;34mfinal_product_info\u001B[0m\u001B[38;2;248;248;242;48;2;39;40;34m[\u001B[0m\u001B[38;2;248;248;242;48;2;39;40;34mfeature\u001B[0m\u001B[38;2;248;248;242;48;2;39;40;34m]\u001B[0m\u001B[38;2;248;248;242;48;2;39;40;34m \u001B[0m\u001B[38;2;255;70;137;48;2;39;40;34m=\u001B[0m\u001B[38;2;248;248;242;48;2;39;40;34m \u001B[0m\u001B[38;2;248;248;242;48;2;39;40;34mparsed_features\u001B[0m\u001B[38;2;255;70;137;48;2;39;40;34m.\u001B[0m\u001B[38;2;248;248;242;48;2;39;40;34mget\u001B[0m\u001B[38;2;248;248;242;48;2;39;40;34m(\u001B[0m\u001B[38;2;248;248;242;48;2;39;40;34mfeature\u001B[0m\u001B[38;2;248;248;242;48;2;39;40;34m,\u001B[0m\u001B[38;2;248;248;242;48;2;39;40;34m \u001B[0m\u001B[38;2;230;219;116;48;2;39;40;34m'\u001B[0m\u001B[38;2;230;219;116;48;2;39;40;34mN/A\u001B[0m\u001B[38;2;230;219;116;48;2;39;40;34m'\u001B[0m\u001B[38;2;248;248;242;48;2;39;40;34m)\u001B[0m\u001B[48;2;39;40;34m                              \u001B[0m  \n",
       "  \u001B[38;2;248;248;242;48;2;39;40;34m            \u001B[0m\u001B[48;2;39;40;34m                                                                                                   \u001B[0m  \n",
       "  \u001B[38;2;248;248;242;48;2;39;40;34m            \u001B[0m\u001B[38;2;248;248;242;48;2;39;40;34mproduct_details_list\u001B[0m\u001B[38;2;255;70;137;48;2;39;40;34m.\u001B[0m\u001B[38;2;248;248;242;48;2;39;40;34mappend\u001B[0m\u001B[38;2;248;248;242;48;2;39;40;34m(\u001B[0m\u001B[38;2;248;248;242;48;2;39;40;34mfinal_product_info\u001B[0m\u001B[38;2;248;248;242;48;2;39;40;34m)\u001B[0m\u001B[48;2;39;40;34m                                                    \u001B[0m  \n",
       "  \u001B[38;2;248;248;242;48;2;39;40;34m        \u001B[0m\u001B[38;2;102;217;239;48;2;39;40;34mexcept\u001B[0m\u001B[38;2;248;248;242;48;2;39;40;34m \u001B[0m\u001B[38;2;166;226;46;48;2;39;40;34mException\u001B[0m\u001B[38;2;248;248;242;48;2;39;40;34m \u001B[0m\u001B[38;2;102;217;239;48;2;39;40;34mas\u001B[0m\u001B[38;2;248;248;242;48;2;39;40;34m \u001B[0m\u001B[38;2;248;248;242;48;2;39;40;34me\u001B[0m\u001B[38;2;248;248;242;48;2;39;40;34m:\u001B[0m\u001B[48;2;39;40;34m                                                                                 \u001B[0m  \n",
       "  \u001B[38;2;248;248;242;48;2;39;40;34m            \u001B[0m\u001B[38;2;248;248;242;48;2;39;40;34mprint\u001B[0m\u001B[38;2;248;248;242;48;2;39;40;34m(\u001B[0m\u001B[38;2;230;219;116;48;2;39;40;34mf\u001B[0m\u001B[38;2;230;219;116;48;2;39;40;34m\"\u001B[0m\u001B[38;2;230;219;116;48;2;39;40;34mError processing product \u001B[0m\u001B[38;2;230;219;116;48;2;39;40;34m{\u001B[0m\u001B[38;2;248;248;242;48;2;39;40;34mproduct\u001B[0m\u001B[38;2;255;70;137;48;2;39;40;34m.\u001B[0m\u001B[38;2;248;248;242;48;2;39;40;34mget\u001B[0m\u001B[38;2;248;248;242;48;2;39;40;34m(\u001B[0m\u001B[38;2;230;219;116;48;2;39;40;34m'\u001B[0m\u001B[38;2;230;219;116;48;2;39;40;34mproduct_name\u001B[0m\u001B[38;2;230;219;116;48;2;39;40;34m'\u001B[0m\u001B[38;2;248;248;242;48;2;39;40;34m,\u001B[0m\u001B[38;2;248;248;242;48;2;39;40;34m \u001B[0m\u001B[38;2;230;219;116;48;2;39;40;34m'\u001B[0m\u001B[38;2;230;219;116;48;2;39;40;34mUnknown Product\u001B[0m\u001B[38;2;230;219;116;48;2;39;40;34m'\u001B[0m\u001B[38;2;248;248;242;48;2;39;40;34m)\u001B[0m\u001B[38;2;230;219;116;48;2;39;40;34m}\u001B[0m\u001B[38;2;230;219;116;48;2;39;40;34m: \u001B[0m\u001B[38;2;230;219;116;48;2;39;40;34m{\u001B[0m\u001B[38;2;248;248;242;48;2;39;40;34me\u001B[0m\u001B[38;2;230;219;116;48;2;39;40;34m}\u001B[0m\u001B[38;2;230;219;116;48;2;39;40;34m\"\u001B[0m\u001B[38;2;248;248;242;48;2;39;40;34m)\u001B[0m\u001B[48;2;39;40;34m           \u001B[0m  \n",
       "  \u001B[38;2;248;248;242;48;2;39;40;34m            \u001B[0m\u001B[38;2;149;144;119;48;2;39;40;34m# Add basic info even if parsing fails, so it's not completely lost\u001B[0m\u001B[48;2;39;40;34m                                \u001B[0m  \n",
       "  \u001B[38;2;248;248;242;48;2;39;40;34m            \u001B[0m\u001B[38;2;248;248;242;48;2;39;40;34mproduct_details_list\u001B[0m\u001B[38;2;255;70;137;48;2;39;40;34m.\u001B[0m\u001B[38;2;248;248;242;48;2;39;40;34mappend\u001B[0m\u001B[38;2;248;248;242;48;2;39;40;34m(\u001B[0m\u001B[38;2;248;248;242;48;2;39;40;34m{\u001B[0m\u001B[48;2;39;40;34m                                                                      \u001B[0m  \n",
       "  \u001B[38;2;248;248;242;48;2;39;40;34m                \u001B[0m\u001B[38;2;230;219;116;48;2;39;40;34m'\u001B[0m\u001B[38;2;230;219;116;48;2;39;40;34mproduct_name\u001B[0m\u001B[38;2;230;219;116;48;2;39;40;34m'\u001B[0m\u001B[38;2;248;248;242;48;2;39;40;34m:\u001B[0m\u001B[38;2;248;248;242;48;2;39;40;34m \u001B[0m\u001B[38;2;248;248;242;48;2;39;40;34mproduct\u001B[0m\u001B[38;2;255;70;137;48;2;39;40;34m.\u001B[0m\u001B[38;2;248;248;242;48;2;39;40;34mget\u001B[0m\u001B[38;2;248;248;242;48;2;39;40;34m(\u001B[0m\u001B[38;2;230;219;116;48;2;39;40;34m'\u001B[0m\u001B[38;2;230;219;116;48;2;39;40;34mproduct_name\u001B[0m\u001B[38;2;230;219;116;48;2;39;40;34m'\u001B[0m\u001B[38;2;248;248;242;48;2;39;40;34m,\u001B[0m\u001B[38;2;248;248;242;48;2;39;40;34m \u001B[0m\u001B[38;2;230;219;116;48;2;39;40;34m'\u001B[0m\u001B[38;2;230;219;116;48;2;39;40;34mError processing this product\u001B[0m\u001B[38;2;230;219;116;48;2;39;40;34m'\u001B[0m\u001B[38;2;248;248;242;48;2;39;40;34m)\u001B[0m\u001B[38;2;248;248;242;48;2;39;40;34m,\u001B[0m\u001B[48;2;39;40;34m                  \u001B[0m  \n",
       "  \u001B[38;2;248;248;242;48;2;39;40;34m                \u001B[0m\u001B[38;2;230;219;116;48;2;39;40;34m'\u001B[0m\u001B[38;2;230;219;116;48;2;39;40;34mprice\u001B[0m\u001B[38;2;230;219;116;48;2;39;40;34m'\u001B[0m\u001B[38;2;248;248;242;48;2;39;40;34m:\u001B[0m\u001B[38;2;248;248;242;48;2;39;40;34m \u001B[0m\u001B[38;2;248;248;242;48;2;39;40;34mproduct\u001B[0m\u001B[38;2;255;70;137;48;2;39;40;34m.\u001B[0m\u001B[38;2;248;248;242;48;2;39;40;34mget\u001B[0m\u001B[38;2;248;248;242;48;2;39;40;34m(\u001B[0m\u001B[38;2;230;219;116;48;2;39;40;34m'\u001B[0m\u001B[38;2;230;219;116;48;2;39;40;34mprice\u001B[0m\u001B[38;2;230;219;116;48;2;39;40;34m'\u001B[0m\u001B[38;2;248;248;242;48;2;39;40;34m,\u001B[0m\u001B[38;2;248;248;242;48;2;39;40;34m \u001B[0m\u001B[38;2;230;219;116;48;2;39;40;34m'\u001B[0m\u001B[38;2;230;219;116;48;2;39;40;34mN/A\u001B[0m\u001B[38;2;230;219;116;48;2;39;40;34m'\u001B[0m\u001B[38;2;248;248;242;48;2;39;40;34m)\u001B[0m\u001B[38;2;248;248;242;48;2;39;40;34m,\u001B[0m\u001B[48;2;39;40;34m                                                          \u001B[0m  \n",
       "  \u001B[38;2;248;248;242;48;2;39;40;34m                \u001B[0m\u001B[38;2;230;219;116;48;2;39;40;34m'\u001B[0m\u001B[38;2;230;219;116;48;2;39;40;34mimage_url\u001B[0m\u001B[38;2;230;219;116;48;2;39;40;34m'\u001B[0m\u001B[38;2;248;248;242;48;2;39;40;34m:\u001B[0m\u001B[38;2;248;248;242;48;2;39;40;34m \u001B[0m\u001B[38;2;248;248;242;48;2;39;40;34mproduct\u001B[0m\u001B[38;2;255;70;137;48;2;39;40;34m.\u001B[0m\u001B[38;2;248;248;242;48;2;39;40;34mget\u001B[0m\u001B[38;2;248;248;242;48;2;39;40;34m(\u001B[0m\u001B[38;2;230;219;116;48;2;39;40;34m'\u001B[0m\u001B[38;2;230;219;116;48;2;39;40;34mimage_url\u001B[0m\u001B[38;2;230;219;116;48;2;39;40;34m'\u001B[0m\u001B[38;2;248;248;242;48;2;39;40;34m,\u001B[0m\u001B[38;2;248;248;242;48;2;39;40;34m \u001B[0m\u001B[38;2;230;219;116;48;2;39;40;34m'\u001B[0m\u001B[38;2;230;219;116;48;2;39;40;34mN/A\u001B[0m\u001B[38;2;230;219;116;48;2;39;40;34m'\u001B[0m\u001B[38;2;248;248;242;48;2;39;40;34m)\u001B[0m\u001B[38;2;248;248;242;48;2;39;40;34m,\u001B[0m\u001B[48;2;39;40;34m                                                  \u001B[0m  \n",
       "  \u001B[38;2;248;248;242;48;2;39;40;34m                \u001B[0m\u001B[38;2;230;219;116;48;2;39;40;34m'\u001B[0m\u001B[38;2;230;219;116;48;2;39;40;34mproduct_link\u001B[0m\u001B[38;2;230;219;116;48;2;39;40;34m'\u001B[0m\u001B[38;2;248;248;242;48;2;39;40;34m:\u001B[0m\u001B[38;2;248;248;242;48;2;39;40;34m \u001B[0m\u001B[38;2;248;248;242;48;2;39;40;34mproduct\u001B[0m\u001B[38;2;255;70;137;48;2;39;40;34m.\u001B[0m\u001B[38;2;248;248;242;48;2;39;40;34mget\u001B[0m\u001B[38;2;248;248;242;48;2;39;40;34m(\u001B[0m\u001B[38;2;230;219;116;48;2;39;40;34m'\u001B[0m\u001B[38;2;230;219;116;48;2;39;40;34mproduct_link\u001B[0m\u001B[38;2;230;219;116;48;2;39;40;34m'\u001B[0m\u001B[38;2;248;248;242;48;2;39;40;34m)\u001B[0m\u001B[38;2;248;248;242;48;2;39;40;34m,\u001B[0m\u001B[48;2;39;40;34m                                                   \u001B[0m  \n",
       "  \u001B[38;2;248;248;242;48;2;39;40;34m                \u001B[0m\u001B[38;2;230;219;116;48;2;39;40;34m'\u001B[0m\u001B[38;2;230;219;116;48;2;39;40;34msize\u001B[0m\u001B[38;2;230;219;116;48;2;39;40;34m'\u001B[0m\u001B[38;2;248;248;242;48;2;39;40;34m:\u001B[0m\u001B[38;2;248;248;242;48;2;39;40;34m \u001B[0m\u001B[38;2;230;219;116;48;2;39;40;34m'\u001B[0m\u001B[38;2;230;219;116;48;2;39;40;34mN/A\u001B[0m\u001B[38;2;230;219;116;48;2;39;40;34m'\u001B[0m\u001B[38;2;248;248;242;48;2;39;40;34m,\u001B[0m\u001B[48;2;39;40;34m                                                                                 \u001B[0m  \n",
       "  \u001B[38;2;248;248;242;48;2;39;40;34m                \u001B[0m\u001B[38;2;230;219;116;48;2;39;40;34m'\u001B[0m\u001B[38;2;230;219;116;48;2;39;40;34mresolution\u001B[0m\u001B[38;2;230;219;116;48;2;39;40;34m'\u001B[0m\u001B[38;2;248;248;242;48;2;39;40;34m:\u001B[0m\u001B[38;2;248;248;242;48;2;39;40;34m \u001B[0m\u001B[38;2;230;219;116;48;2;39;40;34m'\u001B[0m\u001B[38;2;230;219;116;48;2;39;40;34mN/A\u001B[0m\u001B[38;2;230;219;116;48;2;39;40;34m'\u001B[0m\u001B[38;2;248;248;242;48;2;39;40;34m,\u001B[0m\u001B[48;2;39;40;34m                                                                           \u001B[0m  \n",
       "  \u001B[38;2;248;248;242;48;2;39;40;34m                \u001B[0m\u001B[38;2;230;219;116;48;2;39;40;34m'\u001B[0m\u001B[38;2;230;219;116;48;2;39;40;34msmart_options\u001B[0m\u001B[38;2;230;219;116;48;2;39;40;34m'\u001B[0m\u001B[38;2;248;248;242;48;2;39;40;34m:\u001B[0m\u001B[38;2;248;248;242;48;2;39;40;34m \u001B[0m\u001B[38;2;230;219;116;48;2;39;40;34m'\u001B[0m\u001B[38;2;230;219;116;48;2;39;40;34mN/A\u001B[0m\u001B[38;2;230;219;116;48;2;39;40;34m'\u001B[0m\u001B[38;2;248;248;242;48;2;39;40;34m,\u001B[0m\u001B[48;2;39;40;34m                                                                        \u001B[0m  \n",
       "  \u001B[38;2;248;248;242;48;2;39;40;34m                \u001B[0m\u001B[38;2;230;219;116;48;2;39;40;34m'\u001B[0m\u001B[38;2;230;219;116;48;2;39;40;34mdisplay_technology\u001B[0m\u001B[38;2;230;219;116;48;2;39;40;34m'\u001B[0m\u001B[38;2;248;248;242;48;2;39;40;34m:\u001B[0m\u001B[38;2;248;248;242;48;2;39;40;34m \u001B[0m\u001B[38;2;230;219;116;48;2;39;40;34m'\u001B[0m\u001B[38;2;230;219;116;48;2;39;40;34mN/A\u001B[0m\u001B[38;2;230;219;116;48;2;39;40;34m'\u001B[0m\u001B[38;2;248;248;242;48;2;39;40;34m,\u001B[0m\u001B[48;2;39;40;34m                                                                   \u001B[0m  \n",
       "  \u001B[38;2;248;248;242;48;2;39;40;34m                \u001B[0m\u001B[38;2;230;219;116;48;2;39;40;34m'\u001B[0m\u001B[38;2;230;219;116;48;2;39;40;34mError\u001B[0m\u001B[38;2;230;219;116;48;2;39;40;34m'\u001B[0m\u001B[38;2;248;248;242;48;2;39;40;34m:\u001B[0m\u001B[38;2;248;248;242;48;2;39;40;34m \u001B[0m\u001B[38;2;248;248;242;48;2;39;40;34mstr\u001B[0m\u001B[38;2;248;248;242;48;2;39;40;34m(\u001B[0m\u001B[38;2;248;248;242;48;2;39;40;34me\u001B[0m\u001B[38;2;248;248;242;48;2;39;40;34m)\u001B[0m\u001B[38;2;248;248;242;48;2;39;40;34m \u001B[0m\u001B[38;2;149;144;119;48;2;39;40;34m# Add error information\u001B[0m\u001B[48;2;39;40;34m                                                        \u001B[0m  \n",
       "  \u001B[38;2;248;248;242;48;2;39;40;34m            \u001B[0m\u001B[38;2;248;248;242;48;2;39;40;34m}\u001B[0m\u001B[38;2;248;248;242;48;2;39;40;34m)\u001B[0m\u001B[48;2;39;40;34m                                                                                                 \u001B[0m  \n",
       "  \u001B[48;2;39;40;34m                                                                                                               \u001B[0m  \n",
       "  \u001B[38;2;248;248;242;48;2;39;40;34m    \u001B[0m\u001B[38;2;248;248;242;48;2;39;40;34mprint\u001B[0m\u001B[38;2;248;248;242;48;2;39;40;34m(\u001B[0m\u001B[38;2;230;219;116;48;2;39;40;34mf\u001B[0m\u001B[38;2;230;219;116;48;2;39;40;34m\"\u001B[0m\u001B[38;2;230;219;116;48;2;39;40;34mProduct details list for comparison: \u001B[0m\u001B[38;2;230;219;116;48;2;39;40;34m{\u001B[0m\u001B[38;2;248;248;242;48;2;39;40;34mproduct_details_list\u001B[0m\u001B[38;2;230;219;116;48;2;39;40;34m}\u001B[0m\u001B[38;2;230;219;116;48;2;39;40;34m\"\u001B[0m\u001B[38;2;248;248;242;48;2;39;40;34m)\u001B[0m\u001B[48;2;39;40;34m                                      \u001B[0m  \n",
       "  \u001B[48;2;39;40;34m                                                                                                               \u001B[0m  \n",
       "  \u001B[38;2;248;248;242;48;2;39;40;34m    \u001B[0m\u001B[38;2;102;217;239;48;2;39;40;34mif\u001B[0m\u001B[38;2;248;248;242;48;2;39;40;34m \u001B[0m\u001B[38;2;255;70;137;48;2;39;40;34mnot\u001B[0m\u001B[38;2;248;248;242;48;2;39;40;34m \u001B[0m\u001B[38;2;248;248;242;48;2;39;40;34mproduct_details_list\u001B[0m\u001B[38;2;248;248;242;48;2;39;40;34m:\u001B[0m\u001B[48;2;39;40;34m                                                                               \u001B[0m  \n",
       "  \u001B[38;2;248;248;242;48;2;39;40;34m        \u001B[0m\u001B[38;2;248;248;242;48;2;39;40;34mfinal_answer\u001B[0m\u001B[38;2;248;248;242;48;2;39;40;34m(\u001B[0m\u001B[38;2;230;219;116;48;2;39;40;34m\"\u001B[0m\u001B[38;2;230;219;116;48;2;39;40;34mI found some TV-related items, but I couldn\u001B[0m\u001B[38;2;230;219;116;48;2;39;40;34m'\u001B[0m\u001B[38;2;230;219;116;48;2;39;40;34mt extract detailed features for actual TVs. \u001B[0m\u001B[48;2;39;40;34m \u001B[0m  \n",
       "  \u001B[38;2;230;219;116;48;2;39;40;34mPlease try a more specific search, or check the links I found initially if any seem relevant.\u001B[0m\u001B[38;2;230;219;116;48;2;39;40;34m\"\u001B[0m\u001B[38;2;248;248;242;48;2;39;40;34m,\u001B[0m\u001B[38;2;248;248;242;48;2;39;40;34m \u001B[0m\u001B[38;2;102;217;239;48;2;39;40;34mNone\u001B[0m\u001B[38;2;248;248;242;48;2;39;40;34m)\u001B[0m\u001B[48;2;39;40;34m          \u001B[0m  \n",
       "  \u001B[38;2;248;248;242;48;2;39;40;34m    \u001B[0m\u001B[38;2;102;217;239;48;2;39;40;34melse\u001B[0m\u001B[38;2;248;248;242;48;2;39;40;34m:\u001B[0m\u001B[48;2;39;40;34m                                                                                                      \u001B[0m  \n",
       "  \u001B[38;2;248;248;242;48;2;39;40;34m        \u001B[0m\u001B[38;2;149;144;119;48;2;39;40;34m# Filter out products that clearly aren't TVs based on missing essential features after parsing\u001B[0m\u001B[48;2;39;40;34m        \u001B[0m  \n",
       "  \u001B[38;2;248;248;242;48;2;39;40;34m        \u001B[0m\u001B[38;2;149;144;119;48;2;39;40;34m# For example, a TV must have a size and resolution.\u001B[0m\u001B[48;2;39;40;34m                                                   \u001B[0m  \n",
       "  \u001B[38;2;248;248;242;48;2;39;40;34m        \u001B[0m\u001B[38;2;149;144;119;48;2;39;40;34m# This is a stricter filter after attempting to parse details.\u001B[0m\u001B[48;2;39;40;34m                                         \u001B[0m  \n",
       "  \u001B[38;2;248;248;242;48;2;39;40;34m        \u001B[0m\u001B[38;2;248;248;242;48;2;39;40;34mactual_tvs_for_comparison\u001B[0m\u001B[38;2;248;248;242;48;2;39;40;34m \u001B[0m\u001B[38;2;255;70;137;48;2;39;40;34m=\u001B[0m\u001B[38;2;248;248;242;48;2;39;40;34m \u001B[0m\u001B[38;2;248;248;242;48;2;39;40;34m[\u001B[0m\u001B[38;2;248;248;242;48;2;39;40;34m]\u001B[0m\u001B[48;2;39;40;34m                                                                         \u001B[0m  \n",
       "  \u001B[38;2;248;248;242;48;2;39;40;34m        \u001B[0m\u001B[38;2;102;217;239;48;2;39;40;34mfor\u001B[0m\u001B[38;2;248;248;242;48;2;39;40;34m \u001B[0m\u001B[38;2;248;248;242;48;2;39;40;34mitem\u001B[0m\u001B[38;2;248;248;242;48;2;39;40;34m \u001B[0m\u001B[38;2;255;70;137;48;2;39;40;34min\u001B[0m\u001B[38;2;248;248;242;48;2;39;40;34m \u001B[0m\u001B[38;2;248;248;242;48;2;39;40;34mproduct_details_list\u001B[0m\u001B[38;2;248;248;242;48;2;39;40;34m:\u001B[0m\u001B[48;2;39;40;34m                                                                      \u001B[0m  \n",
       "  \u001B[38;2;248;248;242;48;2;39;40;34m            \u001B[0m\u001B[38;2;149;144;119;48;2;39;40;34m# A simple heuristic: if 'size' and 'resolution' are both N/A, it's unlikely a TV.\u001B[0m\u001B[48;2;39;40;34m                 \u001B[0m  \n",
       "  \u001B[38;2;248;248;242;48;2;39;40;34m            \u001B[0m\u001B[38;2;149;144;119;48;2;39;40;34m# Or if it's one of the items that failed processing and has an 'Error' key.\u001B[0m\u001B[48;2;39;40;34m                       \u001B[0m  \n",
       "  \u001B[38;2;248;248;242;48;2;39;40;34m            \u001B[0m\u001B[38;2;102;217;239;48;2;39;40;34mif\u001B[0m\u001B[38;2;248;248;242;48;2;39;40;34m \u001B[0m\u001B[38;2;230;219;116;48;2;39;40;34m'\u001B[0m\u001B[38;2;230;219;116;48;2;39;40;34mError\u001B[0m\u001B[38;2;230;219;116;48;2;39;40;34m'\u001B[0m\u001B[38;2;248;248;242;48;2;39;40;34m \u001B[0m\u001B[38;2;255;70;137;48;2;39;40;34min\u001B[0m\u001B[38;2;248;248;242;48;2;39;40;34m \u001B[0m\u001B[38;2;248;248;242;48;2;39;40;34mitem\u001B[0m\u001B[38;2;248;248;242;48;2;39;40;34m:\u001B[0m\u001B[48;2;39;40;34m                                                                                \u001B[0m  \n",
       "  \u001B[38;2;248;248;242;48;2;39;40;34m                \u001B[0m\u001B[38;2;102;217;239;48;2;39;40;34mcontinue\u001B[0m\u001B[38;2;248;248;242;48;2;39;40;34m \u001B[0m\u001B[38;2;149;144;119;48;2;39;40;34m# Skip items that had processing errors\u001B[0m\u001B[48;2;39;40;34m                                               \u001B[0m  \n",
       "  \u001B[38;2;248;248;242;48;2;39;40;34m            \u001B[0m\u001B[38;2;102;217;239;48;2;39;40;34mif\u001B[0m\u001B[38;2;248;248;242;48;2;39;40;34m \u001B[0m\u001B[38;2;248;248;242;48;2;39;40;34mitem\u001B[0m\u001B[38;2;255;70;137;48;2;39;40;34m.\u001B[0m\u001B[38;2;248;248;242;48;2;39;40;34mget\u001B[0m\u001B[38;2;248;248;242;48;2;39;40;34m(\u001B[0m\u001B[38;2;230;219;116;48;2;39;40;34m'\u001B[0m\u001B[38;2;230;219;116;48;2;39;40;34msize\u001B[0m\u001B[38;2;230;219;116;48;2;39;40;34m'\u001B[0m\u001B[38;2;248;248;242;48;2;39;40;34m,\u001B[0m\u001B[38;2;248;248;242;48;2;39;40;34m \u001B[0m\u001B[38;2;230;219;116;48;2;39;40;34m'\u001B[0m\u001B[38;2;230;219;116;48;2;39;40;34mN/A\u001B[0m\u001B[38;2;230;219;116;48;2;39;40;34m'\u001B[0m\u001B[38;2;248;248;242;48;2;39;40;34m)\u001B[0m\u001B[38;2;248;248;242;48;2;39;40;34m \u001B[0m\u001B[38;2;255;70;137;48;2;39;40;34m!=\u001B[0m\u001B[38;2;248;248;242;48;2;39;40;34m \u001B[0m\u001B[38;2;230;219;116;48;2;39;40;34m'\u001B[0m\u001B[38;2;230;219;116;48;2;39;40;34mN/A\u001B[0m\u001B[38;2;230;219;116;48;2;39;40;34m'\u001B[0m\u001B[38;2;248;248;242;48;2;39;40;34m \u001B[0m\u001B[38;2;255;70;137;48;2;39;40;34mor\u001B[0m\u001B[38;2;248;248;242;48;2;39;40;34m \u001B[0m\u001B[38;2;248;248;242;48;2;39;40;34mitem\u001B[0m\u001B[38;2;255;70;137;48;2;39;40;34m.\u001B[0m\u001B[38;2;248;248;242;48;2;39;40;34mget\u001B[0m\u001B[38;2;248;248;242;48;2;39;40;34m(\u001B[0m\u001B[38;2;230;219;116;48;2;39;40;34m'\u001B[0m\u001B[38;2;230;219;116;48;2;39;40;34mresolution\u001B[0m\u001B[38;2;230;219;116;48;2;39;40;34m'\u001B[0m\u001B[38;2;248;248;242;48;2;39;40;34m,\u001B[0m\u001B[38;2;248;248;242;48;2;39;40;34m \u001B[0m\u001B[38;2;230;219;116;48;2;39;40;34m'\u001B[0m\u001B[38;2;230;219;116;48;2;39;40;34mN/A\u001B[0m\u001B[38;2;230;219;116;48;2;39;40;34m'\u001B[0m\u001B[38;2;248;248;242;48;2;39;40;34m)\u001B[0m\u001B[38;2;248;248;242;48;2;39;40;34m \u001B[0m\u001B[38;2;255;70;137;48;2;39;40;34m!=\u001B[0m\u001B[38;2;248;248;242;48;2;39;40;34m \u001B[0m\u001B[38;2;230;219;116;48;2;39;40;34m'\u001B[0m\u001B[38;2;230;219;116;48;2;39;40;34mN/A\u001B[0m\u001B[38;2;230;219;116;48;2;39;40;34m'\u001B[0m\u001B[38;2;248;248;242;48;2;39;40;34m:\u001B[0m\u001B[48;2;39;40;34m                     \u001B[0m  \n",
       "  \u001B[38;2;248;248;242;48;2;39;40;34m                 \u001B[0m\u001B[38;2;149;144;119;48;2;39;40;34m# Also check if the name clearly indicates it's not a TV (e.g., \"feet\", \"cover\", \"wallpaper\")\u001B[0m\u001B[48;2;39;40;34m \u001B[0m  \n",
       "  \u001B[38;2;248;248;242;48;2;39;40;34m                \u001B[0m\u001B[38;2;248;248;242;48;2;39;40;34mname_lower\u001B[0m\u001B[38;2;248;248;242;48;2;39;40;34m \u001B[0m\u001B[38;2;255;70;137;48;2;39;40;34m=\u001B[0m\u001B[38;2;248;248;242;48;2;39;40;34m \u001B[0m\u001B[38;2;248;248;242;48;2;39;40;34mitem\u001B[0m\u001B[38;2;255;70;137;48;2;39;40;34m.\u001B[0m\u001B[38;2;248;248;242;48;2;39;40;34mget\u001B[0m\u001B[38;2;248;248;242;48;2;39;40;34m(\u001B[0m\u001B[38;2;230;219;116;48;2;39;40;34m'\u001B[0m\u001B[38;2;230;219;116;48;2;39;40;34mproduct_name\u001B[0m\u001B[38;2;230;219;116;48;2;39;40;34m'\u001B[0m\u001B[38;2;248;248;242;48;2;39;40;34m,\u001B[0m\u001B[38;2;248;248;242;48;2;39;40;34m \u001B[0m\u001B[38;2;230;219;116;48;2;39;40;34m'\u001B[0m\u001B[38;2;230;219;116;48;2;39;40;34m'\u001B[0m\u001B[38;2;248;248;242;48;2;39;40;34m)\u001B[0m\u001B[38;2;255;70;137;48;2;39;40;34m.\u001B[0m\u001B[38;2;248;248;242;48;2;39;40;34mlower\u001B[0m\u001B[38;2;248;248;242;48;2;39;40;34m(\u001B[0m\u001B[38;2;248;248;242;48;2;39;40;34m)\u001B[0m\u001B[48;2;39;40;34m                                              \u001B[0m  \n",
       "  \u001B[38;2;248;248;242;48;2;39;40;34m                \u001B[0m\u001B[38;2;102;217;239;48;2;39;40;34mif\u001B[0m\u001B[38;2;248;248;242;48;2;39;40;34m \u001B[0m\u001B[38;2;255;70;137;48;2;39;40;34mnot\u001B[0m\u001B[38;2;248;248;242;48;2;39;40;34m \u001B[0m\u001B[38;2;248;248;242;48;2;39;40;34many\u001B[0m\u001B[38;2;248;248;242;48;2;39;40;34m(\u001B[0m\u001B[38;2;248;248;242;48;2;39;40;34mx\u001B[0m\u001B[38;2;248;248;242;48;2;39;40;34m \u001B[0m\u001B[38;2;255;70;137;48;2;39;40;34min\u001B[0m\u001B[38;2;248;248;242;48;2;39;40;34m \u001B[0m\u001B[38;2;248;248;242;48;2;39;40;34mname_lower\u001B[0m\u001B[38;2;248;248;242;48;2;39;40;34m \u001B[0m\u001B[38;2;102;217;239;48;2;39;40;34mfor\u001B[0m\u001B[38;2;248;248;242;48;2;39;40;34m \u001B[0m\u001B[38;2;248;248;242;48;2;39;40;34mx\u001B[0m\u001B[38;2;248;248;242;48;2;39;40;34m \u001B[0m\u001B[38;2;255;70;137;48;2;39;40;34min\u001B[0m\u001B[38;2;248;248;242;48;2;39;40;34m \u001B[0m\u001B[38;2;248;248;242;48;2;39;40;34m[\u001B[0m\u001B[38;2;230;219;116;48;2;39;40;34m\"\u001B[0m\u001B[38;2;230;219;116;48;2;39;40;34mfeet\u001B[0m\u001B[38;2;230;219;116;48;2;39;40;34m\"\u001B[0m\u001B[38;2;248;248;242;48;2;39;40;34m,\u001B[0m\u001B[38;2;248;248;242;48;2;39;40;34m \u001B[0m\u001B[38;2;230;219;116;48;2;39;40;34m\"\u001B[0m\u001B[38;2;230;219;116;48;2;39;40;34mcover\u001B[0m\u001B[38;2;230;219;116;48;2;39;40;34m\"\u001B[0m\u001B[38;2;248;248;242;48;2;39;40;34m,\u001B[0m\u001B[38;2;248;248;242;48;2;39;40;34m \u001B[0m\u001B[38;2;230;219;116;48;2;39;40;34m\"\u001B[0m\u001B[38;2;230;219;116;48;2;39;40;34mwallpaper\u001B[0m\u001B[38;2;230;219;116;48;2;39;40;34m\"\u001B[0m\u001B[38;2;248;248;242;48;2;39;40;34m,\u001B[0m\u001B[38;2;248;248;242;48;2;39;40;34m \u001B[0m\u001B[38;2;230;219;116;48;2;39;40;34m\"\u001B[0m\u001B[38;2;230;219;116;48;2;39;40;34mmeuble\u001B[0m\u001B[38;2;230;219;116;48;2;39;40;34m\"\u001B[0m\u001B[38;2;248;248;242;48;2;39;40;34m,\u001B[0m\u001B[38;2;248;248;242;48;2;39;40;34m \u001B[0m\u001B[38;2;230;219;116;48;2;39;40;34m\"\u001B[0m\u001B[38;2;230;219;116;48;2;39;40;34mstand\u001B[0m\u001B[38;2;230;219;116;48;2;39;40;34m\"\u001B[0m\u001B[38;2;248;248;242;48;2;39;40;34m,\u001B[0m\u001B[38;2;248;248;242;48;2;39;40;34m \u001B[0m\u001B[48;2;39;40;34m         \u001B[0m  \n",
       "  \u001B[38;2;230;219;116;48;2;39;40;34m\"\u001B[0m\u001B[38;2;230;219;116;48;2;39;40;34mhousses\u001B[0m\u001B[38;2;230;219;116;48;2;39;40;34m\"\u001B[0m\u001B[38;2;248;248;242;48;2;39;40;34m,\u001B[0m\u001B[38;2;248;248;242;48;2;39;40;34m \u001B[0m\u001B[38;2;230;219;116;48;2;39;40;34m\"\u001B[0m\u001B[38;2;230;219;116;48;2;39;40;34msupport\u001B[0m\u001B[38;2;230;219;116;48;2;39;40;34m\"\u001B[0m\u001B[38;2;248;248;242;48;2;39;40;34m]\u001B[0m\u001B[38;2;248;248;242;48;2;39;40;34m)\u001B[0m\u001B[38;2;248;248;242;48;2;39;40;34m:\u001B[0m\u001B[48;2;39;40;34m                                                                                        \u001B[0m  \n",
       "  \u001B[38;2;248;248;242;48;2;39;40;34m                    \u001B[0m\u001B[38;2;248;248;242;48;2;39;40;34mactual_tvs_for_comparison\u001B[0m\u001B[38;2;255;70;137;48;2;39;40;34m.\u001B[0m\u001B[38;2;248;248;242;48;2;39;40;34mappend\u001B[0m\u001B[38;2;248;248;242;48;2;39;40;34m(\u001B[0m\u001B[38;2;248;248;242;48;2;39;40;34mitem\u001B[0m\u001B[38;2;248;248;242;48;2;39;40;34m)\u001B[0m\u001B[48;2;39;40;34m                                                     \u001B[0m  \n",
       "  \u001B[38;2;248;248;242;48;2;39;40;34m        \u001B[0m\u001B[48;2;39;40;34m                                                                                                       \u001B[0m  \n",
       "  \u001B[38;2;248;248;242;48;2;39;40;34m        \u001B[0m\u001B[38;2;248;248;242;48;2;39;40;34mprint\u001B[0m\u001B[38;2;248;248;242;48;2;39;40;34m(\u001B[0m\u001B[38;2;230;219;116;48;2;39;40;34mf\u001B[0m\u001B[38;2;230;219;116;48;2;39;40;34m\"\u001B[0m\u001B[38;2;230;219;116;48;2;39;40;34mActual TVs for comparison after detailed check: \u001B[0m\u001B[38;2;230;219;116;48;2;39;40;34m{\u001B[0m\u001B[38;2;248;248;242;48;2;39;40;34mactual_tvs_for_comparison\u001B[0m\u001B[38;2;230;219;116;48;2;39;40;34m}\u001B[0m\u001B[38;2;230;219;116;48;2;39;40;34m\"\u001B[0m\u001B[38;2;248;248;242;48;2;39;40;34m)\u001B[0m\u001B[48;2;39;40;34m                  \u001B[0m  \n",
       "  \u001B[48;2;39;40;34m                                                                                                               \u001B[0m  \n",
       "  \u001B[38;2;248;248;242;48;2;39;40;34m        \u001B[0m\u001B[38;2;102;217;239;48;2;39;40;34mif\u001B[0m\u001B[38;2;248;248;242;48;2;39;40;34m \u001B[0m\u001B[38;2;255;70;137;48;2;39;40;34mnot\u001B[0m\u001B[38;2;248;248;242;48;2;39;40;34m \u001B[0m\u001B[38;2;248;248;242;48;2;39;40;34mactual_tvs_for_comparison\u001B[0m\u001B[38;2;248;248;242;48;2;39;40;34m:\u001B[0m\u001B[48;2;39;40;34m                                                                      \u001B[0m  \n",
       "  \u001B[38;2;248;248;242;48;2;39;40;34m            \u001B[0m\u001B[38;2;248;248;242;48;2;39;40;34mfinal_answer\u001B[0m\u001B[38;2;248;248;242;48;2;39;40;34m(\u001B[0m\u001B[38;2;230;219;116;48;2;39;40;34m\"\u001B[0m\u001B[38;2;230;219;116;48;2;39;40;34mI found some TV-related items, but after trying to get details, none seem to be \u001B[0m\u001B[48;2;39;40;34m     \u001B[0m  \n",
       "  \u001B[38;2;230;219;116;48;2;39;40;34mactual TVs with enough information for comparison. You might want to try a more specific search like \u001B[0m\u001B[38;2;230;219;116;48;2;39;40;34m'\u001B[0m\u001B[38;2;230;219;116;48;2;39;40;34m55 inch \u001B[0m\u001B[48;2;39;40;34m \u001B[0m  \n",
       "  \u001B[38;2;230;219;116;48;2;39;40;34m4K Smart TV\u001B[0m\u001B[38;2;230;219;116;48;2;39;40;34m'\u001B[0m\u001B[38;2;230;219;116;48;2;39;40;34m.\u001B[0m\u001B[38;2;230;219;116;48;2;39;40;34m\"\u001B[0m\u001B[38;2;248;248;242;48;2;39;40;34m,\u001B[0m\u001B[38;2;248;248;242;48;2;39;40;34m \u001B[0m\u001B[38;2;102;217;239;48;2;39;40;34mNone\u001B[0m\u001B[38;2;248;248;242;48;2;39;40;34m)\u001B[0m\u001B[48;2;39;40;34m                                                                                          \u001B[0m  \n",
       "  \u001B[38;2;248;248;242;48;2;39;40;34m        \u001B[0m\u001B[38;2;102;217;239;48;2;39;40;34melse\u001B[0m\u001B[38;2;248;248;242;48;2;39;40;34m:\u001B[0m\u001B[48;2;39;40;34m                                                                                                  \u001B[0m  \n",
       "  \u001B[38;2;248;248;242;48;2;39;40;34m            \u001B[0m\u001B[38;2;248;248;242;48;2;39;40;34mcomparison_table\u001B[0m\u001B[38;2;248;248;242;48;2;39;40;34m \u001B[0m\u001B[38;2;255;70;137;48;2;39;40;34m=\u001B[0m\u001B[38;2;248;248;242;48;2;39;40;34m \u001B[0m\u001B[38;2;248;248;242;48;2;39;40;34mcompare_product\u001B[0m\u001B[38;2;248;248;242;48;2;39;40;34m(\u001B[0m\u001B[38;2;248;248;242;48;2;39;40;34mactual_tvs_for_comparison\u001B[0m\u001B[38;2;248;248;242;48;2;39;40;34m)\u001B[0m\u001B[48;2;39;40;34m                                      \u001B[0m  \n",
       "  \u001B[38;2;248;248;242;48;2;39;40;34m            \u001B[0m\u001B[38;2;248;248;242;48;2;39;40;34manswer\u001B[0m\u001B[38;2;248;248;242;48;2;39;40;34m \u001B[0m\u001B[38;2;255;70;137;48;2;39;40;34m=\u001B[0m\u001B[38;2;248;248;242;48;2;39;40;34m \u001B[0m\u001B[38;2;230;219;116;48;2;39;40;34m\"\u001B[0m\u001B[38;2;230;219;116;48;2;39;40;34mHere are some TV suggestions for your living room. I\u001B[0m\u001B[38;2;230;219;116;48;2;39;40;34m'\u001B[0m\u001B[38;2;230;219;116;48;2;39;40;34mve tried to extract key features \u001B[0m\u001B[48;2;39;40;34m   \u001B[0m  \n",
       "  \u001B[38;2;230;219;116;48;2;39;40;34mlike size, resolution, and smart capabilities. Please review the table to see which best fits your needs.\u001B[0m\u001B[38;2;230;219;116;48;2;39;40;34m\"\u001B[0m\u001B[48;2;39;40;34m     \u001B[0m  \n",
       "  \u001B[38;2;248;248;242;48;2;39;40;34m            \u001B[0m\u001B[38;2;248;248;242;48;2;39;40;34mfinal_answer\u001B[0m\u001B[38;2;248;248;242;48;2;39;40;34m(\u001B[0m\u001B[38;2;248;248;242;48;2;39;40;34manswer\u001B[0m\u001B[38;2;248;248;242;48;2;39;40;34m,\u001B[0m\u001B[38;2;248;248;242;48;2;39;40;34m \u001B[0m\u001B[38;2;248;248;242;48;2;39;40;34mcomparison_table\u001B[0m\u001B[38;2;248;248;242;48;2;39;40;34m)\u001B[0m\u001B[48;2;39;40;34m                                                             \u001B[0m  \n",
       " ───────────────────────────────────────────────────────────────────────────────────────────────────────────────── \n"
      ]
     },
     "metadata": {},
     "output_type": "display_data"
    }
   ],
   "source": [
    "res = agent.run(\"I'm looking for a new TV for my living room, can you give me some suggestions?\", reset=False, stream=False)"
   ]
  },
  {
   "cell_type": "code",
   "execution_count": 21,
   "id": "b37350ee-1b25-4afe-99fa-8e4e06919548",
   "metadata": {
    "pycharm": {
     "name": "#%%\n"
    }
   },
   "outputs": [
    {
     "data": {
      "text/plain": [
       "1.1700000000000017"
      ]
     },
     "execution_count": 21,
     "metadata": {},
     "output_type": "execute_result"
    }
   ],
   "source": [
    "23.71 - 22.54"
   ]
  },
  {
   "cell_type": "code",
   "execution_count": 25,
   "id": "73453832-c191-4eef-86da-4eecda946044",
   "metadata": {
    "pycharm": {
     "name": "#%%\n"
    }
   },
   "outputs": [],
   "source": [
    "get_product_description.headers = {\"User-Agent\": (\n",
    "        \"Mozilla/5.0 (Windows NT 10.0; Win64; x64) \"\n",
    "        \"AppleWebKit/537.36 (KHTML, like Gecko) \"\n",
    "        \"Chrome/123.0.0.0 Safari/537.36\"\n",
    "    )}"
   ]
  },
  {
   "cell_type": "code",
   "execution_count": 28,
   "id": "7e3b5d8c-e096-4bbb-8ac6-4acff1f364b4",
   "metadata": {
    "pycharm": {
     "name": "#%%\n"
    }
   },
   "outputs": [],
   "source": [
    "product.update(elmnt)"
   ]
  },
  {
   "cell_type": "code",
   "execution_count": 29,
   "id": "c98e20bf-9270-4599-95a8-6cc6c6a88e64",
   "metadata": {
    "pycharm": {
     "name": "#%%\n"
    }
   },
   "outputs": [
    {
     "data": {
      "text/plain": [
       "{'product_name': 'RCA TV 32 Pouces (80 cm) sans Bord LED HD Téléviseurs avec Triple Tuner (DVB-T/T2-C-S/S2), HDMI, CI+, Lecteur Multimédia USB, Mode Hôtel, Dolby Audio (NRB32HQ1, 2024)',\n",
       " 'image_url': 'https://m.media-amazon.com/images/I/71RY2UdWBWL.__AC_SX300_SY300_QL70_ML2_.jpg',\n",
       " 'product_link': 'https://www.amazon.fr/RCA-T%C3%A9l%C3%A9viseurs-Lecteur-Multim%C3%A9dia-NRB32HQ1/dp/B0D31PQ1SH/ref=sr_1_5?dib=eyJ2IjoiMSJ9.QEUyDt9Z8vIYCGRwKsSgwvoj_Ji_U9QEI1h5yqayupJB8w7uTdn_jk_KH2zBONsy2iEbRchDpoRkk_3qkBvs3kToA4RgyVEZncaKBr4GAwTJi-Q2Tvwp_aFfiuWupIKqrUkmynlLQvl6vBrpg_-QMd6iRKMaGrGJvzMTWbzucat7jPZ4UDHQbZtls8TsjnUTZPuXsxS2gQuxB1lcsoNglNNNl5Awwpotgsevg_M2zASpmOI4F8oxet9RYs9aDATpyBxI842W36_x3hRdIPUUaQNvLlOntmWb02B5b5QS6tI.uqk_N14VvPexL74NCYAZWyuEWiGHxzpXqFIX4nXFtz0&dib_tag=se&keywords=TV&qid=1746892358&sr=8-5',\n",
       " 'price': '119,99€',\n",
       " 'delivery_date': ' Livraison GRATUITE mer. 14 mai ',\n",
       " 'size': '32 Pouces (80 cm)',\n",
       " 'resolution': '720P HD Ready',\n",
       " 'operating_system': 'N/A',\n",
       " 'smart_features': 'Non Smart'}"
      ]
     },
     "execution_count": 29,
     "metadata": {},
     "output_type": "execute_result"
    }
   ],
   "source": [
    "product"
   ]
  },
  {
   "cell_type": "code",
   "execution_count": 30,
   "id": "c8a4a885-4ed8-419f-be1e-6e2e3734cd34",
   "metadata": {
    "pycharm": {
     "name": "#%%\n"
    }
   },
   "outputs": [
    {
     "data": {
      "text/plain": [
       "[{'product_name': 'RCA TV 32 Pouces (80 cm) sans Bord LED HD Téléviseurs avec Triple Tuner (DVB-T/T2-C-S/S2), HDMI, CI+, Lecteur Multimédia USB, Mode Hôtel, Dolby Audio (NRB32HQ1, 2024)',\n",
       "  'image_url': 'https://m.media-amazon.com/images/I/71RY2UdWBWL.__AC_SX300_SY300_QL70_ML2_.jpg',\n",
       "  'product_link': 'https://www.amazon.fr/RCA-T%C3%A9l%C3%A9viseurs-Lecteur-Multim%C3%A9dia-NRB32HQ1/dp/B0D31PQ1SH/ref=sr_1_5?dib=eyJ2IjoiMSJ9.QEUyDt9Z8vIYCGRwKsSgwvoj_Ji_U9QEI1h5yqayupJB8w7uTdn_jk_KH2zBONsy2iEbRchDpoRkk_3qkBvs3kToA4RgyVEZncaKBr4GAwTJi-Q2Tvwp_aFfiuWupIKqrUkmynlLQvl6vBrpg_-QMd6iRKMaGrGJvzMTWbzucat7jPZ4UDHQbZtls8TsjnUTZPuXsxS2gQuxB1lcsoNglNNNl5Awwpotgsevg_M2zASpmOI4F8oxet9RYs9aDATpyBxI842W36_x3hRdIPUUaQNvLlOntmWb02B5b5QS6tI.uqk_N14VvPexL74NCYAZWyuEWiGHxzpXqFIX4nXFtz0&dib_tag=se&keywords=TV&qid=1746892358&sr=8-5',\n",
       "  'price': '119,99€',\n",
       "  'delivery_date': ' Livraison GRATUITE mer. 14 mai ',\n",
       "  'size': '32 Pouces (80 cm)',\n",
       "  'resolution': '720P HD Ready',\n",
       "  'operating_system': 'N/A',\n",
       "  'smart_features': 'Non Smart'},\n",
       " {'product_name': 'Smart Tech 24HN01V3 HD LED TV 24 Pouces (60cm) Triple Tuner Dolby Audio H.265 HDMI USB, Résolution: 1366 (H) × 768 (V) Mode Hotel',\n",
       "  'image_url': 'https://m.media-amazon.com/images/I/81x8WbZiisL._AC_UL320_.jpg',\n",
       "  'product_link': 'https://www.amazon.fr/Smart-Tech-24HN01V3-Pouces-R%C3%A9solution/dp/B0DK985HGQ/ref=sr_1_6?dib=eyJ2IjoiMSJ9.QEUyDt9Z8vIYCGRwKsSgwvoj_Ji_U9QEI1h5yqayupJB8w7uTdn_jk_KH2zBONsy2iEbRchDpoRkk_3qkBvs3kToA4RgyVEZncaKBr4GAwTJi-Q2Tvwp_aFfiuWupIKqrUkmynlLQvl6vBrpg_-QMd6iRKMaGrGJvzMTWbzucat7jPZ4UDHQbZtls8TsjnUTZPuXsxS2gQuxB1lcsoNglNNNl5Awwpotgsevg_M2zASpmOI4F8oxet9RYs9aDATpyBxI842W36_x3hRdIPUUaQNvLlOntmWb02B5b5QS6tI.uqk_N14VvPexL74NCYAZWyuEWiGHxzpXqFIX4nXFtz0&dib_tag=se&keywords=TV&qid=1746892358&sr=8-6',\n",
       "  'price': '99,90 €',\n",
       "  'delivery_date': 'Livraison à 9,99\\xa0€ mer. 14 mai '},\n",
       " {'product_name': 'BSL BEAUTIFUL SOUND LINE BSL-24T2SV VIDAA Smart TV 24\" | WiFi | RJ45 | Résolution Full HD 1920X1080p | USB | DVBT2/S2/C | Compatible avec Youtube, Netflix, Disney +, Dazn, Prime | HDMI',\n",
       "  'image_url': 'https://m.media-amazon.com/images/I/51K3BBPqwfL._AC_UL320_.jpg',\n",
       "  'product_link': 'https://www.amazon.fr/BSL-BEAUTIFUL-SOUND-LINE-BSL-24T2SV/dp/B0CJMGJR2W/ref=sr_1_7?dib=eyJ2IjoiMSJ9.QEUyDt9Z8vIYCGRwKsSgwvoj_Ji_U9QEI1h5yqayupJB8w7uTdn_jk_KH2zBONsy2iEbRchDpoRkk_3qkBvs3kToA4RgyVEZncaKBr4GAwTJi-Q2Tvwp_aFfiuWupIKqrUkmynlLQvl6vBrpg_-QMd6iRKMaGrGJvzMTWbzucat7jPZ4UDHQbZtls8TsjnUTZPuXsxS2gQuxB1lcsoNglNNNl5Awwpotgsevg_M2zASpmOI4F8oxet9RYs9aDATpyBxI842W36_x3hRdIPUUaQNvLlOntmWb02B5b5QS6tI.uqk_N14VvPexL74NCYAZWyuEWiGHxzpXqFIX4nXFtz0&dib_tag=se&keywords=TV&qid=1746892358&sr=8-7',\n",
       "  'price': '119,99 €',\n",
       "  'delivery_date': ' Livraison GRATUITE jeu. 15 mai Ou livraison accélérée mer. 14 mai '},\n",
       " {'product_name': \"LG TV LED 2024 | 43UT80 | 43'' (108) | UHD | Processeur α5 AI 4K Gen7 | Alexa\",\n",
       "  'image_url': 'https://m.media-amazon.com/images/I/51a3Fcm4PSL._AC_UL320_.jpg',\n",
       "  'product_link': 'https://www.amazon.fr/LG-2024-43UT80-Processeur-Alexa/dp/B0DDCMG4WN/ref=sr_1_8?dib=eyJ2IjoiMSJ9.QEUyDt9Z8vIYCGRwKsSgwvoj_Ji_U9QEI1h5yqayupJB8w7uTdn_jk_KH2zBONsy2iEbRchDpoRkk_3qkBvs3kToA4RgyVEZncaKBr4GAwTJi-Q2Tvwp_aFfiuWupIKqrUkmynlLQvl6vBrpg_-QMd6iRKMaGrGJvzMTWbzucat7jPZ4UDHQbZtls8TsjnUTZPuXsxS2gQuxB1lcsoNglNNNl5Awwpotgsevg_M2zASpmOI4F8oxet9RYs9aDATpyBxI842W36_x3hRdIPUUaQNvLlOntmWb02B5b5QS6tI.uqk_N14VvPexL74NCYAZWyuEWiGHxzpXqFIX4nXFtz0&dib_tag=se&keywords=TV&qid=1746892358&sr=8-8',\n",
       "  'price': '249,00 €',\n",
       "  'delivery_date': ' Livraison à 6,99\\xa0€ jeu. 15 mai '},\n",
       " {'product_name': \"THOMSON 32'' (80 cm) HD - LED Fire TV - Commande vocale Alexa, Support AirPlay, Triple Tuner, Bluetooth, HDMI, Ports USB, AV in et CI+ - 32HF2S34-2024\",\n",
       "  'image_url': 'https://m.media-amazon.com/images/I/81hI2uxguNL._AC_UL320_.jpg',\n",
       "  'product_link': 'https://www.amazon.fr/Thomson-32-80-Bluetooth-32HF2S34-2024/dp/B0DFYLX1Y4/ref=sr_1_9?dib=eyJ2IjoiMSJ9.QEUyDt9Z8vIYCGRwKsSgwvoj_Ji_U9QEI1h5yqayupJB8w7uTdn_jk_KH2zBONsy2iEbRchDpoRkk_3qkBvs3kToA4RgyVEZncaKBr4GAwTJi-Q2Tvwp_aFfiuWupIKqrUkmynlLQvl6vBrpg_-QMd6iRKMaGrGJvzMTWbzucat7jPZ4UDHQbZtls8TsjnUTZPuXsxS2gQuxB1lcsoNglNNNl5Awwpotgsevg_M2zASpmOI4F8oxet9RYs9aDATpyBxI842W36_x3hRdIPUUaQNvLlOntmWb02B5b5QS6tI.uqk_N14VvPexL74NCYAZWyuEWiGHxzpXqFIX4nXFtz0&dib_tag=se&keywords=TV&qid=1746892358&sr=8-9',\n",
       "  'price': '169,00 €',\n",
       "  'delivery_date': ' Livraison GRATUITE jeu. 15 mai '},\n",
       " {'product_name': 'RCA VRS32HQ1 Smart TV 32 Pouces (80 cm) WiFi VIDAA Connectée Téléviseurs sans Bord avec Triple Tuner(DVB-C/S2/-T2), Molotov, Netflix, Prime Video, Disney+, Youtube - 2024',\n",
       "  'image_url': 'https://m.media-amazon.com/images/I/71ShXwQwHTL._AC_UL320_.jpg',\n",
       "  'product_link': 'https://www.amazon.fr/RCA-Connect%C3%A9e-T%C3%A9l%C3%A9viseurs-Molotov-Netflix/dp/B0CW3DWGT5/ref=sr_1_10?dib=eyJ2IjoiMSJ9.QEUyDt9Z8vIYCGRwKsSgwvoj_Ji_U9QEI1h5yqayupJB8w7uTdn_jk_KH2zBONsy2iEbRchDpoRkk_3qkBvs3kToA4RgyVEZncaKBr4GAwTJi-Q2Tvwp_aFfiuWupIKqrUkmynlLQvl6vBrpg_-QMd6iRKMaGrGJvzMTWbzucat7jPZ4UDHQbZtls8TsjnUTZPuXsxS2gQuxB1lcsoNglNNNl5Awwpotgsevg_M2zASpmOI4F8oxet9RYs9aDATpyBxI842W36_x3hRdIPUUaQNvLlOntmWb02B5b5QS6tI.uqk_N14VvPexL74NCYAZWyuEWiGHxzpXqFIX4nXFtz0&dib_tag=se&keywords=TV&qid=1746892358&sr=8-10',\n",
       "  'price': '149,99 €',\n",
       "  'delivery_date': ' Livraison GRATUITE mer. 14 mai '}]"
      ]
     },
     "execution_count": 30,
     "metadata": {},
     "output_type": "execute_result"
    }
   ],
   "source": [
    "search_results"
   ]
  },
  {
   "cell_type": "code",
   "execution_count": null,
   "id": "4a24ef35-570c-4012-b382-87903a667444",
   "metadata": {
    "pycharm": {
     "name": "#%%\n"
    }
   },
   "outputs": [],
   "source": []
  }
 ],
 "metadata": {
  "kernelspec": {
   "display_name": "Python 3 (ipykernel)",
   "language": "python",
   "name": "python3"
  },
  "language_info": {
   "codemirror_mode": {
    "name": "ipython",
    "version": 3
   },
   "file_extension": ".py",
   "mimetype": "text/x-python",
   "name": "python",
   "nbconvert_exporter": "python",
   "pygments_lexer": "ipython3",
   "version": "3.11.0"
  }
 },
 "nbformat": 4,
 "nbformat_minor": 5
}