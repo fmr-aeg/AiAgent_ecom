{
 "cells": [
  {
   "cell_type": "code",
   "execution_count": 1,
   "id": "e52ae9cc-6154-4c19-bc2d-ab1c30e8155a",
   "metadata": {
    "pycharm": {
     "name": "#%%\n"
    }
   },
   "outputs": [],
   "source": [
    "import os\n",
    "from transformers import AutoTokenizer, AutoModelForCausalLM, pipeline, BitsAndBytesConfig\n",
    "from smolagents import CodeAgent,DuckDuckGoSearchTool, HfApiModel,load_tool, tool, TransformersModel, Model, FinalAnswerTool, LiteLLMModel, UserInputTool\n",
    "from custom_model import CustomTransformersModel\n",
    "from typing import Optional\n",
    "import torch\n",
    "import yaml\n",
    "import requests\n",
    "from json import loads, dumps"
   ]
  },
  {
   "cell_type": "code",
   "execution_count": 8,
   "id": "8933bef7-056e-458b-8e18-7f9cd1f0fc6b",
   "metadata": {},
   "outputs": [],
   "source": [
    "import os\n",
    "import sys\n",
    "sys.path.append(os.path.abspath(os.path.join(\"..\")))\n",
    "from smolagents import CodeAgent, Model, LiteLLMModel\n",
    "from src.aiagent.utils.ecom_tools import (search_on_amazon,\n",
    "                                          ParserProductDescriptionWithGuideTool, GetProductDescriptionTool,\n",
    "                                          CompareProductTool, FilterProduct, FinalAnswerTool)\n",
    "from src.aiagent.ui.main_gradio import GradioUI\n",
    "import yaml\n",
    "from src.aiagent.core.custom_python_executor import LocalPythonExecutor"
   ]
  },
  {
   "cell_type": "code",
   "execution_count": 2,
   "id": "bd469c4e-7f65-4f3f-9704-bc1c38847f10",
   "metadata": {
    "pycharm": {
     "name": "#%%\n"
    }
   },
   "outputs": [],
   "source": [
    "from utils_tools import (get_price_from_product_url, search_on_amazon,\n",
    "                         ParserProductDescriptionWithGuideTool, GetProductDescriptionTool,\n",
    "                         CompareProductTool, FilterProduct, FinalAnswerTool)"
   ]
  },
  {
   "cell_type": "code",
   "execution_count": 3,
   "id": "d9ada711-c0dd-4034-8e1d-6beb9905d51e",
   "metadata": {
    "pycharm": {
     "name": "#%%\n"
    }
   },
   "outputs": [],
   "source": [
    "from litellm import completion"
   ]
  },
  {
   "cell_type": "code",
   "execution_count": 4,
   "id": "267d7a99-0b9c-49ed-8a13-dac549cc5521",
   "metadata": {
    "pycharm": {
     "name": "#%%\n"
    }
   },
   "outputs": [],
   "source": [
    "with open('secrets.yaml') as f:\n",
    "    SECRETS = yaml.safe_load(f)\n",
    "os.environ[\"HF_TOKEN\"] = SECRETS['hf_token']\n",
    "os.environ[\"GEMINI_API_KEY\"] = SECRETS['gemini_token']"
   ]
  },
  {
   "cell_type": "code",
   "execution_count": 5,
   "id": "f3535c8e-bcad-4d5b-821f-810eb89b975e",
   "metadata": {
    "pycharm": {
     "name": "#%%\n"
    }
   },
   "outputs": [],
   "source": [
    "model = LiteLLMModel(model_id='gemini/gemini-2.0-flash')"
   ]
  },
  {
   "cell_type": "code",
   "execution_count": 6,
   "id": "03778cb6-69ca-41e9-adb1-3de507f52769",
   "metadata": {
    "pycharm": {
     "name": "#%%\n"
    }
   },
   "outputs": [],
   "source": [
    "final_answer = FinalAnswerTool()"
   ]
  },
  {
   "cell_type": "code",
   "execution_count": 6,
   "id": "dad1064c-9b17-4457-b90a-79e79c376473",
   "metadata": {
    "pycharm": {
     "name": "#%%\n"
    }
   },
   "outputs": [],
   "source": [
    "compare_products = CompareProductTool(model)"
   ]
  },
  {
   "cell_type": "code",
   "execution_count": 20,
   "id": "212a37c7-5bf4-44c9-8fe6-125085a27ccb",
   "metadata": {
    "pycharm": {
     "name": "#%%\n"
    }
   },
   "outputs": [
    {
     "name": "stdout",
     "output_type": "stream",
     "text": [
      "[{'product_name': 'RCA TV 32 Pouces (80 cm) sans Bord LED HD Téléviseurs avec Triple Tuner (DVB-T/T2-C-S/S2), HDMI, CI+, Lecteur Multimédia USB, Mode Hôtel, Dolby Audio (NRB32HQ1, 2024)', 'image_url': 'https://m.media-amazon.com/images/I/71RY2UdWBWL._AC_UL320_.jpg', 'product_link': 'https://www.amazon.fr/RCA-T%C3%A9l%C3%A9viseurs-Lecteur-Multim%C3%A9dia-NRB32HQ1/dp/B0D31PQ1SH/ref=sr_1_6?dib=eyJ2IjoiMSJ9.QEUyDt9Z8vIYCGRwKsSgwkn4cvCBfn931_DqH29zif2VxWwo7tfgMS7IwZ7A2ur-OLS1eqh7MMvNADPGgyZ_uBsi73hZQKfonhNSQVs6qu2jAki0ceLboxT3DCzA0rhEUAPfjrVT78lhwRcSQoYC41Jis_NFkYiwi6nhYQ9sK6eAaw1CsQL2dhMRSTnt8JUzyQ6he4dOaO2kwBajO1SB2rieseSJYhb3WGDTT_bD0UBcP1R7nN3_dX0dS82Kt5-F-8i9cQK0ZixaipSPv5Fij7rXVE21N1kaI0qzL3xjw4M.lLMf8bTpAQ-ZXei6_oP4rIySUGfT5FKTFanLN9cjSbQ&dib_tag=se&keywords=TV&qid=1747694146&sr=8-6', 'price': '119,99 €', 'delivery_date': 'Livraison GRATUITE ven. 23 maiOu livraison accélérée jeu. 22 mai'}, {'product_name': 'Smart Tech 24HN01V3 HD LED TV 24 Pouces (60cm) Triple Tuner Dolby Audio H.265 HDMI USB, Résolution: 1366 (H) × 768 (V) Mode Hotel', 'image_url': 'https://m.media-amazon.com/images/I/81x8WbZiisL._AC_UL320_.jpg', 'product_link': 'https://www.amazon.fr/Smart-Tech-24HN01V3-Pouces-R%C3%A9solution/dp/B0DK985HGQ/ref=sr_1_7?dib=eyJ2IjoiMSJ9.QEUyDt9Z8vIYCGRwKsSgwkn4cvCBfn931_DqH29zif2VxWwo7tfgMS7IwZ7A2ur-OLS1eqh7MMvNADPGgyZ_uBsi73hZQKfonhNSQVs6qu2jAki0ceLboxT3DCzA0rhEUAPfjrVT78lhwRcSQoYC41Jis_NFkYiwi6nhYQ9sK6eAaw1CsQL2dhMRSTnt8JUzyQ6he4dOaO2kwBajO1SB2rieseSJYhb3WGDTT_bD0UBcP1R7nN3_dX0dS82Kt5-F-8i9cQK0ZixaipSPv5Fij7rXVE21N1kaI0qzL3xjw4M.lLMf8bTpAQ-ZXei6_oP4rIySUGfT5FKTFanLN9cjSbQ&dib_tag=se&keywords=TV&qid=1747694146&sr=8-7', 'price': '99,90 €', 'delivery_date': 'Livraison à 9,99\\xa0€ sam. 24 mai'}, {'product_name': '[App intégrée] Vidéoprojecteur 2025 Rétroprojecteur Portable Mini Projecteur Dual Contrôle avec Souris Android TV WiFi 6 BT5.2 180° Rotation HDMI/TV Stick/USB/PS5, avec HDMI et Souris', 'image_url': 'https://m.media-amazon.com/images/I/71CpFjB-XVL._AC_UL320_.jpg', 'product_link': 'https://www.amazon.fr/int%C3%A9gr%C3%A9e-Vid%C3%A9oprojecteur-R%C3%A9troprojecteur-Portable-Projecteur/dp/B0DCW3WZ5F/ref=sr_1_8?dib=eyJ2IjoiMSJ9.QEUyDt9Z8vIYCGRwKsSgwkn4cvCBfn931_DqH29zif2VxWwo7tfgMS7IwZ7A2ur-OLS1eqh7MMvNADPGgyZ_uBsi73hZQKfonhNSQVs6qu2jAki0ceLboxT3DCzA0rhEUAPfjrVT78lhwRcSQoYC41Jis_NFkYiwi6nhYQ9sK6eAaw1CsQL2dhMRSTnt8JUzyQ6he4dOaO2kwBajO1SB2rieseSJYhb3WGDTT_bD0UBcP1R7nN3_dX0dS82Kt5-F-8i9cQK0ZixaipSPv5Fij7rXVE21N1kaI0qzL3xjw4M.lLMf8bTpAQ-ZXei6_oP4rIySUGfT5FKTFanLN9cjSbQ&dib_tag=se&keywords=TV&qid=1747694146&sr=8-8', 'price': '79,99 €', 'delivery_date': 'Livraison GRATUITE ven. 23 maiOu livraison accélérée demain 21 mai'}, {'product_name': \"THOMSON 32'' (80 cm) HD - LED Fire TV - Commande vocale Alexa, Support AirPlay, Triple Tuner, Bluetooth, HDMI, Ports USB, AV in et CI+ - 32HF2S34-2024\", 'image_url': 'https://m.media-amazon.com/images/I/81hI2uxguNL._AC_UL320_.jpg', 'product_link': 'https://www.amazon.fr/Thomson-32-80-Bluetooth-32HF2S34-2024/dp/B0DFYLX1Y4/ref=sr_1_9?dib=eyJ2IjoiMSJ9.QEUyDt9Z8vIYCGRwKsSgwkn4cvCBfn931_DqH29zif2VxWwo7tfgMS7IwZ7A2ur-OLS1eqh7MMvNADPGgyZ_uBsi73hZQKfonhNSQVs6qu2jAki0ceLboxT3DCzA0rhEUAPfjrVT78lhwRcSQoYC41Jis_NFkYiwi6nhYQ9sK6eAaw1CsQL2dhMRSTnt8JUzyQ6he4dOaO2kwBajO1SB2rieseSJYhb3WGDTT_bD0UBcP1R7nN3_dX0dS82Kt5-F-8i9cQK0ZixaipSPv5Fij7rXVE21N1kaI0qzL3xjw4M.lLMf8bTpAQ-ZXei6_oP4rIySUGfT5FKTFanLN9cjSbQ&dib_tag=se&keywords=TV&qid=1747694146&sr=8-9', 'price': '159,00 €', 'delivery_date': 'Livraison GRATUITE ven. 23 mai'}, {'product_name': 'Samsung 55Q70D - TV QLED 55 (140 cm) - 4K UHD 3840x2160 - 120 Hz - HDR - Smart TV - Gaming HUB - 4xHDMI - WiFi', 'image_url': 'https://m.media-amazon.com/images/I/711QNu6S4IL._AC_UL320_.jpg', 'product_link': 'https://www.amazon.fr/Samsung-55Q70D-3840x2160-Gaming-4xHDMI/dp/B0CS6KXDGM/ref=sr_1_10_mod_primary_new?dib=eyJ2IjoiMSJ9.QEUyDt9Z8vIYCGRwKsSgwkn4cvCBfn931_DqH29zif2VxWwo7tfgMS7IwZ7A2ur-OLS1eqh7MMvNADPGgyZ_uBsi73hZQKfonhNSQVs6qu2jAki0ceLboxT3DCzA0rhEUAPfjrVT78lhwRcSQoYC41Jis_NFkYiwi6nhYQ9sK6eAaw1CsQL2dhMRSTnt8JUzyQ6he4dOaO2kwBajO1SB2rieseSJYhb3WGDTT_bD0UBcP1R7nN3_dX0dS82Kt5-F-8i9cQK0ZixaipSPv5Fij7rXVE21N1kaI0qzL3xjw4M.lLMf8bTpAQ-ZXei6_oP4rIySUGfT5FKTFanLN9cjSbQ&dib_tag=se&keywords=TV&qid=1747694146&sbo=RZvfv%2F%2FHxDF%2BO5021pAnSA%3D%3D&sr=8-10', 'price': '642,40 €', 'delivery_date': 'Livraison GRATUITE jeu. 22 mai'}]\n"
     ]
    }
   ],
   "source": [
    "tv_search_results = search_on_amazon(keyword=\"TV\")\n",
    "print(tv_search_results)"
   ]
  },
  {
   "cell_type": "code",
   "execution_count": 12,
   "id": "d27b9344-8dfb-45c7-b72d-3d049c725141",
   "metadata": {
    "pycharm": {
     "name": "#%%\n"
    }
   },
   "outputs": [],
   "source": [
    "comparison_table = compare_products(tv_search_results)"
   ]
  },
  {
   "cell_type": "code",
   "execution_count": 13,
   "id": "65d85445-b6bb-413f-ab25-3e64d827756c",
   "metadata": {
    "pycharm": {
     "name": "#%%\n"
    }
   },
   "outputs": [
    {
     "data": {
      "text/html": [
       "<div>\n",
       "<style scoped>\n",
       "    .dataframe tbody tr th:only-of-type {\n",
       "        vertical-align: middle;\n",
       "    }\n",
       "\n",
       "    .dataframe tbody tr th {\n",
       "        vertical-align: top;\n",
       "    }\n",
       "\n",
       "    .dataframe thead th {\n",
       "        text-align: right;\n",
       "    }\n",
       "</style>\n",
       "<table border=\"1\" class=\"dataframe\">\n",
       "  <thead>\n",
       "    <tr style=\"text-align: right;\">\n",
       "      <th></th>\n",
       "      <th>0</th>\n",
       "    </tr>\n",
       "  </thead>\n",
       "  <tbody>\n",
       "    <tr>\n",
       "      <th>0</th>\n",
       "      <td>{'product_name': 'RCA TV 32 Pouces (80 cm) LED...</td>\n",
       "    </tr>\n",
       "    <tr>\n",
       "      <th>1</th>\n",
       "      <td>{'product_name': 'Smart Tech 24HN01V3 HD LED T...</td>\n",
       "    </tr>\n",
       "    <tr>\n",
       "      <th>2</th>\n",
       "      <td>{'product_name': '[App intégrée] Vidéoprojecte...</td>\n",
       "    </tr>\n",
       "    <tr>\n",
       "      <th>3</th>\n",
       "      <td>{'product_name': 'THOMSON 32'' HD LED Fire TV ...</td>\n",
       "    </tr>\n",
       "    <tr>\n",
       "      <th>4</th>\n",
       "      <td>{'product_name': 'TD Systems Smart TV 40 Pouce...</td>\n",
       "    </tr>\n",
       "  </tbody>\n",
       "</table>\n",
       "</div>"
      ],
      "text/plain": [
       "                                                   0\n",
       "0  {'product_name': 'RCA TV 32 Pouces (80 cm) LED...\n",
       "1  {'product_name': 'Smart Tech 24HN01V3 HD LED T...\n",
       "2  {'product_name': '[App intégrée] Vidéoprojecte...\n",
       "3  {'product_name': 'THOMSON 32'' HD LED Fire TV ...\n",
       "4  {'product_name': 'TD Systems Smart TV 40 Pouce..."
      ]
     },
     "execution_count": 13,
     "metadata": {},
     "output_type": "execute_result"
    }
   ],
   "source": [
    "comparison_table"
   ]
  },
  {
   "cell_type": "code",
   "execution_count": 11,
   "id": "37f8c1d8-cc17-443b-882c-7834e3c6ae3f",
   "metadata": {
    "pycharm": {
     "name": "#%%\n"
    }
   },
   "outputs": [
    {
     "data": {
      "text/plain": [
       "('blabla',\n",
       "                                                    0\n",
       " 0  {'product_name': 'RCA TV 32 Pouces (80 cm) LED...\n",
       " 1  {'product_name': 'Smart Tech 24HN01V3 HD LED T...\n",
       " 2  {'product_name': 'VidéoProjecteur Portable Min...\n",
       " 3  {'product_name': 'THOMSON 32'' HD - LED Fire T...\n",
       " 4  {'product_name': 'Samsung 55Q70D - TV QLED 55 ...)"
      ]
     },
     "execution_count": 11,
     "metadata": {},
     "output_type": "execute_result"
    }
   ],
   "source": [
    "final_answer('blabla', comparison_table)"
   ]
  },
  {
   "cell_type": "code",
   "execution_count": 27,
   "id": "c87bd313-cdcc-48ca-acf7-04122abc92a8",
   "metadata": {
    "pycharm": {
     "name": "#%%\n"
    }
   },
   "outputs": [],
   "source": [
    "product_description = tv_search_results[0]"
   ]
  },
  {
   "cell_type": "code",
   "execution_count": 28,
   "id": "9f01cfc2-2186-4e6b-b3ff-a02bee8bf8b9",
   "metadata": {
    "pycharm": {
     "name": "#%%\n"
    }
   },
   "outputs": [
    {
     "data": {
      "text/plain": [
       "{'product_name': 'RCA TV 32 Pouces (80 cm) sans Bord LED HD Téléviseurs avec Triple Tuner (DVB-T/T2-C-S/S2), HDMI, CI+, Lecteur Multimédia USB, Mode Hôtel, Dolby Audio (NRB32HQ1, 2024)',\n",
       " 'image_url': 'https://m.media-amazon.com/images/I/71RY2UdWBWL._AC_UL320_.jpg',\n",
       " 'product_link': 'https://www.amazon.fr/RCA-T%C3%A9l%C3%A9viseurs-Lecteur-Multim%C3%A9dia-NRB32HQ1/dp/B0D31PQ1SH/ref=sr_1_6?dib=eyJ2IjoiMSJ9.QEUyDt9Z8vIYCGRwKsSgwkn4cvCBfn931_DqH29zif2VxWwo7tfgMS7IwZ7A2ur-OLS1eqh7MMvNADPGgyZ_uBsi73hZQKfonhNSQVs6qu2jAki0ceLboxT3DCzA0rhEUAPfjrVT78lhwRcSQoYC41Jis_NFkYiwi6nhYQ9sK6eAaw1CsQL2dhMRSTnt8JUzyQ6he4dOaO2kwBajO1SB2rieseSJYhb3WGDTT_bD0UBcP1R7nN3_dX0dS82Kt5-F-8i9cQK0ZixaipSPv5Fij7rXVE21N1kaI0qzL3xjw4M.lLMf8bTpAQ-ZXei6_oP4rIySUGfT5FKTFanLN9cjSbQ&dib_tag=se&keywords=TV&qid=1747694146&sr=8-6',\n",
       " 'price': '119,99 €',\n",
       " 'delivery_date': 'Livraison GRATUITE ven. 23 maiOu livraison accélérée jeu. 22 mai'}"
      ]
     },
     "execution_count": 28,
     "metadata": {},
     "output_type": "execute_result"
    }
   ],
   "source": [
    "product_description"
   ]
  },
  {
   "cell_type": "code",
   "execution_count": 21,
   "id": "17bbb486-aabb-4ffd-b236-3a80832257cb",
   "metadata": {
    "pycharm": {
     "name": "#%%\n"
    }
   },
   "outputs": [],
   "source": [
    "model = LiteLLMModel(model_id='gemini/gemini-2.0-flash')"
   ]
  },
  {
   "cell_type": "code",
   "execution_count": null,
   "id": "1dfbe5bd-d069-496f-b7d8-93d0dfe6ac9f",
   "metadata": {
    "pycharm": {
     "name": "#%%\n"
    }
   },
   "outputs": [],
   "source": []
  },
  {
   "cell_type": "code",
   "execution_count": 29,
   "id": "aa588dbb-016c-4cbf-9216-2a556175b018",
   "metadata": {
    "pycharm": {
     "name": "#%%\n"
    }
   },
   "outputs": [],
   "source": [
    "messages = [{\"role\": \"system\",\n",
    "                     \"content\": (\"Tu es un super assistant très fort pour resumer et structurer des json.\"\n",
    "                                 \"Je vais te fournir un json et tu vas faire en sorte qu'aucune valeur de clef soit superieur à 50 characère.\"\n",
    "                                 \"Tu as le droit de resumer pour conserver que les informations principales mais tu nas pas le droit de toucher les champs qui sont des urls, tu les rends tel quel sans les affecter.\"\n",
    "                                 \"Ne change pas la structure du json, il ne doit pas manquer de clef qui étaient presentent initialement ni etre renommé\"\n",
    "                                 \"concernant les champs de livraison, je veux que tu ne conserve que la date la plus courte de livraison sous le format jour mois\")},\n",
    "                    {\"role\": \"user\", \"content\": f\"met moi en forme ce json stp : {product_description}\"}]"
   ]
  },
  {
   "cell_type": "code",
   "execution_count": 33,
   "id": "159b19a1-e304-46c9-bf22-35e4c58fd67d",
   "metadata": {
    "pycharm": {
     "name": "#%%\n"
    }
   },
   "outputs": [
    {
     "ename": "SyntaxError",
     "evalue": "invalid character '…' (U+2026) (3676893262.py, line 1)",
     "output_type": "error",
     "traceback": [
      "  \u001B[36mCell\u001B[39m\u001B[36m \u001B[39m\u001B[32mIn[33]\u001B[39m\u001B[32m, line 1\u001B[39m\n\u001B[31m    \u001B[39m\u001B[31mres = model(messages, response_format={ \"type\": \"json_schema\", \"json_schema\": … , \"strict\": true }).content\u001B[39m\n                                                                                  ^\n\u001B[31mSyntaxError\u001B[39m\u001B[31m:\u001B[39m invalid character '…' (U+2026)\n"
     ]
    }
   ],
   "source": [
    "res = model(messages, response_format={\"type\": \"json\"}).content"
   ]
  },
  {
   "cell_type": "code",
   "execution_count": 31,
   "id": "0c3e6ee6-d489-4d09-b455-24c2aa59fc2f",
   "metadata": {
    "pycharm": {
     "name": "#%%\n"
    }
   },
   "outputs": [
    {
     "data": {
      "text/plain": [
       "{'product_name': 'RCA TV 32 Pouces (80 cm) sans Bord LED HD Téléviseurs avec Triple Tuner (DVB-T/T2-C-S/S2), HDMI, CI+, Lecteur Multimédia USB, Mode Hôtel, Dolby Audio (NRB32HQ1, 2024)',\n",
       " 'image_url': 'https://m.media-amazon.com/images/I/71RY2UdWBWL._AC_UL320_.jpg',\n",
       " 'product_link': 'https://www.amazon.fr/RCA-T%C3%A9l%C3%A9viseurs-Lecteur-Multim%C3%A9dia-NRB32HQ1/dp/B0D31PQ1SH/ref=sr_1_6?dib=eyJ2IjoiMSJ9.QEUyDt9Z8vIYCGRwKsSgwkn4cvCBfn931_DqH29zif2VxWwo7tfgMS7IwZ7A2ur-OLS1eqh7MMvNADPGgyZ_uBsi73hZQKfonhNSQVs6qu2jAki0ceLboxT3DCzA0rhEUAPfjrVT78lhwRcSQoYC41Jis_NFkYiwi6nhYQ9sK6eAaw1CsQL2dhMRSTnt8JUzyQ6he4dOaO2kwBajO1SB2rieseSJYhb3WGDTT_bD0UBcP1R7nN3_dX0dS82Kt5-F-8i9cQK0ZixaipSPv5Fij7rXVE21N1kaI0qzL3xjw4M.lLMf8bTpAQ-ZXei6_oP4rIySUGfT5FKTFanLN9cjSbQ&dib_tag=se&keywords=TV&qid=1747694146&sr=8-6',\n",
       " 'price': '119,99 €',\n",
       " 'delivery_date': 'Livraison GRATUITE ven. 23 maiOu livraison accélérée jeu. 22 mai'}"
      ]
     },
     "execution_count": 31,
     "metadata": {},
     "output_type": "execute_result"
    }
   ],
   "source": [
    "product_description"
   ]
  },
  {
   "cell_type": "code",
   "execution_count": 39,
   "id": "1669a5f6-5cba-45c7-88d0-ec088e7248ba",
   "metadata": {
    "pycharm": {
     "name": "#%%\n"
    }
   },
   "outputs": [
    {
     "data": {
      "text/plain": [
       "'```\\n{\\n  \"product_name\": \"RCA TV 32 Pouces LED HD Triple Tuner HDMI USB Dolby\",\\n  \"image_url\": \"https://m.media-amazon.com/images/I/71RY2UdWBWL._AC_UL320_.jpg\",\\n  \"product_link\": \"https://www.amazon.fr/RCA-T%C3%A9l%C3%A9viseurs-Lecteur-Multim%C3%A9dia-NRB32HQ1/dp/B0D31PQ1SH/ref=sr_1_6?dib=eyJ2IjoiMSJ9.QEUyDt9Z8vIYCGRwKsSgwkn4cvCBfn931_DqH29zif2VxWwo7tfgMS7IwZ7A2ur-OLS1eqh7MMvNADPGgyZ_uBsi73hZQKfonhNSQVs6qu2jAki0ceLboxT3DCzA0rhEUAPfjrVT78lhwRcSQoYC41Jis_NFkYiwi6nhYQ9sK6eAaw1CsQL2dhMRSTnt8JUzyQ6he4dOaO2kwBajO1SB2rieseSJYhb3WGDTT_bD0UBcP1R7nN3_dX0dS82Kt5-F-8i9cQK0ZixaipSPv5Fij7rXVE21N1kaI0qzL3xjw4M.lLMf8bTpAQ-ZXei6_oP4rIySUGfT5FKTFanLN9cjSbQ&dib_tag=se&keywords=TV&qid=1747694146&sr=8-6\",\\n  \"price\": \"119,99 €\",\\n  \"delivery_date\": \"22 mai\"\\n}\\n```'"
      ]
     },
     "execution_count": 39,
     "metadata": {},
     "output_type": "execute_result"
    }
   ],
   "source": [
    "res.replace('json', '', 1)"
   ]
  },
  {
   "cell_type": "code",
   "execution_count": null,
   "id": "c593d8de-0019-47e8-8ce2-35a5bf9c6432",
   "metadata": {},
   "outputs": [],
   "source": []
  },
  {
   "cell_type": "code",
   "execution_count": null,
   "id": "221815ae-f4ac-4b13-9e26-983725cc2909",
   "metadata": {},
   "outputs": [],
   "source": []
  },
  {
   "cell_type": "code",
   "execution_count": null,
   "id": "370b2fae-522a-471e-8af6-b2a4a1b323ca",
   "metadata": {},
   "outputs": [],
   "source": []
  },
  {
   "cell_type": "code",
   "execution_count": 19,
   "id": "61ce0645-7451-479d-a026-a75f3fe84ac3",
   "metadata": {},
   "outputs": [],
   "source": [
    "model = LiteLLMModel(model_id='gemini/gemini-2.0-flash')\n",
    "\n",
    "with open('../config/secrets.yaml') as f:\n",
    "    SECRETS = yaml.safe_load(f)\n",
    "\n",
    "# os.environ['HF_HOME'] = '/home/ayoub/llm_models'\n",
    "os.environ['GEMINI_API_KEY'] = SECRETS['gemini_token']"
   ]
  },
  {
   "cell_type": "code",
   "execution_count": 20,
   "id": "0d26f8cc-af78-43d8-8b34-f85e688969f7",
   "metadata": {},
   "outputs": [],
   "source": [
    "filter_product = FilterProduct(model)"
   ]
  },
  {
   "cell_type": "code",
   "execution_count": 9,
   "id": "79a334b6-051d-41cd-a631-1d1afc13078d",
   "metadata": {
    "pycharm": {
     "name": "#%%\n"
    }
   },
   "outputs": [],
   "source": [
    "import time                                                                                                                                                                           \n",
    "from datetime import date, timedelta                                                                                                                                                  \n",
    "                                                                                                                                                                                    \n",
    "today = date.today()                                                                                                                                                                  \n",
    "next_weekend_start = today + timedelta((6 - today.weekday()) % 7)  # Saturday                                                                                                         \n",
    "next_weekend_end = next_weekend_start + timedelta(days=1)  # Sunday     "
   ]
  },
  {
   "cell_type": "code",
   "execution_count": null,
   "outputs": [],
   "source": [
    "today "
   ],
   "metadata": {
    "collapsed": false,
    "pycharm": {
     "name": "#%%\n"
    }
   }
  },
  {
   "cell_type": "code",
   "execution_count": null,
   "outputs": [],
   "source": [
    "timedelta((6 - today.weekday()) % 7)"
   ],
   "metadata": {
    "collapsed": false,
    "pycharm": {
     "name": "#%%\n"
    }
   }
  },
  {
   "cell_type": "code",
   "execution_count": null,
   "outputs": [],
   "source": [
    "next_weekend_start"
   ],
   "metadata": {
    "collapsed": false,
    "pycharm": {
     "name": "#%%\n"
    }
   }
  },
  {
   "cell_type": "code",
   "execution_count": 32,
   "id": "280a145e-73d9-451f-b77d-d9aef7632a6e",
   "metadata": {},
   "outputs": [
    {
     "data": {
      "text/plain": [
       "datetime.timedelta(days=2)"
      ]
     },
     "execution_count": 32,
     "metadata": {},
     "output_type": "execute_result"
    }
   ],
   "source": [
    "timedelta((6 - today.weekday()) % 7)"
   ]
  },
  {
   "cell_type": "code",
   "execution_count": 10,
   "id": "693db58a-f914-4806-8a36-f6f4c50ce85e",
   "metadata": {},
   "outputs": [
    {
     "data": {
      "text/plain": [
       "datetime.date(2025, 6, 1)"
      ]
     },
     "execution_count": 10,
     "metadata": {},
     "output_type": "execute_result"
    }
   ],
   "source": [
    "next_weekend_start"
   ]
  },
  {
   "cell_type": "code",
   "execution_count": 11,
   "id": "a033e5e2-f906-4393-8a09-b5f36f1600e7",
   "metadata": {},
   "outputs": [
    {
     "name": "stdout",
     "output_type": "stream",
     "text": [
      "Today is 2025-05-30, next weekend is 2025-06-01 - 2025-06-02\n"
     ]
    }
   ],
   "source": [
    "print(f\"Today is {today}, next weekend is {next_weekend_start} - {next_weekend_end}\")  "
   ]
  },
  {
   "cell_type": "code",
   "execution_count": 12,
   "id": "1cee6370-f25d-4911-888f-a247a159feaa",
   "metadata": {},
   "outputs": [],
   "source": [
    "delivery_before = next_weekend_start.strftime(\"%d %B\")"
   ]
  },
  {
   "cell_type": "code",
   "execution_count": 13,
   "id": "914c7cde-ffd2-4322-9669-1c3409617522",
   "metadata": {},
   "outputs": [
    {
     "data": {
      "text/plain": [
       "'01 June'"
      ]
     },
     "execution_count": 13,
     "metadata": {},
     "output_type": "execute_result"
    }
   ],
   "source": [
    "delivery_before"
   ]
  },
  {
   "cell_type": "code",
   "execution_count": 14,
   "id": "742c4ec8-0dfd-42d5-84c3-334b87925cda",
   "metadata": {},
   "outputs": [],
   "source": [
    "wedding_dresses = search_on_amazon(keyword=\"black dress for wedding\")   "
   ]
  },
  {
   "cell_type": "code",
   "execution_count": 15,
   "id": "dc7801ca-8770-434a-a652-29c8b9158377",
   "metadata": {},
   "outputs": [
    {
     "data": {
      "text/plain": [
       "[{'product_name': 'Anaya with Love',\n",
       "  'image_url': 'https://m.media-amazon.com/images/I/61BhxrOZfBL._AC_UL320_.jpg',\n",
       "  'product_link': 'https://www.amazon.fr/Anaya-Love-Shoulder-Sleeveless-Bridesmaid/dp/B0DCFXSCD4/ref=sr_1_6?dib=eyJ2IjoiMSJ9.a42FcJQfuAJjh9eO9WqL2iG0jEpU2KQatLUToZ8i8uMncCDukkbwb_WxYIB8FnP-733j-OeclesSgGt9X5TyGkFzjcVotvfELM9Z8g1PFXPEpXRfsYrFWBLRtBGUmZ9qETUwWk3A89Y_Xkrk44i4Omq4CnY4rL601RSPxZ-Hl3g0BLNygBRmmtDOWszDKjBtiX8utFGj7CxpWCk_L5XHV-A5EVeU0dTgJtZUH6rk0I5YOFPp0tVTjeApshYjpBQnP6YdId4d6MUWIEBI-Y_bnbtRFAtLb1AwlfoFnayCr9Q.PvDm-ZziCMHKn0Uge2ZThRngH4obnS8OKNq7JTm-BOA&dib_tag=se&keywords=black+dress+for+wedding&qid=1748609326&sr=8-6',\n",
       "  'price': '69,99 €',\n",
       "  'delivery_date': ' Livraison GRATUITE mar. 3 juin '},\n",
       " {'product_name': 'ShinyBeauty',\n",
       "  'image_url': 'https://m.media-amazon.com/images/I/81k0tLRgQML._AC_UL320_.jpg',\n",
       "  'product_link': 'https://www.amazon.fr/ShinyBeauty-tissu-paillettes-m%C3%A8tre-Argent/dp/B01LZQMMBP/ref=sr_1_7?dib=eyJ2IjoiMSJ9.a42FcJQfuAJjh9eO9WqL2iG0jEpU2KQatLUToZ8i8uMncCDukkbwb_WxYIB8FnP-733j-OeclesSgGt9X5TyGkFzjcVotvfELM9Z8g1PFXPEpXRfsYrFWBLRtBGUmZ9qETUwWk3A89Y_Xkrk44i4Omq4CnY4rL601RSPxZ-Hl3g0BLNygBRmmtDOWszDKjBtiX8utFGj7CxpWCk_L5XHV-A5EVeU0dTgJtZUH6rk0I5YOFPp0tVTjeApshYjpBQnP6YdId4d6MUWIEBI-Y_bnbtRFAtLb1AwlfoFnayCr9Q.PvDm-ZziCMHKn0Uge2ZThRngH4obnS8OKNq7JTm-BOA&dib_tag=se&keywords=black+dress+for+wedding&qid=1748609326&sr=8-7',\n",
       "  'price': '11,97 €',\n",
       "  'delivery_date': 'Livraison GRATUITE mer. 4 juin pour votre première commandeOu livraison accélérée mar. 3 juin Arrive avant la fête des pères'},\n",
       " {'product_name': 'Anaya with Love',\n",
       "  'image_url': 'https://m.media-amazon.com/images/I/61TJVSdKUaL._AC_UL320_.jpg',\n",
       "  'product_link': 'https://www.amazon.fr/Anaya-Love-Sleeveless-Evening-Bridesmaid/dp/B0DCKBS6K8/ref=sr_1_8?dib=eyJ2IjoiMSJ9.a42FcJQfuAJjh9eO9WqL2iG0jEpU2KQatLUToZ8i8uMncCDukkbwb_WxYIB8FnP-733j-OeclesSgGt9X5TyGkFzjcVotvfELM9Z8g1PFXPEpXRfsYrFWBLRtBGUmZ9qETUwWk3A89Y_Xkrk44i4Omq4CnY4rL601RSPxZ-Hl3g0BLNygBRmmtDOWszDKjBtiX8utFGj7CxpWCk_L5XHV-A5EVeU0dTgJtZUH6rk0I5YOFPp0tVTjeApshYjpBQnP6YdId4d6MUWIEBI-Y_bnbtRFAtLb1AwlfoFnayCr9Q.PvDm-ZziCMHKn0Uge2ZThRngH4obnS8OKNq7JTm-BOA&dib_tag=se&keywords=black+dress+for+wedding&qid=1748609326&sr=8-8',\n",
       "  'price': '62,37 €',\n",
       "  'delivery_date': ' Livraison GRATUITE mer. 4 juin '},\n",
       " {'product_name': 'Maya Deluxe',\n",
       "  'image_url': 'https://m.media-amazon.com/images/I/61H0lqPnJSL._AC_UL320_.jpg',\n",
       "  'product_link': 'https://www.amazon.fr/Maya-Deluxe-Wedding-Evening-Bridesmaid/dp/B0BYK3HBHS/ref=sr_1_9?dib=eyJ2IjoiMSJ9.a42FcJQfuAJjh9eO9WqL2iG0jEpU2KQatLUToZ8i8uMncCDukkbwb_WxYIB8FnP-733j-OeclesSgGt9X5TyGkFzjcVotvfELM9Z8g1PFXPEpXRfsYrFWBLRtBGUmZ9qETUwWk3A89Y_Xkrk44i4Omq4CnY4rL601RSPxZ-Hl3g0BLNygBRmmtDOWszDKjBtiX8utFGj7CxpWCk_L5XHV-A5EVeU0dTgJtZUH6rk0I5YOFPp0tVTjeApshYjpBQnP6YdId4d6MUWIEBI-Y_bnbtRFAtLb1AwlfoFnayCr9Q.PvDm-ZziCMHKn0Uge2ZThRngH4obnS8OKNq7JTm-BOA&dib_tag=se&keywords=black+dress+for+wedding&qid=1748609326&sr=8-9',\n",
       "  'price': '92,33 €',\n",
       "  'delivery_date': ' Livraison GRATUITE jeu. 5 juin '},\n",
       " {'product_name': 'Générique',\n",
       "  'image_url': 'https://m.media-amazon.com/images/I/51mMCXRliTL._AC_UL320_.jpg',\n",
       "  'product_link': 'https://www.amazon.fr/G%C3%A9n%C3%A9rique-Cocktail-Dresses-Flutter-Wedding/dp/B0F9PLMNWY/ref=sr_1_10?dib=eyJ2IjoiMSJ9.a42FcJQfuAJjh9eO9WqL2iG0jEpU2KQatLUToZ8i8uMncCDukkbwb_WxYIB8FnP-733j-OeclesSgGt9X5TyGkFzjcVotvfELM9Z8g1PFXPEpXRfsYrFWBLRtBGUmZ9qETUwWk3A89Y_Xkrk44i4Omq4CnY4rL601RSPxZ-Hl3g0BLNygBRmmtDOWszDKjBtiX8utFGj7CxpWCk_L5XHV-A5EVeU0dTgJtZUH6rk0I5YOFPp0tVTjeApshYjpBQnP6YdId4d6MUWIEBI-Y_bnbtRFAtLb1AwlfoFnayCr9Q.PvDm-ZziCMHKn0Uge2ZThRngH4obnS8OKNq7JTm-BOA&dib_tag=se&keywords=black+dress+for+wedding&qid=1748609326&sr=8-10',\n",
       "  'price': '41,99 €',\n",
       "  'delivery_date': 'Livraison GRATUITE 14 - 20 juin '}]"
      ]
     },
     "execution_count": 15,
     "metadata": {},
     "output_type": "execute_result"
    }
   ],
   "source": [
    "wedding_dresses"
   ]
  },
  {
   "cell_type": "code",
   "execution_count": 21,
   "id": "5314cda2-78d4-41f1-a802-2ba431c3e142",
   "metadata": {},
   "outputs": [],
   "source": [
    "filter_condition = f\"suitable for a wedding and must be delivered before {delivery_before}\"                                                                                           \n",
    "filtered_wedding_dresses = filter_product(wedding_dresses, filter_condition)    "
   ]
  },
  {
   "cell_type": "code",
   "execution_count": 23,
   "id": "74700558-c786-4db6-a14b-f8b974047ba9",
   "metadata": {},
   "outputs": [
    {
     "data": {
      "text/plain": [
       "[]"
      ]
     },
     "execution_count": 23,
     "metadata": {},
     "output_type": "execute_result"
    }
   ],
   "source": [
    "filtered_wedding_dresses"
   ]
  },
  {
   "cell_type": "code",
   "execution_count": 28,
   "id": "dddb68f9-a498-442d-8178-095966cd3a4b",
   "metadata": {},
   "outputs": [],
   "source": [
    "def check_condition(product, condition):\n",
    "\n",
    "    messages = [\n",
    "                {\"role\": \"system\", \"content\": (\n",
    "                    \"Tu es un assistant chargé d'évaluer si un produit respecte une condition utilisateur.\"\n",
    "                    \"Tu vas recevoir un produit sous forme de dictionnaire, et une condition.\"\n",
    "                    \"Tu dois répondre uniquement par 'oui' ou 'non', selon que le produit satisfait la condition ou non en t'aidant des differents champs du dictionnaire.\"\n",
    "                    \"Explique moi à chaque fois pourquoi ta réponse\"\n",
    "                )},\n",
    "                {\"role\": \"user\", \"content\": f\"Produit : {product}\\n Condition : {condition}\"}\n",
    "            ]\n",
    "\n",
    "    result = model(messages).content.strip().lower()\n",
    "\n",
    "    return result"
   ]
  },
  {
   "cell_type": "code",
   "execution_count": 29,
   "id": "3cd549c9-52e3-4b82-b4de-62df89676964",
   "metadata": {},
   "outputs": [
    {
     "data": {
      "text/plain": [
       "'non. la date de livraison (3 juin) est après le 1er juin.'"
      ]
     },
     "execution_count": 29,
     "metadata": {},
     "output_type": "execute_result"
    }
   ],
   "source": [
    "check_condition(wedding_dresses[0], filter_condition)"
   ]
  },
  {
   "cell_type": "code",
   "execution_count": 30,
   "id": "0e02bba1-0bb0-4ff1-bf6e-834001698dbb",
   "metadata": {},
   "outputs": [
    {
     "data": {
      "text/plain": [
       "{'product_name': 'Anaya with Love',\n",
       " 'image_url': 'https://m.media-amazon.com/images/I/61BhxrOZfBL._AC_UL320_.jpg',\n",
       " 'product_link': 'https://www.amazon.fr/Anaya-Love-Shoulder-Sleeveless-Bridesmaid/dp/B0DCFXSCD4/ref=sr_1_6?dib=eyJ2IjoiMSJ9.a42FcJQfuAJjh9eO9WqL2iG0jEpU2KQatLUToZ8i8uMncCDukkbwb_WxYIB8FnP-733j-OeclesSgGt9X5TyGkFzjcVotvfELM9Z8g1PFXPEpXRfsYrFWBLRtBGUmZ9qETUwWk3A89Y_Xkrk44i4Omq4CnY4rL601RSPxZ-Hl3g0BLNygBRmmtDOWszDKjBtiX8utFGj7CxpWCk_L5XHV-A5EVeU0dTgJtZUH6rk0I5YOFPp0tVTjeApshYjpBQnP6YdId4d6MUWIEBI-Y_bnbtRFAtLb1AwlfoFnayCr9Q.PvDm-ZziCMHKn0Uge2ZThRngH4obnS8OKNq7JTm-BOA&dib_tag=se&keywords=black+dress+for+wedding&qid=1748609326&sr=8-6',\n",
       " 'price': '69,99 €',\n",
       " 'delivery_date': ' Livraison GRATUITE mar. 3 juin '}"
      ]
     },
     "execution_count": 30,
     "metadata": {},
     "output_type": "execute_result"
    }
   ],
   "source": [
    "wedding_dresses[0]"
   ]
  },
  {
   "cell_type": "code",
   "execution_count": null,
   "id": "3a9358b9-d459-4b55-aabb-98eb5492d544",
   "metadata": {},
   "outputs": [],
   "source": [
    "filtered_products = []\n",
    "\n",
    "for product in list_product_element:\n",
    "    try:\n",
    "        if self._check_condition_with_llm(product, condition):\n",
    "            filtered_products.append(product)\n",
    "    except Exception as e:\n",
    "        # Log ou passer en silence\n",
    "        continue\n"
   ]
  }
 ],
 "metadata": {
  "kernelspec": {
   "display_name": "Python 3 (ipykernel)",
   "language": "python",
   "name": "python3"
  },
  "language_info": {
   "codemirror_mode": {
    "name": "ipython",
    "version": 3
   },
   "file_extension": ".py",
   "mimetype": "text/x-python",
   "name": "python",
   "nbconvert_exporter": "python",
   "pygments_lexer": "ipython3",
   "version": "3.11.0"
  }
 },
 "nbformat": 4,
 "nbformat_minor": 5
}